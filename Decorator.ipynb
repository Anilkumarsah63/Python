{
 "cells": [
  {
   "cell_type": "code",
   "execution_count": 2,
   "id": "fdb99ad7",
   "metadata": {},
   "outputs": [
    {
     "name": "stdout",
     "output_type": "stream",
     "text": [
      "Hello Anil\n"
     ]
    }
   ],
   "source": [
    "def outer_function():\n",
    "    value = 'Hello Anil'\n",
    "    \n",
    "    def inner_function():\n",
    "        print(value)\n",
    "    return inner_function()\n",
    "outer_function()"
   ]
  },
  {
   "cell_type": "code",
   "execution_count": 4,
   "id": "c3fa4ae3",
   "metadata": {},
   "outputs": [
    {
     "name": "stdout",
     "output_type": "stream",
     "text": [
      "Hello Anil\n"
     ]
    }
   ],
   "source": [
    "value = 'Hello Anil'\n",
    "def outer_function(x):    \n",
    "    \n",
    "    def inner_function():\n",
    "        print(x)\n",
    "    return inner_function()\n",
    "outer_function(value)"
   ]
  },
  {
   "cell_type": "code",
   "execution_count": 5,
   "id": "626765c7",
   "metadata": {},
   "outputs": [
    {
     "name": "stdout",
     "output_type": "stream",
     "text": [
      "Hello Anil\n"
     ]
    }
   ],
   "source": [
    "def outer_function(fun):    \n",
    "    \n",
    "    def inner_function():\n",
    "        x =fun()\n",
    "    return inner_function()\n",
    "\n",
    "@outer_function\n",
    "def hello():\n",
    "    print('Hello Anil')"
   ]
  },
  {
   "cell_type": "code",
   "execution_count": 10,
   "id": "3c5e9f73",
   "metadata": {},
   "outputs": [
    {
     "name": "stdout",
     "output_type": "stream",
     "text": [
      "Hello Anil\n"
     ]
    }
   ],
   "source": [
    "def outer_anil(anil):    \n",
    "    \n",
    "    def inner_function():\n",
    "        x =fun()\n",
    "    return inner_function()\n",
    "\n",
    "@outer_function\n",
    "def hello():\n",
    "    print('Hello Anil')"
   ]
  },
  {
   "cell_type": "code",
   "execution_count": 7,
   "id": "abde2a69",
   "metadata": {},
   "outputs": [
    {
     "data": {
      "text/plain": [
       "'hello anil'"
      ]
     },
     "execution_count": 7,
     "metadata": {},
     "output_type": "execute_result"
    }
   ],
   "source": [
    "def strings(function):\n",
    "    def wrapper():\n",
    "        fun = function()\n",
    "        x = fun.lower()\n",
    "        return x\n",
    "    \n",
    "    return wrapper\n",
    "\n",
    "@strings\n",
    "def info():\n",
    "    return 'Hello Anil'\n",
    "\n",
    "info()"
   ]
  },
  {
   "cell_type": "code",
   "execution_count": 7,
   "id": "2c14d988",
   "metadata": {},
   "outputs": [
    {
     "name": "stdout",
     "output_type": "stream",
     "text": [
      "Parrot can Fly\n",
      "Penguin can't Fly\n"
     ]
    }
   ],
   "source": [
    "class Parrot:\n",
    "    def fly(self):\n",
    "        print('Parrot can Fly')\n",
    "    def swim(self):\n",
    "        print(\"Parrot can't Swim\")\n",
    "        \n",
    "class Penguin:\n",
    "    def fly(self):\n",
    "        print(\"Penguin can't Fly\")\n",
    "    def swim(self):\n",
    "        print('Penguin can Swim')\n",
    "        \n",
    "#common interface\n",
    "\n",
    "def flying_test(bird):\n",
    "     bird.fly()\n",
    "    \n",
    "#instantiate objects\n",
    "\n",
    "blu = Parrot()\n",
    "peggy = Penguin()\n",
    "\n",
    "#passing the object\n",
    "\n",
    "flying_test(blu)\n",
    "flying_test(peggy)"
   ]
  },
  {
   "cell_type": "code",
   "execution_count": 11,
   "id": "2550ee2f",
   "metadata": {},
   "outputs": [
    {
     "name": "stdout",
     "output_type": "stream",
     "text": [
      "Anil can Read Book\n",
      "Parrot can fly\n",
      "Parrot can't Read Book\n",
      "Parrot can fly\n"
     ]
    }
   ],
   "source": [
    "class Anil:\n",
    "    def read(self):\n",
    "        print('Anil can Read Book')\n",
    "    def fly(self):\n",
    "        print(\"Anil can't fly\")\n",
    "        \n",
    "class Parrot:\n",
    "    def read(self):\n",
    "        print(\"Parrot can't Read Book\")\n",
    "    def fly(self):\n",
    "        print('Parrot can fly')\n",
    "        \n",
    "def read_test(study):\n",
    "    study.read()\n",
    "    sky.fly()\n",
    "    \n",
    "    \n",
    "ai = Anil()\n",
    "blu = Parrot()\n",
    "\n",
    "read_test(ai)\n",
    "read_test(blu)\n",
    "\n",
    "    \n",
    "    \n",
    "    "
   ]
  },
  {
   "cell_type": "code",
   "execution_count": null,
   "id": "21daf655",
   "metadata": {},
   "outputs": [],
   "source": []
  }
 ],
 "metadata": {
  "kernelspec": {
   "display_name": "Python 3 (ipykernel)",
   "language": "python",
   "name": "python3"
  },
  "language_info": {
   "codemirror_mode": {
    "name": "ipython",
    "version": 3
   },
   "file_extension": ".py",
   "mimetype": "text/x-python",
   "name": "python",
   "nbconvert_exporter": "python",
   "pygments_lexer": "ipython3",
   "version": "3.9.7"
  }
 },
 "nbformat": 4,
 "nbformat_minor": 5
}
