{
 "cells": [
  {
   "cell_type": "code",
   "execution_count": 1,
   "id": "6258b78d",
   "metadata": {},
   "outputs": [
    {
     "name": "stdout",
     "output_type": "stream",
     "text": [
      "<class 'str'>\n",
      "Hello Anil\n"
     ]
    }
   ],
   "source": [
    "a = 'Hello Anil'\n",
    "print(type(a))\n",
    "print(a)"
   ]
  },
  {
   "cell_type": "code",
   "execution_count": 2,
   "id": "3a62d29a",
   "metadata": {},
   "outputs": [
    {
     "name": "stdout",
     "output_type": "stream",
     "text": [
      "e\n"
     ]
    }
   ],
   "source": [
    "a = 'Hello Anil'\n",
    "print(a[1])"
   ]
  },
  {
   "cell_type": "code",
   "execution_count": 3,
   "id": "be6b13c2",
   "metadata": {},
   "outputs": [
    {
     "name": "stdout",
     "output_type": "stream",
     "text": [
      "l\n"
     ]
    }
   ],
   "source": [
    "a = 'Hello Anil'\n",
    "print(a[-1])"
   ]
  },
  {
   "cell_type": "code",
   "execution_count": 5,
   "id": "435831c1",
   "metadata": {},
   "outputs": [
    {
     "name": "stdout",
     "output_type": "stream",
     "text": [
      "Hello Anil\n"
     ]
    }
   ],
   "source": [
    "a = 'Hello Anil'\n",
    "print(a[0:10])"
   ]
  },
  {
   "cell_type": "code",
   "execution_count": 6,
   "id": "dcf94326",
   "metadata": {},
   "outputs": [
    {
     "name": "stdout",
     "output_type": "stream",
     "text": [
      "Hello worl\n"
     ]
    }
   ],
   "source": [
    "a = 'Hello world'\n",
    "print(a[0:10:1])"
   ]
  },
  {
   "cell_type": "code",
   "execution_count": 7,
   "id": "0eb8786b",
   "metadata": {},
   "outputs": [
    {
     "name": "stdout",
     "output_type": "stream",
     "text": [
      "dlrow olle\n"
     ]
    }
   ],
   "source": [
    "a = 'Hello world'\n",
    "print(a[-1:0:-1])"
   ]
  },
  {
   "cell_type": "code",
   "execution_count": 8,
   "id": "4a436e71",
   "metadata": {},
   "outputs": [
    {
     "name": "stdout",
     "output_type": "stream",
     "text": [
      "dlrow olleH\n"
     ]
    }
   ],
   "source": [
    "a = 'Hello world'\n",
    "print(a[-1::-1])"
   ]
  },
  {
   "cell_type": "code",
   "execution_count": 1,
   "id": "8ac42279",
   "metadata": {},
   "outputs": [
    {
     "ename": "SyntaxError",
     "evalue": "invalid syntax (Temp/ipykernel_26800/1196877559.py, line 3)",
     "output_type": "error",
     "traceback": [
      "\u001b[1;36m  File \u001b[1;32m\"C:\\Users\\Anil\\AppData\\Local\\Temp/ipykernel_26800/1196877559.py\"\u001b[1;36m, line \u001b[1;32m3\u001b[0m\n\u001b[1;33m    c = [5:]\u001b[0m\n\u001b[1;37m          ^\u001b[0m\n\u001b[1;31mSyntaxError\u001b[0m\u001b[1;31m:\u001b[0m invalid syntax\n"
     ]
    }
   ],
   "source": [
    "a = 'Hello world'\n",
    "b = a[0:5]\n",
    "c = [5:]\n",
    "print(a)\n",
    "print(b)\n",
    "print(c)"
   ]
  },
  {
   "cell_type": "code",
   "execution_count": 12,
   "id": "673bd574",
   "metadata": {},
   "outputs": [
    {
     "name": "stdout",
     "output_type": "stream",
     "text": [
      "Hello Anil\n",
      "Hello Anil\n",
      "\n"
     ]
    }
   ],
   "source": [
    "a = 'Hello Anil\\n'\n",
    "print(a*2)"
   ]
  },
  {
   "cell_type": "code",
   "execution_count": 1,
   "id": "f91555c4",
   "metadata": {},
   "outputs": [
    {
     "name": "stdout",
     "output_type": "stream",
     "text": [
      "Hello I am Anil. I am from Kathmandu I am 26\n"
     ]
    }
   ],
   "source": [
    "# String formatting\n",
    "\n",
    "name = 'Anil'\n",
    "age = 26\n",
    "add = 'Kathmandu'\n",
    "info = f'Hello I am {name}. I am from {add} I am {age}'\n",
    "print(info)"
   ]
  },
  {
   "cell_type": "code",
   "execution_count": 3,
   "id": "25012e26",
   "metadata": {},
   "outputs": [
    {
     "name": "stdout",
     "output_type": "stream",
     "text": [
      "Enter n = 2\n",
      "Enter Name = anil\n",
      "Enter Phone = 98765432\n",
      "Enter Name = akash\n",
      "Enter Phone = 987654321\n",
      "anil Kathmandu\n",
      "akash Kathmandu\n",
      "\n"
     ]
    }
   ],
   "source": [
    "s = str()\n",
    "n = int(input('Enter n = '))\n",
    "for i in range(n):\n",
    "    name = input('Enter Name = ')\n",
    "    phone = int(input('Enter Phone = '))\n",
    "    info = f'{name} {add}\\n'\n",
    "    s = s+info\n",
    "    \n",
    "print(s)"
   ]
  },
  {
   "cell_type": "code",
   "execution_count": 4,
   "id": "c5a1f4eb",
   "metadata": {},
   "outputs": [
    {
     "name": "stdout",
     "output_type": "stream",
     "text": [
      "Enter n = 1\n",
      "Enter Name = de\n",
      "Enter Price = 600\n",
      "Enter Quantity = 57\n",
      "Enter Phone = 9876543\n",
      "de 600 57 Kathmandu\n",
      "\n"
     ]
    }
   ],
   "source": [
    "s = str()\n",
    "n = int(input('Enter n = '))\n",
    "for i in range(n):\n",
    "    name = input('Enter Name = ')\n",
    "    price = int(input('Enter Price = '))\n",
    "    quantity = int(input('Enter Quantity = '))\n",
    "    phone = int(input('Enter Phone = '))\n",
    "    info = f'{name} {price} {quantity} {add}\\n'\n",
    "    s = s+info\n",
    "    \n",
    "print(s)"
   ]
  },
  {
   "cell_type": "code",
   "execution_count": 6,
   "id": "0243cdeb",
   "metadata": {},
   "outputs": [
    {
     "name": "stdout",
     "output_type": "stream",
     "text": [
      "Yes\n",
      "2\n"
     ]
    }
   ],
   "source": [
    "a = 'Ram Anil Hari Sita Gita Anil'\n",
    "if 'Anil' in a:\n",
    "    c = a.count('Anil')\n",
    "    print('Yes')\n",
    "    print(c)\n",
    "else:\n",
    "    print('No')"
   ]
  },
  {
   "cell_type": "code",
   "execution_count": 7,
   "id": "de4feb18",
   "metadata": {},
   "outputs": [
    {
     "name": "stdout",
     "output_type": "stream",
     "text": [
      "Enter Name = Anil\n",
      "2\n",
      "Yes\n"
     ]
    }
   ],
   "source": [
    "a = 'Ram Anil Hari Sita Gita Anil'\n",
    "name = input('Enter Name = ')\n",
    "if 'Anil' in a:\n",
    "    \n",
    "    c = a.count('Anil')\n",
    "    print(c)\n",
    "    print('Yes')\n",
    "\n",
    "else:\n",
    "    print('No')"
   ]
  },
  {
   "cell_type": "code",
   "execution_count": 8,
   "id": "4364b3f3",
   "metadata": {},
   "outputs": [
    {
     "name": "stdout",
     "output_type": "stream",
     "text": [
      "RAM ANIL HARI SITA GITA ANIL\n",
      "ram anil hari sita gita anil\n"
     ]
    }
   ],
   "source": [
    "a = 'Ram Anil Hari Sita Gita Anil'\n",
    "print(a.upper())\n",
    "print(a.lower())"
   ]
  },
  {
   "cell_type": "code",
   "execution_count": 9,
   "id": "8f0d6688",
   "metadata": {},
   "outputs": [
    {
     "name": "stdout",
     "output_type": "stream",
     "text": [
      "ram anil hari sita gita anil\n"
     ]
    },
    {
     "data": {
      "text/plain": [
       "'ram'"
      ]
     },
     "execution_count": 9,
     "metadata": {},
     "output_type": "execute_result"
    }
   ],
   "source": [
    "a = 'Ram Anil Hari Sita Gita Anil'\n",
    "print(a.lower())\n",
    "'RAm'.lower()"
   ]
  },
  {
   "cell_type": "code",
   "execution_count": 1,
   "id": "b364482c",
   "metadata": {},
   "outputs": [
    {
     "name": "stdout",
     "output_type": "stream",
     "text": [
      "Enter Name = il\n",
      "3\n",
      "Yes\n"
     ]
    }
   ],
   "source": [
    "a = 'Ram Anil Hari Sita Gita Anil ANil'.lower()\n",
    "name = input('Enter Name = ').lower()\n",
    "if name in a:\n",
    "    \n",
    "    c = a.count(name)\n",
    "    print(c)\n",
    "    print('Yes')\n",
    "\n",
    "else:\n",
    "    print('No')"
   ]
  },
  {
   "cell_type": "code",
   "execution_count": 5,
   "id": "5443edb2",
   "metadata": {},
   "outputs": [
    {
     "name": "stdout",
     "output_type": "stream",
     "text": [
      "Ram Anil Hari Sita Gita Anil\n",
      "Ram Anil Hari Sita Gita Anil\n"
     ]
    }
   ],
   "source": [
    "a = 'Ram Anil Hari Sita Gita Anil'\n",
    "b = a.replace('ANil','anil')\n",
    "print(b)\n",
    "print(a)"
   ]
  },
  {
   "cell_type": "code",
   "execution_count": 7,
   "id": "6dfe9d68",
   "metadata": {},
   "outputs": [
    {
     "ename": "TypeError",
     "evalue": "'str' object does not support item assignment",
     "output_type": "error",
     "traceback": [
      "\u001b[1;31m---------------------------------------------------------------------------\u001b[0m",
      "\u001b[1;31mTypeError\u001b[0m                                 Traceback (most recent call last)",
      "\u001b[1;32m~\\AppData\\Local\\Temp/ipykernel_31240/2136172908.py\u001b[0m in \u001b[0;36m<module>\u001b[1;34m\u001b[0m\n\u001b[0;32m      1\u001b[0m \u001b[0ma\u001b[0m \u001b[1;33m=\u001b[0m \u001b[1;34m'Ram Anil Hari Sita Gita Anil'\u001b[0m\u001b[1;33m\u001b[0m\u001b[1;33m\u001b[0m\u001b[0m\n\u001b[1;32m----> 2\u001b[1;33m \u001b[0ma\u001b[0m\u001b[1;33m[\u001b[0m\u001b[1;36m0\u001b[0m\u001b[1;33m:\u001b[0m\u001b[1;36m3\u001b[0m\u001b[1;33m]\u001b[0m \u001b[1;33m=\u001b[0m \u001b[1;34m'prasad'\u001b[0m\u001b[1;33m\u001b[0m\u001b[1;33m\u001b[0m\u001b[0m\n\u001b[0m\u001b[0;32m      3\u001b[0m \u001b[0mprint\u001b[0m\u001b[1;33m(\u001b[0m\u001b[0ma\u001b[0m\u001b[1;33m)\u001b[0m\u001b[1;33m\u001b[0m\u001b[1;33m\u001b[0m\u001b[0m\n",
      "\u001b[1;31mTypeError\u001b[0m: 'str' object does not support item assignment"
     ]
    }
   ],
   "source": [
    "a = 'Ram Anil Hari Sita Gita Anil'\n",
    "a[0:3] = 'prasad'\n",
    "print(a)"
   ]
  },
  {
   "cell_type": "code",
   "execution_count": 2,
   "id": "7213171d",
   "metadata": {},
   "outputs": [
    {
     "data": {
      "text/plain": [
       "'rama Anil Hari Sita Gita Anil'"
      ]
     },
     "execution_count": 2,
     "metadata": {},
     "output_type": "execute_result"
    }
   ],
   "source": [
    "a = 'Ram Anil Hari Sita Gita Anil'\n",
    "'rama'+a[3:]\n"
   ]
  },
  {
   "cell_type": "code",
   "execution_count": 3,
   "id": "c4136fe4",
   "metadata": {},
   "outputs": [
    {
     "name": "stdout",
     "output_type": "stream",
     "text": [
      "Ram Anil Hari Sita Gita Anil\n"
     ]
    }
   ],
   "source": [
    "a = 'Ram Anil Hari Sita Gita Anil'\n",
    "b = a.replace('ANil','')\n",
    "print(b)"
   ]
  },
  {
   "cell_type": "markdown",
   "id": "12a1c259",
   "metadata": {},
   "source": [
    "# Lists"
   ]
  },
  {
   "cell_type": "code",
   "execution_count": 6,
   "id": "c00057d5",
   "metadata": {},
   "outputs": [
    {
     "data": {
      "text/plain": [
       "['Ram', 'Anil', 'Hari', 'Sita', 'Gita', 'Anil']"
      ]
     },
     "execution_count": 6,
     "metadata": {},
     "output_type": "execute_result"
    }
   ],
   "source": [
    "a = 'Ram Anil Hari Sita Gita Anil'\n",
    "a.split()"
   ]
  },
  {
   "cell_type": "code",
   "execution_count": null,
   "id": "0c906981",
   "metadata": {},
   "outputs": [],
   "source": []
  }
 ],
 "metadata": {
  "kernelspec": {
   "display_name": "Python 3 (ipykernel)",
   "language": "python",
   "name": "python3"
  },
  "language_info": {
   "codemirror_mode": {
    "name": "ipython",
    "version": 3
   },
   "file_extension": ".py",
   "mimetype": "text/x-python",
   "name": "python",
   "nbconvert_exporter": "python",
   "pygments_lexer": "ipython3",
   "version": "3.9.7"
  }
 },
 "nbformat": 4,
 "nbformat_minor": 5
}
