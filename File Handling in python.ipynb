{
 "cells": [
  {
   "cell_type": "markdown",
   "id": "4419e781",
   "metadata": {},
   "source": [
    "# File Create"
   ]
  },
  {
   "cell_type": "code",
   "execution_count": 4,
   "id": "773020bd",
   "metadata": {},
   "outputs": [
    {
     "name": "stdout",
     "output_type": "stream",
     "text": [
      "File Created\n"
     ]
    }
   ],
   "source": [
    "s = 'This is my file handling program'\n",
    "file = open(\"demo1.txt\",'w')\n",
    "file.write(s)\n",
    "print('File Created')\n",
    "file.close()"
   ]
  },
  {
   "cell_type": "code",
   "execution_count": 7,
   "id": "5fc0f7c8",
   "metadata": {},
   "outputs": [
    {
     "name": "stdout",
     "output_type": "stream",
     "text": [
      "This is my file handling program\n"
     ]
    }
   ],
   "source": [
    "# READ METHOD\n",
    "file = open('demo1.txt','r')\n",
    "filecontent = file.read()\n",
    "print(filecontent)"
   ]
  },
  {
   "cell_type": "code",
   "execution_count": 8,
   "id": "ab6802f2",
   "metadata": {},
   "outputs": [
    {
     "name": "stdout",
     "output_type": "stream",
     "text": [
      "File Created\n"
     ]
    }
   ],
   "source": [
    "# write a list store in file\n",
    "l1 = ['Python', 'Php', 'Java', 'Angular']\n",
    "file = open('demo2.txt','w')\n",
    "file.writelines(l1)\n",
    "print('File Created')\n",
    "file.close()"
   ]
  },
  {
   "cell_type": "code",
   "execution_count": 10,
   "id": "cdc2ba32",
   "metadata": {},
   "outputs": [
    {
     "name": "stdout",
     "output_type": "stream",
     "text": [
      "['PythonPhpJavaAngular']\n"
     ]
    }
   ],
   "source": [
    "# read a list store in file\n",
    "\n",
    "file = open('demo2.txt','r')\n",
    "filelist = file.readlines()\n",
    "print(filelist)"
   ]
  },
  {
   "cell_type": "code",
   "execution_count": 11,
   "id": "d5ce8a95",
   "metadata": {},
   "outputs": [
    {
     "name": "stdout",
     "output_type": "stream",
     "text": [
      "File Updated\n"
     ]
    }
   ],
   "source": [
    "# append the value in file \n",
    "\n",
    "s = 'Python file handling'\n",
    "file = open('demo1.txt','a')\n",
    "file.write(s)\n",
    "print('File Updated')\n",
    "file.close()"
   ]
  },
  {
   "cell_type": "code",
   "execution_count": 3,
   "id": "2a62c018",
   "metadata": {},
   "outputs": [
    {
     "name": "stdout",
     "output_type": "stream",
     "text": [
      "['This is my file handling programPython file handling']\n"
     ]
    }
   ],
   "source": [
    "with open('demo1.txt') as f:\n",
    "    a = f.readlines()\n",
    "    print(a)\n",
    "    \n",
    "f = open('demo1.txt','rt')\n",
    "f.close()"
   ]
  },
  {
   "cell_type": "code",
   "execution_count": null,
   "id": "dee4aab8",
   "metadata": {},
   "outputs": [],
   "source": [
    "# b = open('<file_name>','<mode>')\n",
    "# b.close()"
   ]
  },
  {
   "cell_type": "code",
   "execution_count": 5,
   "id": "68ed069b",
   "metadata": {},
   "outputs": [],
   "source": [
    "file = open('data1.txt','x')\n",
    "file.close()"
   ]
  },
  {
   "cell_type": "code",
   "execution_count": 6,
   "id": "1b06ca01",
   "metadata": {},
   "outputs": [
    {
     "name": "stdout",
     "output_type": "stream",
     "text": [
      "1.Anil Sah\n",
      "2.Akash Sah\n",
      "3.Rita Sah\n",
      "4.Riya Sah\n",
      "5.Ritika Sah\n"
     ]
    }
   ],
   "source": [
    "file = open('data1.txt', 'r')\n",
    "print(file.read())\n",
    "file.close()"
   ]
  },
  {
   "cell_type": "code",
   "execution_count": 7,
   "id": "4c73f86b",
   "metadata": {},
   "outputs": [
    {
     "name": "stdout",
     "output_type": "stream",
     "text": [
      "<class 'str'>\n"
     ]
    }
   ],
   "source": [
    "file = open('data1.txt', 'r')\n",
    "x = file.read()\n",
    "print(type(x))\n",
    "file.close()"
   ]
  },
  {
   "cell_type": "code",
   "execution_count": 8,
   "id": "775ae64a",
   "metadata": {},
   "outputs": [
    {
     "name": "stdout",
     "output_type": "stream",
     "text": [
      "['1.Anil Sah', '2.Akash Sah', '3.Rita Sah', '4.Riya Sah', '5.Ritika Sah']\n"
     ]
    }
   ],
   "source": [
    "file = open('data1.txt', 'r')\n",
    "x = file.read()\n",
    "print(x.split('\\n'))\n",
    "file.close()"
   ]
  },
  {
   "cell_type": "code",
   "execution_count": 10,
   "id": "e267ce4c",
   "metadata": {},
   "outputs": [
    {
     "name": "stdout",
     "output_type": "stream",
     "text": [
      "1.Anil Sah\n",
      "\n"
     ]
    }
   ],
   "source": [
    "file = open('data1.txt', 'r')\n",
    "# x = file.read(20)\n",
    "print(file.readline())\n",
    "file.close()"
   ]
  },
  {
   "cell_type": "code",
   "execution_count": 11,
   "id": "11a451a0",
   "metadata": {},
   "outputs": [
    {
     "name": "stdout",
     "output_type": "stream",
     "text": [
      "Enter N = 2\n",
      "Enter Name = Anil Sah\n",
      "Enter Phone = 9817853704\n",
      "Enter Name = Akash Sah\n",
      "Enter Phone = 9812143811\n"
     ]
    }
   ],
   "source": [
    "info = str()\n",
    "n = int(input('Enter N = '))\n",
    "file = open('new_data.','w')\n",
    "for i in range(n):\n",
    "    name = input('Enter Name = ')\n",
    "    phone = input('Enter Phone = ')\n",
    "    data = f\"{name}, {phone}\\n\"\n",
    "    info = info+data\n",
    "    \n",
    "file.write(info)\n",
    "file.close()\n"
   ]
  },
  {
   "cell_type": "code",
   "execution_count": 30,
   "id": "7e2e684f",
   "metadata": {},
   "outputs": [],
   "source": [
    "with open('new_data.','a') as file:\n",
    "    file.write('Riya 9817763647')\n",
    "     "
   ]
  },
  {
   "cell_type": "code",
   "execution_count": 13,
   "id": "fdbaffe8",
   "metadata": {},
   "outputs": [
    {
     "name": "stdout",
     "output_type": "stream",
     "text": [
      "Enter N = 3\n",
      "Enter Name = Anil Sah\n",
      "Enter Phone = 9817853704\n",
      "Enter Name = Akash Sah\n",
      "Enter Phone = 9812134811\n",
      "Enter Name = Rita Sah\n",
      "Enter Phone = 9844295111\n"
     ]
    }
   ],
   "source": [
    "info = str()\n",
    "n = int(input('Enter N = '))\n",
    "file = open('new_data.','w')\n",
    "file.write('Name Phone\\n')\n",
    "for i in range(n):\n",
    "    name = input('Enter Name = ')\n",
    "    phone = input('Enter Phone = ')\n",
    "    data = f\"{name}, {phone}\\n\"\n",
    "    info = info+data\n",
    "    \n",
    "file.write(info)\n",
    "file.close()\n"
   ]
  },
  {
   "cell_type": "code",
   "execution_count": 15,
   "id": "548ccbc1",
   "metadata": {},
   "outputs": [
    {
     "name": "stdout",
     "output_type": "stream",
     "text": [
      "Name Phone\n",
      "Anil Sah, 9817853704\n",
      "Akash Sah, 9812134811\n",
      "Rita Sah, 9844295111\n",
      "\n"
     ]
    }
   ],
   "source": [
    "file = open('new_data.', 'r')\n",
    "x = file.read()\n",
    "print(x)\n",
    "file.close()"
   ]
  },
  {
   "cell_type": "code",
   "execution_count": null,
   "id": "82316bbc",
   "metadata": {},
   "outputs": [],
   "source": []
  },
  {
   "cell_type": "code",
   "execution_count": null,
   "id": "98c58b3f",
   "metadata": {},
   "outputs": [],
   "source": []
  },
  {
   "cell_type": "code",
   "execution_count": null,
   "id": "3bb4f47e",
   "metadata": {},
   "outputs": [],
   "source": []
  },
  {
   "cell_type": "code",
   "execution_count": 16,
   "id": "f28f764e",
   "metadata": {},
   "outputs": [
    {
     "name": "stdout",
     "output_type": "stream",
     "text": [
      "Enter N = 3\n",
      "Enter Name = anil sah\n",
      "Enter Phone = 98765432\n",
      "Enter Name = akash\n",
      "Enter Phone = 98765432\n",
      "Enter Name = rita sah\n",
      "Enter Phone = 098765432\n"
     ]
    }
   ],
   "source": [
    "info = str()\n",
    "n = int(input('Enter N = '))\n",
    "file = open('new_data.csv','w')\n",
    "file.write('Name,Phone\\n')\n",
    "for i in range(n):\n",
    "    name = input('Enter Name = ')\n",
    "    phone = input('Enter Phone = ')\n",
    "    data = f\"{name},{phone}\\n\"\n",
    "    info = info+data\n",
    "    \n",
    "file.write(info)\n",
    "file.close()"
   ]
  },
  {
   "cell_type": "code",
   "execution_count": 17,
   "id": "8e57e89b",
   "metadata": {},
   "outputs": [
    {
     "name": "stdout",
     "output_type": "stream",
     "text": [
      "anil sah,98765432\n",
      "akash,98765432\n",
      "rita sah,098765432\n",
      "\n"
     ]
    }
   ],
   "source": [
    "print(info)"
   ]
  },
  {
   "cell_type": "code",
   "execution_count": 21,
   "id": "20b15dff",
   "metadata": {},
   "outputs": [],
   "source": [
    "info = info.replace('anil sah','Anil Sah')"
   ]
  },
  {
   "cell_type": "code",
   "execution_count": 22,
   "id": "38778796",
   "metadata": {},
   "outputs": [],
   "source": [
    "file = open('new_data.csv','w')\n",
    "file.write(info)\n",
    "file.close()"
   ]
  },
  {
   "cell_type": "code",
   "execution_count": null,
   "id": "fe264ba3",
   "metadata": {},
   "outputs": [],
   "source": []
  },
  {
   "cell_type": "code",
   "execution_count": 23,
   "id": "0dbe523c",
   "metadata": {},
   "outputs": [
    {
     "name": "stdout",
     "output_type": "stream",
     "text": [
      "the file is deleted.\n"
     ]
    }
   ],
   "source": [
    "import os\n",
    "if os.path.exists('data1.txt'):\n",
    "    os.remove('data1.txt')\n",
    "    print('the file is deleted.')\n",
    "else:\n",
    "    print('there is such file')"
   ]
  },
  {
   "cell_type": "code",
   "execution_count": 26,
   "id": "265e5674",
   "metadata": {},
   "outputs": [
    {
     "data": {
      "text/plain": [
       "'Untitled Foldered'"
      ]
     },
     "execution_count": 26,
     "metadata": {},
     "output_type": "execute_result"
    }
   ],
   "source": [
    "import shutil\n",
    "src = 'new_data.csv'\n",
    "dst = 'Untitled Foldered'\n",
    "shutil.copy(src,dst)\n"
   ]
  },
  {
   "cell_type": "code",
   "execution_count": 27,
   "id": "e1077a49",
   "metadata": {},
   "outputs": [
    {
     "data": {
      "text/plain": [
       "'Untitled Folder 1/Untitled Foldered'"
      ]
     },
     "execution_count": 27,
     "metadata": {},
     "output_type": "execute_result"
    }
   ],
   "source": [
    "import shutil\n",
    "src = 'Untitled Folder'\n",
    "dst = 'Untitled Folder 1/Untitled Foldered'\n",
    "shutil.copytree(src,dst)"
   ]
  },
  {
   "cell_type": "code",
   "execution_count": 29,
   "id": "1b48a0b4",
   "metadata": {},
   "outputs": [
    {
     "data": {
      "text/plain": [
       "'Untitled Folder 1/Untitled Foldered1\\\\new_data.csv'"
      ]
     },
     "execution_count": 29,
     "metadata": {},
     "output_type": "execute_result"
    }
   ],
   "source": [
    "import shutil\n",
    "src = 'new_data.csv'\n",
    "dst = 'Untitled Folder 1/Untitled Foldered1'\n",
    "shutil.move(src,dst)"
   ]
  },
  {
   "cell_type": "code",
   "execution_count": 2,
   "id": "29089806",
   "metadata": {},
   "outputs": [],
   "source": [
    "b = open('data1.csv','x')\n",
    "b.close()"
   ]
  },
  {
   "cell_type": "code",
   "execution_count": 5,
   "id": "eeb06e2c",
   "metadata": {},
   "outputs": [
    {
     "data": {
      "text/html": [
       "<div>\n",
       "<style scoped>\n",
       "    .dataframe tbody tr th:only-of-type {\n",
       "        vertical-align: middle;\n",
       "    }\n",
       "\n",
       "    .dataframe tbody tr th {\n",
       "        vertical-align: top;\n",
       "    }\n",
       "\n",
       "    .dataframe thead th {\n",
       "        text-align: right;\n",
       "    }\n",
       "</style>\n",
       "<table border=\"1\" class=\"dataframe\">\n",
       "  <thead>\n",
       "    <tr style=\"text-align: right;\">\n",
       "      <th></th>\n",
       "      <th>Sn</th>\n",
       "      <th>Name</th>\n",
       "      <th>Age</th>\n",
       "      <th>Address</th>\n",
       "      <th>Phone</th>\n",
       "    </tr>\n",
       "  </thead>\n",
       "  <tbody>\n",
       "    <tr>\n",
       "      <th>0</th>\n",
       "      <td>1</td>\n",
       "      <td>Anil</td>\n",
       "      <td>26</td>\n",
       "      <td>Kathmandu</td>\n",
       "      <td>9817853704</td>\n",
       "    </tr>\n",
       "    <tr>\n",
       "      <th>1</th>\n",
       "      <td>2</td>\n",
       "      <td>Akash</td>\n",
       "      <td>12</td>\n",
       "      <td>JNK</td>\n",
       "      <td>9812134811</td>\n",
       "    </tr>\n",
       "    <tr>\n",
       "      <th>2</th>\n",
       "      <td>3</td>\n",
       "      <td>Rita</td>\n",
       "      <td>30</td>\n",
       "      <td>Janakpur</td>\n",
       "      <td>9844295111</td>\n",
       "    </tr>\n",
       "    <tr>\n",
       "      <th>3</th>\n",
       "      <td>4</td>\n",
       "      <td>Riya</td>\n",
       "      <td>10</td>\n",
       "      <td>Kataiya</td>\n",
       "      <td>9812083054</td>\n",
       "    </tr>\n",
       "    <tr>\n",
       "      <th>4</th>\n",
       "      <td>5</td>\n",
       "      <td>Monika</td>\n",
       "      <td>20</td>\n",
       "      <td>Kataiya</td>\n",
       "      <td>9819805433</td>\n",
       "    </tr>\n",
       "    <tr>\n",
       "      <th>5</th>\n",
       "      <td>6</td>\n",
       "      <td>Anita</td>\n",
       "      <td>30</td>\n",
       "      <td>Bateshwor</td>\n",
       "      <td>9804851965</td>\n",
       "    </tr>\n",
       "    <tr>\n",
       "      <th>6</th>\n",
       "      <td>7</td>\n",
       "      <td>Indal</td>\n",
       "      <td>35</td>\n",
       "      <td>Bateshwor</td>\n",
       "      <td>9803713054</td>\n",
       "    </tr>\n",
       "  </tbody>\n",
       "</table>\n",
       "</div>"
      ],
      "text/plain": [
       "   Sn    Name  Age    Address       Phone\n",
       "0   1    Anil   26  Kathmandu  9817853704\n",
       "1   2   Akash   12        JNK  9812134811\n",
       "2   3    Rita   30   Janakpur  9844295111\n",
       "3   4    Riya   10    Kataiya  9812083054\n",
       "4   5  Monika   20    Kataiya  9819805433\n",
       "5   6   Anita   30  Bateshwor  9804851965\n",
       "6   7   Indal   35  Bateshwor  9803713054"
      ]
     },
     "execution_count": 5,
     "metadata": {},
     "output_type": "execute_result"
    }
   ],
   "source": [
    "import pandas as pd\n",
    "df = pd.read_csv('data1.csv')  # df = DataFrame\n",
    "df"
   ]
  },
  {
   "cell_type": "code",
   "execution_count": 6,
   "id": "56a5f563",
   "metadata": {},
   "outputs": [
    {
     "data": {
      "text/html": [
       "<div>\n",
       "<style scoped>\n",
       "    .dataframe tbody tr th:only-of-type {\n",
       "        vertical-align: middle;\n",
       "    }\n",
       "\n",
       "    .dataframe tbody tr th {\n",
       "        vertical-align: top;\n",
       "    }\n",
       "\n",
       "    .dataframe thead th {\n",
       "        text-align: right;\n",
       "    }\n",
       "</style>\n",
       "<table border=\"1\" class=\"dataframe\">\n",
       "  <thead>\n",
       "    <tr style=\"text-align: right;\">\n",
       "      <th></th>\n",
       "      <th>Sn</th>\n",
       "      <th>Name</th>\n",
       "      <th>Age</th>\n",
       "      <th>Address</th>\n",
       "      <th>Phone</th>\n",
       "    </tr>\n",
       "  </thead>\n",
       "  <tbody>\n",
       "    <tr>\n",
       "      <th>0</th>\n",
       "      <td>1</td>\n",
       "      <td>Anil</td>\n",
       "      <td>26</td>\n",
       "      <td>Kathmandu</td>\n",
       "      <td>9817853704</td>\n",
       "    </tr>\n",
       "    <tr>\n",
       "      <th>1</th>\n",
       "      <td>2</td>\n",
       "      <td>Akash</td>\n",
       "      <td>12</td>\n",
       "      <td>JNK</td>\n",
       "      <td>9812134811</td>\n",
       "    </tr>\n",
       "    <tr>\n",
       "      <th>2</th>\n",
       "      <td>3</td>\n",
       "      <td>Rita</td>\n",
       "      <td>30</td>\n",
       "      <td>Janakpur</td>\n",
       "      <td>9844295111</td>\n",
       "    </tr>\n",
       "    <tr>\n",
       "      <th>3</th>\n",
       "      <td>4</td>\n",
       "      <td>Riya</td>\n",
       "      <td>10</td>\n",
       "      <td>Kataiya</td>\n",
       "      <td>9812083054</td>\n",
       "    </tr>\n",
       "    <tr>\n",
       "      <th>4</th>\n",
       "      <td>5</td>\n",
       "      <td>Monika</td>\n",
       "      <td>20</td>\n",
       "      <td>Kataiya</td>\n",
       "      <td>9819805433</td>\n",
       "    </tr>\n",
       "  </tbody>\n",
       "</table>\n",
       "</div>"
      ],
      "text/plain": [
       "   Sn    Name  Age    Address       Phone\n",
       "0   1    Anil   26  Kathmandu  9817853704\n",
       "1   2   Akash   12        JNK  9812134811\n",
       "2   3    Rita   30   Janakpur  9844295111\n",
       "3   4    Riya   10    Kataiya  9812083054\n",
       "4   5  Monika   20    Kataiya  9819805433"
      ]
     },
     "execution_count": 6,
     "metadata": {},
     "output_type": "execute_result"
    }
   ],
   "source": [
    "import pandas as pd\n",
    "df = pd.read_csv('data1.csv',nrows = 5)\n",
    "df"
   ]
  },
  {
   "cell_type": "code",
   "execution_count": 8,
   "id": "16dd062e",
   "metadata": {},
   "outputs": [
    {
     "data": {
      "text/html": [
       "<div>\n",
       "<style scoped>\n",
       "    .dataframe tbody tr th:only-of-type {\n",
       "        vertical-align: middle;\n",
       "    }\n",
       "\n",
       "    .dataframe tbody tr th {\n",
       "        vertical-align: top;\n",
       "    }\n",
       "\n",
       "    .dataframe thead th {\n",
       "        text-align: right;\n",
       "    }\n",
       "</style>\n",
       "<table border=\"1\" class=\"dataframe\">\n",
       "  <thead>\n",
       "    <tr style=\"text-align: right;\">\n",
       "      <th></th>\n",
       "      <th>Sn</th>\n",
       "      <th>Name</th>\n",
       "      <th>Age</th>\n",
       "      <th>Address</th>\n",
       "      <th>Phone</th>\n",
       "    </tr>\n",
       "  </thead>\n",
       "  <tbody>\n",
       "    <tr>\n",
       "      <th>0</th>\n",
       "      <td>1</td>\n",
       "      <td>Anil</td>\n",
       "      <td>26</td>\n",
       "      <td>Kathmandu</td>\n",
       "      <td>9817853704</td>\n",
       "    </tr>\n",
       "    <tr>\n",
       "      <th>1</th>\n",
       "      <td>2</td>\n",
       "      <td>Akash</td>\n",
       "      <td>12</td>\n",
       "      <td>JNK</td>\n",
       "      <td>9812134811</td>\n",
       "    </tr>\n",
       "    <tr>\n",
       "      <th>2</th>\n",
       "      <td>3</td>\n",
       "      <td>Rita</td>\n",
       "      <td>30</td>\n",
       "      <td>Janakpur</td>\n",
       "      <td>9844295111</td>\n",
       "    </tr>\n",
       "    <tr>\n",
       "      <th>3</th>\n",
       "      <td>4</td>\n",
       "      <td>Riya</td>\n",
       "      <td>10</td>\n",
       "      <td>Kataiya</td>\n",
       "      <td>9812083054</td>\n",
       "    </tr>\n",
       "    <tr>\n",
       "      <th>4</th>\n",
       "      <td>5</td>\n",
       "      <td>Monika</td>\n",
       "      <td>20</td>\n",
       "      <td>Kataiya</td>\n",
       "      <td>9819805433</td>\n",
       "    </tr>\n",
       "  </tbody>\n",
       "</table>\n",
       "</div>"
      ],
      "text/plain": [
       "   Sn    Name  Age    Address       Phone\n",
       "0   1    Anil   26  Kathmandu  9817853704\n",
       "1   2   Akash   12        JNK  9812134811\n",
       "2   3    Rita   30   Janakpur  9844295111\n",
       "3   4    Riya   10    Kataiya  9812083054\n",
       "4   5  Monika   20    Kataiya  9819805433"
      ]
     },
     "execution_count": 8,
     "metadata": {},
     "output_type": "execute_result"
    }
   ],
   "source": [
    "import pandas as pd\n",
    "df = pd.read_csv('data1.csv')\n",
    "df.head()"
   ]
  },
  {
   "cell_type": "code",
   "execution_count": 12,
   "id": "ebc78d3d",
   "metadata": {},
   "outputs": [
    {
     "data": {
      "text/html": [
       "<div>\n",
       "<style scoped>\n",
       "    .dataframe tbody tr th:only-of-type {\n",
       "        vertical-align: middle;\n",
       "    }\n",
       "\n",
       "    .dataframe tbody tr th {\n",
       "        vertical-align: top;\n",
       "    }\n",
       "\n",
       "    .dataframe thead th {\n",
       "        text-align: right;\n",
       "    }\n",
       "</style>\n",
       "<table border=\"1\" class=\"dataframe\">\n",
       "  <thead>\n",
       "    <tr style=\"text-align: right;\">\n",
       "      <th></th>\n",
       "      <th>Name</th>\n",
       "      <th>Age</th>\n",
       "      <th>Address</th>\n",
       "      <th>Phone</th>\n",
       "    </tr>\n",
       "    <tr>\n",
       "      <th>Sn</th>\n",
       "      <th></th>\n",
       "      <th></th>\n",
       "      <th></th>\n",
       "      <th></th>\n",
       "    </tr>\n",
       "  </thead>\n",
       "  <tbody>\n",
       "    <tr>\n",
       "      <th>1</th>\n",
       "      <td>Anil</td>\n",
       "      <td>26</td>\n",
       "      <td>Kathmandu</td>\n",
       "      <td>9817853704</td>\n",
       "    </tr>\n",
       "    <tr>\n",
       "      <th>2</th>\n",
       "      <td>Akash</td>\n",
       "      <td>12</td>\n",
       "      <td>JNK</td>\n",
       "      <td>9812134811</td>\n",
       "    </tr>\n",
       "    <tr>\n",
       "      <th>3</th>\n",
       "      <td>Rita</td>\n",
       "      <td>30</td>\n",
       "      <td>Janakpur</td>\n",
       "      <td>9844295111</td>\n",
       "    </tr>\n",
       "    <tr>\n",
       "      <th>4</th>\n",
       "      <td>Riya</td>\n",
       "      <td>10</td>\n",
       "      <td>Kataiya</td>\n",
       "      <td>9812083054</td>\n",
       "    </tr>\n",
       "  </tbody>\n",
       "</table>\n",
       "</div>"
      ],
      "text/plain": [
       "     Name  Age    Address       Phone\n",
       "Sn                                   \n",
       "1    Anil   26  Kathmandu  9817853704\n",
       "2   Akash   12        JNK  9812134811\n",
       "3    Rita   30   Janakpur  9844295111\n",
       "4    Riya   10    Kataiya  9812083054"
      ]
     },
     "execution_count": 12,
     "metadata": {},
     "output_type": "execute_result"
    }
   ],
   "source": [
    "import pandas as pd\n",
    "df = pd.read_csv('data1.csv',index_col = 'Sn')\n",
    "df.head(4)"
   ]
  },
  {
   "cell_type": "code",
   "execution_count": 11,
   "id": "46a4df8d",
   "metadata": {},
   "outputs": [
    {
     "data": {
      "text/html": [
       "<div>\n",
       "<style scoped>\n",
       "    .dataframe tbody tr th:only-of-type {\n",
       "        vertical-align: middle;\n",
       "    }\n",
       "\n",
       "    .dataframe tbody tr th {\n",
       "        vertical-align: top;\n",
       "    }\n",
       "\n",
       "    .dataframe thead th {\n",
       "        text-align: right;\n",
       "    }\n",
       "</style>\n",
       "<table border=\"1\" class=\"dataframe\">\n",
       "  <thead>\n",
       "    <tr style=\"text-align: right;\">\n",
       "      <th></th>\n",
       "      <th>Name</th>\n",
       "      <th>Age</th>\n",
       "      <th>Address</th>\n",
       "      <th>Phone</th>\n",
       "    </tr>\n",
       "    <tr>\n",
       "      <th>Sn</th>\n",
       "      <th></th>\n",
       "      <th></th>\n",
       "      <th></th>\n",
       "      <th></th>\n",
       "    </tr>\n",
       "  </thead>\n",
       "  <tbody>\n",
       "    <tr>\n",
       "      <th>5</th>\n",
       "      <td>Monika</td>\n",
       "      <td>20</td>\n",
       "      <td>Kataiya</td>\n",
       "      <td>9819805433</td>\n",
       "    </tr>\n",
       "    <tr>\n",
       "      <th>6</th>\n",
       "      <td>Anita</td>\n",
       "      <td>30</td>\n",
       "      <td>Bateshwor</td>\n",
       "      <td>9804851965</td>\n",
       "    </tr>\n",
       "    <tr>\n",
       "      <th>7</th>\n",
       "      <td>Indal</td>\n",
       "      <td>35</td>\n",
       "      <td>Bateshwor</td>\n",
       "      <td>9803713054</td>\n",
       "    </tr>\n",
       "  </tbody>\n",
       "</table>\n",
       "</div>"
      ],
      "text/plain": [
       "      Name  Age    Address       Phone\n",
       "Sn                                    \n",
       "5   Monika   20    Kataiya  9819805433\n",
       "6    Anita   30  Bateshwor  9804851965\n",
       "7    Indal   35  Bateshwor  9803713054"
      ]
     },
     "execution_count": 11,
     "metadata": {},
     "output_type": "execute_result"
    }
   ],
   "source": [
    "import pandas as pd\n",
    "df = pd.read_csv('data1.csv',index_col = 'Sn')\n",
    "df.tail(3)"
   ]
  },
  {
   "cell_type": "code",
   "execution_count": 13,
   "id": "14869826",
   "metadata": {},
   "outputs": [
    {
     "data": {
      "text/html": [
       "<div>\n",
       "<style scoped>\n",
       "    .dataframe tbody tr th:only-of-type {\n",
       "        vertical-align: middle;\n",
       "    }\n",
       "\n",
       "    .dataframe tbody tr th {\n",
       "        vertical-align: top;\n",
       "    }\n",
       "\n",
       "    .dataframe thead th {\n",
       "        text-align: right;\n",
       "    }\n",
       "</style>\n",
       "<table border=\"1\" class=\"dataframe\">\n",
       "  <thead>\n",
       "    <tr style=\"text-align: right;\">\n",
       "      <th></th>\n",
       "      <th>Name</th>\n",
       "      <th>Age</th>\n",
       "      <th>Address</th>\n",
       "    </tr>\n",
       "    <tr>\n",
       "      <th>Sn</th>\n",
       "      <th></th>\n",
       "      <th></th>\n",
       "      <th></th>\n",
       "    </tr>\n",
       "  </thead>\n",
       "  <tbody>\n",
       "    <tr>\n",
       "      <th>1</th>\n",
       "      <td>Anil</td>\n",
       "      <td>26</td>\n",
       "      <td>Kathmandu</td>\n",
       "    </tr>\n",
       "    <tr>\n",
       "      <th>2</th>\n",
       "      <td>Akash</td>\n",
       "      <td>12</td>\n",
       "      <td>JNK</td>\n",
       "    </tr>\n",
       "    <tr>\n",
       "      <th>3</th>\n",
       "      <td>Rita</td>\n",
       "      <td>30</td>\n",
       "      <td>Janakpur</td>\n",
       "    </tr>\n",
       "    <tr>\n",
       "      <th>4</th>\n",
       "      <td>Riya</td>\n",
       "      <td>10</td>\n",
       "      <td>Kataiya</td>\n",
       "    </tr>\n",
       "    <tr>\n",
       "      <th>5</th>\n",
       "      <td>Monika</td>\n",
       "      <td>20</td>\n",
       "      <td>Kataiya</td>\n",
       "    </tr>\n",
       "    <tr>\n",
       "      <th>6</th>\n",
       "      <td>Anita</td>\n",
       "      <td>30</td>\n",
       "      <td>Bateshwor</td>\n",
       "    </tr>\n",
       "    <tr>\n",
       "      <th>7</th>\n",
       "      <td>Indal</td>\n",
       "      <td>35</td>\n",
       "      <td>Bateshwor</td>\n",
       "    </tr>\n",
       "  </tbody>\n",
       "</table>\n",
       "</div>"
      ],
      "text/plain": [
       "      Name  Age    Address\n",
       "Sn                        \n",
       "1     Anil   26  Kathmandu\n",
       "2    Akash   12        JNK\n",
       "3     Rita   30   Janakpur\n",
       "4     Riya   10    Kataiya\n",
       "5   Monika   20    Kataiya\n",
       "6    Anita   30  Bateshwor\n",
       "7    Indal   35  Bateshwor"
      ]
     },
     "execution_count": 13,
     "metadata": {},
     "output_type": "execute_result"
    }
   ],
   "source": [
    "import pandas as pd\n",
    "df = pd.read_csv('data1.csv',index_col = 'Sn',usecols = ['Sn','Name','Age','Address'])\n",
    "df"
   ]
  },
  {
   "cell_type": "code",
   "execution_count": 19,
   "id": "a4a1a99a",
   "metadata": {},
   "outputs": [
    {
     "data": {
      "text/html": [
       "<div>\n",
       "<style scoped>\n",
       "    .dataframe tbody tr th:only-of-type {\n",
       "        vertical-align: middle;\n",
       "    }\n",
       "\n",
       "    .dataframe tbody tr th {\n",
       "        vertical-align: top;\n",
       "    }\n",
       "\n",
       "    .dataframe thead th {\n",
       "        text-align: right;\n",
       "    }\n",
       "</style>\n",
       "<table border=\"1\" class=\"dataframe\">\n",
       "  <thead>\n",
       "    <tr style=\"text-align: right;\">\n",
       "      <th></th>\n",
       "      <th>Name</th>\n",
       "      <th>Age</th>\n",
       "      <th>Address</th>\n",
       "      <th>Phone</th>\n",
       "    </tr>\n",
       "    <tr>\n",
       "      <th>Sn</th>\n",
       "      <th></th>\n",
       "      <th></th>\n",
       "      <th></th>\n",
       "      <th></th>\n",
       "    </tr>\n",
       "  </thead>\n",
       "  <tbody>\n",
       "    <tr>\n",
       "      <th>1</th>\n",
       "      <td>Anil</td>\n",
       "      <td>26</td>\n",
       "      <td>Kathmandu</td>\n",
       "      <td>9817853704</td>\n",
       "    </tr>\n",
       "    <tr>\n",
       "      <th>2</th>\n",
       "      <td>Akash</td>\n",
       "      <td>12</td>\n",
       "      <td>JNK</td>\n",
       "      <td>9812134811</td>\n",
       "    </tr>\n",
       "    <tr>\n",
       "      <th>3</th>\n",
       "      <td>Rita</td>\n",
       "      <td>30</td>\n",
       "      <td>Janakpur</td>\n",
       "      <td>9844295111</td>\n",
       "    </tr>\n",
       "    <tr>\n",
       "      <th>4</th>\n",
       "      <td>Riya</td>\n",
       "      <td>10</td>\n",
       "      <td>Kataiya</td>\n",
       "      <td>9812083054</td>\n",
       "    </tr>\n",
       "    <tr>\n",
       "      <th>5</th>\n",
       "      <td>Monika</td>\n",
       "      <td>20</td>\n",
       "      <td>Kataiya</td>\n",
       "      <td>9819805433</td>\n",
       "    </tr>\n",
       "  </tbody>\n",
       "</table>\n",
       "</div>"
      ],
      "text/plain": [
       "      Name  Age    Address       Phone\n",
       "Sn                                    \n",
       "1     Anil   26  Kathmandu  9817853704\n",
       "2    Akash   12        JNK  9812134811\n",
       "3     Rita   30   Janakpur  9844295111\n",
       "4     Riya   10    Kataiya  9812083054\n",
       "5   Monika   20    Kataiya  9819805433"
      ]
     },
     "execution_count": 19,
     "metadata": {},
     "output_type": "execute_result"
    }
   ],
   "source": [
    "import pandas as pd\n",
    "df = pd.read_csv('data1.csv',index_col = 'Sn',usecols = ['Sn','Name','Age','Address','Phone'])\n",
    "df.iloc[0:5]"
   ]
  },
  {
   "cell_type": "code",
   "execution_count": 18,
   "id": "1ed0419f",
   "metadata": {},
   "outputs": [
    {
     "data": {
      "text/html": [
       "<div>\n",
       "<style scoped>\n",
       "    .dataframe tbody tr th:only-of-type {\n",
       "        vertical-align: middle;\n",
       "    }\n",
       "\n",
       "    .dataframe tbody tr th {\n",
       "        vertical-align: top;\n",
       "    }\n",
       "\n",
       "    .dataframe thead th {\n",
       "        text-align: right;\n",
       "    }\n",
       "</style>\n",
       "<table border=\"1\" class=\"dataframe\">\n",
       "  <thead>\n",
       "    <tr style=\"text-align: right;\">\n",
       "      <th></th>\n",
       "      <th>Name</th>\n",
       "      <th>Age</th>\n",
       "    </tr>\n",
       "    <tr>\n",
       "      <th>Sn</th>\n",
       "      <th></th>\n",
       "      <th></th>\n",
       "    </tr>\n",
       "  </thead>\n",
       "  <tbody>\n",
       "    <tr>\n",
       "      <th>1</th>\n",
       "      <td>Anil</td>\n",
       "      <td>26</td>\n",
       "    </tr>\n",
       "    <tr>\n",
       "      <th>2</th>\n",
       "      <td>Akash</td>\n",
       "      <td>12</td>\n",
       "    </tr>\n",
       "    <tr>\n",
       "      <th>3</th>\n",
       "      <td>Rita</td>\n",
       "      <td>30</td>\n",
       "    </tr>\n",
       "    <tr>\n",
       "      <th>4</th>\n",
       "      <td>Riya</td>\n",
       "      <td>10</td>\n",
       "    </tr>\n",
       "    <tr>\n",
       "      <th>5</th>\n",
       "      <td>Monika</td>\n",
       "      <td>20</td>\n",
       "    </tr>\n",
       "  </tbody>\n",
       "</table>\n",
       "</div>"
      ],
      "text/plain": [
       "      Name  Age\n",
       "Sn             \n",
       "1     Anil   26\n",
       "2    Akash   12\n",
       "3     Rita   30\n",
       "4     Riya   10\n",
       "5   Monika   20"
      ]
     },
     "execution_count": 18,
     "metadata": {},
     "output_type": "execute_result"
    }
   ],
   "source": [
    "import pandas as pd\n",
    "df = pd.read_csv('data1.csv',index_col = 'Sn',usecols = ['Sn','Name','Age','Address'])\n",
    "df.iloc[0:5,0:2]"
   ]
  },
  {
   "cell_type": "code",
   "execution_count": 21,
   "id": "fa6471d8",
   "metadata": {},
   "outputs": [
    {
     "data": {
      "text/html": [
       "<div>\n",
       "<style scoped>\n",
       "    .dataframe tbody tr th:only-of-type {\n",
       "        vertical-align: middle;\n",
       "    }\n",
       "\n",
       "    .dataframe tbody tr th {\n",
       "        vertical-align: top;\n",
       "    }\n",
       "\n",
       "    .dataframe thead th {\n",
       "        text-align: right;\n",
       "    }\n",
       "</style>\n",
       "<table border=\"1\" class=\"dataframe\">\n",
       "  <thead>\n",
       "    <tr style=\"text-align: right;\">\n",
       "      <th></th>\n",
       "      <th>Name</th>\n",
       "      <th>Age</th>\n",
       "      <th>Address</th>\n",
       "      <th>Phone</th>\n",
       "    </tr>\n",
       "    <tr>\n",
       "      <th>Sn</th>\n",
       "      <th></th>\n",
       "      <th></th>\n",
       "      <th></th>\n",
       "      <th></th>\n",
       "    </tr>\n",
       "  </thead>\n",
       "  <tbody>\n",
       "    <tr>\n",
       "      <th>1</th>\n",
       "      <td>Anil</td>\n",
       "      <td>26</td>\n",
       "      <td>Kathmandu</td>\n",
       "      <td>9817853704</td>\n",
       "    </tr>\n",
       "    <tr>\n",
       "      <th>2</th>\n",
       "      <td>Akash</td>\n",
       "      <td>12</td>\n",
       "      <td>JNK</td>\n",
       "      <td>9812134811</td>\n",
       "    </tr>\n",
       "    <tr>\n",
       "      <th>3</th>\n",
       "      <td>Rita</td>\n",
       "      <td>30</td>\n",
       "      <td>Janakpur</td>\n",
       "      <td>9844295111</td>\n",
       "    </tr>\n",
       "    <tr>\n",
       "      <th>4</th>\n",
       "      <td>Riya</td>\n",
       "      <td>10</td>\n",
       "      <td>Kataiya</td>\n",
       "      <td>9812083054</td>\n",
       "    </tr>\n",
       "    <tr>\n",
       "      <th>5</th>\n",
       "      <td>Monika</td>\n",
       "      <td>20</td>\n",
       "      <td>Kataiya</td>\n",
       "      <td>9819805433</td>\n",
       "    </tr>\n",
       "    <tr>\n",
       "      <th>6</th>\n",
       "      <td>Anita</td>\n",
       "      <td>30</td>\n",
       "      <td>Bateshwor</td>\n",
       "      <td>9804851965</td>\n",
       "    </tr>\n",
       "    <tr>\n",
       "      <th>7</th>\n",
       "      <td>Indal</td>\n",
       "      <td>35</td>\n",
       "      <td>Bateshwor</td>\n",
       "      <td>9803713054</td>\n",
       "    </tr>\n",
       "  </tbody>\n",
       "</table>\n",
       "</div>"
      ],
      "text/plain": [
       "      Name  Age    Address       Phone\n",
       "Sn                                    \n",
       "1     Anil   26  Kathmandu  9817853704\n",
       "2    Akash   12        JNK  9812134811\n",
       "3     Rita   30   Janakpur  9844295111\n",
       "4     Riya   10    Kataiya  9812083054\n",
       "5   Monika   20    Kataiya  9819805433\n",
       "6    Anita   30  Bateshwor  9804851965\n",
       "7    Indal   35  Bateshwor  9803713054"
      ]
     },
     "execution_count": 21,
     "metadata": {},
     "output_type": "execute_result"
    }
   ],
   "source": [
    "import pandas as pd\n",
    "df = pd.read_csv('data1.csv',index_col = 'Sn')\n",
    "df"
   ]
  },
  {
   "cell_type": "code",
   "execution_count": 24,
   "id": "15e04b5e",
   "metadata": {},
   "outputs": [
    {
     "data": {
      "text/html": [
       "<div>\n",
       "<style scoped>\n",
       "    .dataframe tbody tr th:only-of-type {\n",
       "        vertical-align: middle;\n",
       "    }\n",
       "\n",
       "    .dataframe tbody tr th {\n",
       "        vertical-align: top;\n",
       "    }\n",
       "\n",
       "    .dataframe thead th {\n",
       "        text-align: right;\n",
       "    }\n",
       "</style>\n",
       "<table border=\"1\" class=\"dataframe\">\n",
       "  <thead>\n",
       "    <tr style=\"text-align: right;\">\n",
       "      <th></th>\n",
       "      <th>Name</th>\n",
       "      <th>Age</th>\n",
       "      <th>Address</th>\n",
       "      <th>Phone</th>\n",
       "    </tr>\n",
       "    <tr>\n",
       "      <th>Sn</th>\n",
       "      <th></th>\n",
       "      <th></th>\n",
       "      <th></th>\n",
       "      <th></th>\n",
       "    </tr>\n",
       "  </thead>\n",
       "  <tbody>\n",
       "    <tr>\n",
       "      <th>1</th>\n",
       "      <td>Anil</td>\n",
       "      <td>26</td>\n",
       "      <td>Kathmandu</td>\n",
       "      <td>9817853704</td>\n",
       "    </tr>\n",
       "    <tr>\n",
       "      <th>2</th>\n",
       "      <td>Akash</td>\n",
       "      <td>12</td>\n",
       "      <td>JNK</td>\n",
       "      <td>9812134811</td>\n",
       "    </tr>\n",
       "    <tr>\n",
       "      <th>3</th>\n",
       "      <td>Rita</td>\n",
       "      <td>30</td>\n",
       "      <td>Janakpur</td>\n",
       "      <td>9844295111</td>\n",
       "    </tr>\n",
       "  </tbody>\n",
       "</table>\n",
       "</div>"
      ],
      "text/plain": [
       "     Name  Age    Address       Phone\n",
       "Sn                                   \n",
       "1    Anil   26  Kathmandu  9817853704\n",
       "2   Akash   12        JNK  9812134811\n",
       "3    Rita   30   Janakpur  9844295111"
      ]
     },
     "execution_count": 24,
     "metadata": {},
     "output_type": "execute_result"
    }
   ],
   "source": [
    "import pandas as pd\n",
    "df = pd.read_csv('data1.csv',index_col = 'Sn')\n",
    "df.loc[1:3]"
   ]
  },
  {
   "cell_type": "code",
   "execution_count": 25,
   "id": "db9215fd",
   "metadata": {},
   "outputs": [
    {
     "data": {
      "text/html": [
       "<div>\n",
       "<style scoped>\n",
       "    .dataframe tbody tr th:only-of-type {\n",
       "        vertical-align: middle;\n",
       "    }\n",
       "\n",
       "    .dataframe tbody tr th {\n",
       "        vertical-align: top;\n",
       "    }\n",
       "\n",
       "    .dataframe thead th {\n",
       "        text-align: right;\n",
       "    }\n",
       "</style>\n",
       "<table border=\"1\" class=\"dataframe\">\n",
       "  <thead>\n",
       "    <tr style=\"text-align: right;\">\n",
       "      <th></th>\n",
       "      <th>Sn</th>\n",
       "      <th>Age</th>\n",
       "      <th>Address</th>\n",
       "      <th>Phone</th>\n",
       "    </tr>\n",
       "    <tr>\n",
       "      <th>Name</th>\n",
       "      <th></th>\n",
       "      <th></th>\n",
       "      <th></th>\n",
       "      <th></th>\n",
       "    </tr>\n",
       "  </thead>\n",
       "  <tbody>\n",
       "    <tr>\n",
       "      <th>Anil</th>\n",
       "      <td>1</td>\n",
       "      <td>26</td>\n",
       "      <td>Kathmandu</td>\n",
       "      <td>9817853704</td>\n",
       "    </tr>\n",
       "    <tr>\n",
       "      <th>Akash</th>\n",
       "      <td>2</td>\n",
       "      <td>12</td>\n",
       "      <td>JNK</td>\n",
       "      <td>9812134811</td>\n",
       "    </tr>\n",
       "    <tr>\n",
       "      <th>Rita</th>\n",
       "      <td>3</td>\n",
       "      <td>30</td>\n",
       "      <td>Janakpur</td>\n",
       "      <td>9844295111</td>\n",
       "    </tr>\n",
       "    <tr>\n",
       "      <th>Riya</th>\n",
       "      <td>4</td>\n",
       "      <td>10</td>\n",
       "      <td>Kataiya</td>\n",
       "      <td>9812083054</td>\n",
       "    </tr>\n",
       "    <tr>\n",
       "      <th>Monika</th>\n",
       "      <td>5</td>\n",
       "      <td>20</td>\n",
       "      <td>Kataiya</td>\n",
       "      <td>9819805433</td>\n",
       "    </tr>\n",
       "    <tr>\n",
       "      <th>Anita</th>\n",
       "      <td>6</td>\n",
       "      <td>30</td>\n",
       "      <td>Bateshwor</td>\n",
       "      <td>9804851965</td>\n",
       "    </tr>\n",
       "    <tr>\n",
       "      <th>Indal</th>\n",
       "      <td>7</td>\n",
       "      <td>35</td>\n",
       "      <td>Bateshwor</td>\n",
       "      <td>9803713054</td>\n",
       "    </tr>\n",
       "  </tbody>\n",
       "</table>\n",
       "</div>"
      ],
      "text/plain": [
       "        Sn  Age    Address       Phone\n",
       "Name                                  \n",
       "Anil     1   26  Kathmandu  9817853704\n",
       "Akash    2   12        JNK  9812134811\n",
       "Rita     3   30   Janakpur  9844295111\n",
       "Riya     4   10    Kataiya  9812083054\n",
       "Monika   5   20    Kataiya  9819805433\n",
       "Anita    6   30  Bateshwor  9804851965\n",
       "Indal    7   35  Bateshwor  9803713054"
      ]
     },
     "execution_count": 25,
     "metadata": {},
     "output_type": "execute_result"
    }
   ],
   "source": [
    "import pandas as pd\n",
    "df = pd.read_csv('data1.csv',index_col = 'Name')\n",
    "df"
   ]
  },
  {
   "cell_type": "code",
   "execution_count": 26,
   "id": "d6c79050",
   "metadata": {},
   "outputs": [
    {
     "data": {
      "text/html": [
       "<div>\n",
       "<style scoped>\n",
       "    .dataframe tbody tr th:only-of-type {\n",
       "        vertical-align: middle;\n",
       "    }\n",
       "\n",
       "    .dataframe tbody tr th {\n",
       "        vertical-align: top;\n",
       "    }\n",
       "\n",
       "    .dataframe thead th {\n",
       "        text-align: right;\n",
       "    }\n",
       "</style>\n",
       "<table border=\"1\" class=\"dataframe\">\n",
       "  <thead>\n",
       "    <tr style=\"text-align: right;\">\n",
       "      <th></th>\n",
       "      <th>Sn</th>\n",
       "      <th>Age</th>\n",
       "      <th>Address</th>\n",
       "      <th>Phone</th>\n",
       "    </tr>\n",
       "    <tr>\n",
       "      <th>Name</th>\n",
       "      <th></th>\n",
       "      <th></th>\n",
       "      <th></th>\n",
       "      <th></th>\n",
       "    </tr>\n",
       "  </thead>\n",
       "  <tbody>\n",
       "    <tr>\n",
       "      <th>Anil</th>\n",
       "      <td>1</td>\n",
       "      <td>26</td>\n",
       "      <td>Kathmandu</td>\n",
       "      <td>9817853704</td>\n",
       "    </tr>\n",
       "    <tr>\n",
       "      <th>Akash</th>\n",
       "      <td>2</td>\n",
       "      <td>12</td>\n",
       "      <td>JNK</td>\n",
       "      <td>9812134811</td>\n",
       "    </tr>\n",
       "    <tr>\n",
       "      <th>Rita</th>\n",
       "      <td>3</td>\n",
       "      <td>30</td>\n",
       "      <td>Janakpur</td>\n",
       "      <td>9844295111</td>\n",
       "    </tr>\n",
       "    <tr>\n",
       "      <th>Riya</th>\n",
       "      <td>4</td>\n",
       "      <td>10</td>\n",
       "      <td>Kataiya</td>\n",
       "      <td>9812083054</td>\n",
       "    </tr>\n",
       "    <tr>\n",
       "      <th>Monika</th>\n",
       "      <td>5</td>\n",
       "      <td>20</td>\n",
       "      <td>Kataiya</td>\n",
       "      <td>9819805433</td>\n",
       "    </tr>\n",
       "  </tbody>\n",
       "</table>\n",
       "</div>"
      ],
      "text/plain": [
       "        Sn  Age    Address       Phone\n",
       "Name                                  \n",
       "Anil     1   26  Kathmandu  9817853704\n",
       "Akash    2   12        JNK  9812134811\n",
       "Rita     3   30   Janakpur  9844295111\n",
       "Riya     4   10    Kataiya  9812083054\n",
       "Monika   5   20    Kataiya  9819805433"
      ]
     },
     "execution_count": 26,
     "metadata": {},
     "output_type": "execute_result"
    }
   ],
   "source": [
    "import pandas as pd\n",
    "df = pd.read_csv('data1.csv',index_col = 'Name')\n",
    "df.loc['Anil':'Monika']"
   ]
  },
  {
   "cell_type": "code",
   "execution_count": 28,
   "id": "75f37b33",
   "metadata": {},
   "outputs": [
    {
     "data": {
      "text/html": [
       "<div>\n",
       "<style scoped>\n",
       "    .dataframe tbody tr th:only-of-type {\n",
       "        vertical-align: middle;\n",
       "    }\n",
       "\n",
       "    .dataframe tbody tr th {\n",
       "        vertical-align: top;\n",
       "    }\n",
       "\n",
       "    .dataframe thead th {\n",
       "        text-align: right;\n",
       "    }\n",
       "</style>\n",
       "<table border=\"1\" class=\"dataframe\">\n",
       "  <thead>\n",
       "    <tr style=\"text-align: right;\">\n",
       "      <th></th>\n",
       "      <th>Name</th>\n",
       "      <th>Age</th>\n",
       "      <th>Address</th>\n",
       "      <th>Phone</th>\n",
       "    </tr>\n",
       "    <tr>\n",
       "      <th>Sn</th>\n",
       "      <th></th>\n",
       "      <th></th>\n",
       "      <th></th>\n",
       "      <th></th>\n",
       "    </tr>\n",
       "  </thead>\n",
       "  <tbody>\n",
       "    <tr>\n",
       "      <th>1</th>\n",
       "      <td>Anil</td>\n",
       "      <td>26</td>\n",
       "      <td>Kathmandu</td>\n",
       "      <td>9817853704</td>\n",
       "    </tr>\n",
       "    <tr>\n",
       "      <th>2</th>\n",
       "      <td>Akash</td>\n",
       "      <td>12</td>\n",
       "      <td>JNK</td>\n",
       "      <td>9812134811</td>\n",
       "    </tr>\n",
       "    <tr>\n",
       "      <th>3</th>\n",
       "      <td>Rita</td>\n",
       "      <td>30</td>\n",
       "      <td>Janakpur</td>\n",
       "      <td>9844295111</td>\n",
       "    </tr>\n",
       "    <tr>\n",
       "      <th>4</th>\n",
       "      <td>Riya</td>\n",
       "      <td>10</td>\n",
       "      <td>Kataiya</td>\n",
       "      <td>9812083054</td>\n",
       "    </tr>\n",
       "    <tr>\n",
       "      <th>5</th>\n",
       "      <td>Monika</td>\n",
       "      <td>20</td>\n",
       "      <td>Kataiya</td>\n",
       "      <td>9819805433</td>\n",
       "    </tr>\n",
       "    <tr>\n",
       "      <th>6</th>\n",
       "      <td>Anita</td>\n",
       "      <td>30</td>\n",
       "      <td>Bateshwor</td>\n",
       "      <td>9804851965</td>\n",
       "    </tr>\n",
       "    <tr>\n",
       "      <th>7</th>\n",
       "      <td>Indal</td>\n",
       "      <td>35</td>\n",
       "      <td>Bateshwor</td>\n",
       "      <td>9803713054</td>\n",
       "    </tr>\n",
       "  </tbody>\n",
       "</table>\n",
       "</div>"
      ],
      "text/plain": [
       "      Name  Age    Address       Phone\n",
       "Sn                                    \n",
       "1     Anil   26  Kathmandu  9817853704\n",
       "2    Akash   12        JNK  9812134811\n",
       "3     Rita   30   Janakpur  9844295111\n",
       "4     Riya   10    Kataiya  9812083054\n",
       "5   Monika   20    Kataiya  9819805433\n",
       "6    Anita   30  Bateshwor  9804851965\n",
       "7    Indal   35  Bateshwor  9803713054"
      ]
     },
     "execution_count": 28,
     "metadata": {},
     "output_type": "execute_result"
    }
   ],
   "source": [
    " import pandas as pd\n",
    "df = pd.read_csv('data1.csv',index_col = 'Sn')\n",
    "df"
   ]
  },
  {
   "cell_type": "code",
   "execution_count": 31,
   "id": "06edc022",
   "metadata": {},
   "outputs": [
    {
     "data": {
      "text/plain": [
       "Sn\n",
       "1    Kathmandu\n",
       "2          JNK\n",
       "3     Janakpur\n",
       "4      Kataiya\n",
       "5      Kataiya\n",
       "6    Bateshwor\n",
       "7    Bateshwor\n",
       "Name: Address, dtype: object"
      ]
     },
     "execution_count": 31,
     "metadata": {},
     "output_type": "execute_result"
    }
   ],
   "source": [
    "import pandas as pd\n",
    "df = pd.read_csv('data1.csv',index_col = 'Sn')\n",
    "df['Address']"
   ]
  },
  {
   "cell_type": "code",
   "execution_count": 33,
   "id": "a9f6fe39",
   "metadata": {},
   "outputs": [
    {
     "data": {
      "text/plain": [
       "Sn\n",
       "1    False\n",
       "2    False\n",
       "3    False\n",
       "4     True\n",
       "5     True\n",
       "6    False\n",
       "7    False\n",
       "Name: Address, dtype: bool"
      ]
     },
     "execution_count": 33,
     "metadata": {},
     "output_type": "execute_result"
    }
   ],
   "source": [
    "import pandas as pd\n",
    "df = pd.read_csv('data1.csv',index_col = 'Sn')\n",
    "df['Address'] == 'Kataiya'"
   ]
  },
  {
   "cell_type": "code",
   "execution_count": 34,
   "id": "e7299b32",
   "metadata": {},
   "outputs": [
    {
     "data": {
      "text/html": [
       "<div>\n",
       "<style scoped>\n",
       "    .dataframe tbody tr th:only-of-type {\n",
       "        vertical-align: middle;\n",
       "    }\n",
       "\n",
       "    .dataframe tbody tr th {\n",
       "        vertical-align: top;\n",
       "    }\n",
       "\n",
       "    .dataframe thead th {\n",
       "        text-align: right;\n",
       "    }\n",
       "</style>\n",
       "<table border=\"1\" class=\"dataframe\">\n",
       "  <thead>\n",
       "    <tr style=\"text-align: right;\">\n",
       "      <th></th>\n",
       "      <th>Name</th>\n",
       "      <th>Age</th>\n",
       "      <th>Address</th>\n",
       "      <th>Phone</th>\n",
       "    </tr>\n",
       "    <tr>\n",
       "      <th>Sn</th>\n",
       "      <th></th>\n",
       "      <th></th>\n",
       "      <th></th>\n",
       "      <th></th>\n",
       "    </tr>\n",
       "  </thead>\n",
       "  <tbody>\n",
       "    <tr>\n",
       "      <th>4</th>\n",
       "      <td>Riya</td>\n",
       "      <td>10</td>\n",
       "      <td>Kataiya</td>\n",
       "      <td>9812083054</td>\n",
       "    </tr>\n",
       "    <tr>\n",
       "      <th>5</th>\n",
       "      <td>Monika</td>\n",
       "      <td>20</td>\n",
       "      <td>Kataiya</td>\n",
       "      <td>9819805433</td>\n",
       "    </tr>\n",
       "  </tbody>\n",
       "</table>\n",
       "</div>"
      ],
      "text/plain": [
       "      Name  Age  Address       Phone\n",
       "Sn                                  \n",
       "4     Riya   10  Kataiya  9812083054\n",
       "5   Monika   20  Kataiya  9819805433"
      ]
     },
     "execution_count": 34,
     "metadata": {},
     "output_type": "execute_result"
    }
   ],
   "source": [
    "import pandas as pd\n",
    "df = pd.read_csv('data1.csv',index_col = 'Sn')\n",
    "df[df['Address'] == 'Kataiya']"
   ]
  },
  {
   "cell_type": "code",
   "execution_count": 38,
   "id": "16d88fb0",
   "metadata": {},
   "outputs": [
    {
     "data": {
      "text/html": [
       "<div>\n",
       "<style scoped>\n",
       "    .dataframe tbody tr th:only-of-type {\n",
       "        vertical-align: middle;\n",
       "    }\n",
       "\n",
       "    .dataframe tbody tr th {\n",
       "        vertical-align: top;\n",
       "    }\n",
       "\n",
       "    .dataframe thead th {\n",
       "        text-align: right;\n",
       "    }\n",
       "</style>\n",
       "<table border=\"1\" class=\"dataframe\">\n",
       "  <thead>\n",
       "    <tr style=\"text-align: right;\">\n",
       "      <th></th>\n",
       "      <th>Name</th>\n",
       "      <th>Age</th>\n",
       "      <th>Address</th>\n",
       "      <th>Phone</th>\n",
       "    </tr>\n",
       "    <tr>\n",
       "      <th>Sn</th>\n",
       "      <th></th>\n",
       "      <th></th>\n",
       "      <th></th>\n",
       "      <th></th>\n",
       "    </tr>\n",
       "  </thead>\n",
       "  <tbody>\n",
       "    <tr>\n",
       "      <th>1</th>\n",
       "      <td>Anil</td>\n",
       "      <td>26</td>\n",
       "      <td>Kathmandu</td>\n",
       "      <td>9817853704</td>\n",
       "    </tr>\n",
       "    <tr>\n",
       "      <th>3</th>\n",
       "      <td>Rita</td>\n",
       "      <td>30</td>\n",
       "      <td>Janakpur</td>\n",
       "      <td>9844295111</td>\n",
       "    </tr>\n",
       "    <tr>\n",
       "      <th>6</th>\n",
       "      <td>Anita</td>\n",
       "      <td>30</td>\n",
       "      <td>Bateshwor</td>\n",
       "      <td>9804851965</td>\n",
       "    </tr>\n",
       "    <tr>\n",
       "      <th>7</th>\n",
       "      <td>Indal</td>\n",
       "      <td>35</td>\n",
       "      <td>Bateshwor</td>\n",
       "      <td>9803713054</td>\n",
       "    </tr>\n",
       "  </tbody>\n",
       "</table>\n",
       "</div>"
      ],
      "text/plain": [
       "     Name  Age    Address       Phone\n",
       "Sn                                   \n",
       "1    Anil   26  Kathmandu  9817853704\n",
       "3    Rita   30   Janakpur  9844295111\n",
       "6   Anita   30  Bateshwor  9804851965\n",
       "7   Indal   35  Bateshwor  9803713054"
      ]
     },
     "execution_count": 38,
     "metadata": {},
     "output_type": "execute_result"
    }
   ],
   "source": [
    "import pandas as pd\n",
    "df = pd.read_csv('data1.csv',index_col = 'Sn')\n",
    "data = df[df['Age'] > 20]\n",
    "data"
   ]
  },
  {
   "cell_type": "code",
   "execution_count": 40,
   "id": "1f8ebd19",
   "metadata": {},
   "outputs": [
    {
     "data": {
      "text/html": [
       "<div>\n",
       "<style scoped>\n",
       "    .dataframe tbody tr th:only-of-type {\n",
       "        vertical-align: middle;\n",
       "    }\n",
       "\n",
       "    .dataframe tbody tr th {\n",
       "        vertical-align: top;\n",
       "    }\n",
       "\n",
       "    .dataframe thead th {\n",
       "        text-align: right;\n",
       "    }\n",
       "</style>\n",
       "<table border=\"1\" class=\"dataframe\">\n",
       "  <thead>\n",
       "    <tr style=\"text-align: right;\">\n",
       "      <th></th>\n",
       "      <th>Name</th>\n",
       "      <th>Age</th>\n",
       "      <th>Address</th>\n",
       "      <th>Phone</th>\n",
       "    </tr>\n",
       "    <tr>\n",
       "      <th>Sn</th>\n",
       "      <th></th>\n",
       "      <th></th>\n",
       "      <th></th>\n",
       "      <th></th>\n",
       "    </tr>\n",
       "  </thead>\n",
       "  <tbody>\n",
       "    <tr>\n",
       "      <th>1</th>\n",
       "      <td>Anil</td>\n",
       "      <td>26</td>\n",
       "      <td>Kathmandu</td>\n",
       "      <td>9817853704</td>\n",
       "    </tr>\n",
       "    <tr>\n",
       "      <th>3</th>\n",
       "      <td>Rita</td>\n",
       "      <td>30</td>\n",
       "      <td>Janakpur</td>\n",
       "      <td>9844295111</td>\n",
       "    </tr>\n",
       "    <tr>\n",
       "      <th>4</th>\n",
       "      <td>Riya</td>\n",
       "      <td>10</td>\n",
       "      <td>Kataiya</td>\n",
       "      <td>9812083054</td>\n",
       "    </tr>\n",
       "    <tr>\n",
       "      <th>5</th>\n",
       "      <td>Monika</td>\n",
       "      <td>20</td>\n",
       "      <td>Kataiya</td>\n",
       "      <td>9819805433</td>\n",
       "    </tr>\n",
       "    <tr>\n",
       "      <th>6</th>\n",
       "      <td>Anita</td>\n",
       "      <td>30</td>\n",
       "      <td>Bateshwor</td>\n",
       "      <td>9804851965</td>\n",
       "    </tr>\n",
       "    <tr>\n",
       "      <th>7</th>\n",
       "      <td>Indal</td>\n",
       "      <td>35</td>\n",
       "      <td>Bateshwor</td>\n",
       "      <td>9803713054</td>\n",
       "    </tr>\n",
       "  </tbody>\n",
       "</table>\n",
       "</div>"
      ],
      "text/plain": [
       "      Name  Age    Address       Phone\n",
       "Sn                                    \n",
       "1     Anil   26  Kathmandu  9817853704\n",
       "3     Rita   30   Janakpur  9844295111\n",
       "4     Riya   10    Kataiya  9812083054\n",
       "5   Monika   20    Kataiya  9819805433\n",
       "6    Anita   30  Bateshwor  9804851965\n",
       "7    Indal   35  Bateshwor  9803713054"
      ]
     },
     "execution_count": 40,
     "metadata": {},
     "output_type": "execute_result"
    }
   ],
   "source": [
    "import pandas as pd\n",
    "df = pd.read_csv('data1.csv',index_col = 'Sn')\n",
    "data = df[(df['Age'] > 20) | (df['Address'] == 'Kataiya')]\n",
    "data"
   ]
  },
  {
   "cell_type": "code",
   "execution_count": 1,
   "id": "42f230cf",
   "metadata": {},
   "outputs": [],
   "source": [
    "import pandas as pd\n",
    "df = pd.read_csv('data1.csv',index_col = 'Sn')\n",
    "data = df[df['Age'] > 20]\n",
    "data.to_csv('age.csv')"
   ]
  },
  {
   "cell_type": "code",
   "execution_count": 17,
   "id": "55054c98",
   "metadata": {},
   "outputs": [
    {
     "name": "stdout",
     "output_type": "stream",
     "text": [
      "{'Name': ['Anil', 'Rina', 'Akash', 'Rita'], 'Age': [26, 20, 12, 30], 'Address': ['Ktm', 'Jnk', 'Jnk', 'Lochana']}\n"
     ]
    }
   ],
   "source": [
    "import pandas as pd\n",
    "data = {'Name':['Anil','Rina','Akash'],\n",
    "       'Age':[26,20,12],\n",
    "       'Address':['Ktm','Jnk','Jnk']}\n",
    "data['Name'].append('Rita')\n",
    "data['Age'].append(30)\n",
    "data['Address'].append('Lochana')\n",
    "print(data)\n",
    "df = pd.DataFrame(data)\n",
    "df.to_json('newdata.json')\n"
   ]
  },
  {
   "cell_type": "code",
   "execution_count": null,
   "id": "1a82a648",
   "metadata": {},
   "outputs": [],
   "source": []
  },
  {
   "cell_type": "code",
   "execution_count": 18,
   "id": "72598dfd",
   "metadata": {},
   "outputs": [
    {
     "data": {
      "text/html": [
       "<div>\n",
       "<style scoped>\n",
       "    .dataframe tbody tr th:only-of-type {\n",
       "        vertical-align: middle;\n",
       "    }\n",
       "\n",
       "    .dataframe tbody tr th {\n",
       "        vertical-align: top;\n",
       "    }\n",
       "\n",
       "    .dataframe thead th {\n",
       "        text-align: right;\n",
       "    }\n",
       "</style>\n",
       "<table border=\"1\" class=\"dataframe\">\n",
       "  <thead>\n",
       "    <tr style=\"text-align: right;\">\n",
       "      <th></th>\n",
       "      <th>Name</th>\n",
       "      <th>Age</th>\n",
       "      <th>Address</th>\n",
       "    </tr>\n",
       "  </thead>\n",
       "  <tbody>\n",
       "    <tr>\n",
       "      <th>0</th>\n",
       "      <td>Anil</td>\n",
       "      <td>26</td>\n",
       "      <td>Ktm</td>\n",
       "    </tr>\n",
       "    <tr>\n",
       "      <th>1</th>\n",
       "      <td>Rina</td>\n",
       "      <td>20</td>\n",
       "      <td>Jnk</td>\n",
       "    </tr>\n",
       "    <tr>\n",
       "      <th>2</th>\n",
       "      <td>Akash</td>\n",
       "      <td>12</td>\n",
       "      <td>Jnk</td>\n",
       "    </tr>\n",
       "    <tr>\n",
       "      <th>3</th>\n",
       "      <td>Rita</td>\n",
       "      <td>30</td>\n",
       "      <td>Lochana</td>\n",
       "    </tr>\n",
       "  </tbody>\n",
       "</table>\n",
       "</div>"
      ],
      "text/plain": [
       "    Name  Age  Address\n",
       "0   Anil   26      Ktm\n",
       "1   Rina   20      Jnk\n",
       "2  Akash   12      Jnk\n",
       "3   Rita   30  Lochana"
      ]
     },
     "execution_count": 18,
     "metadata": {},
     "output_type": "execute_result"
    }
   ],
   "source": [
    "df"
   ]
  },
  {
   "cell_type": "code",
   "execution_count": null,
   "id": "6a17972f",
   "metadata": {},
   "outputs": [],
   "source": [
    "import csv\n",
    "fields = ['Riya','10','Kataiya']\n",
    "with open('newdata.csv', 'a') as f:\n",
    "    x = csv.writer(f)\n",
    "    x.writerow(fields)"
   ]
  },
  {
   "cell_type": "code",
   "execution_count": 29,
   "id": "baf46515",
   "metadata": {},
   "outputs": [],
   "source": [
    "import csv\n",
    "fields = ['Riya','10','Janakpur']\n",
    "f = open('newdata.csv', 'a')\n",
    "x = csv.writer(f)\n",
    "x.writerow(fields)\n",
    "f.close()"
   ]
  },
  {
   "cell_type": "code",
   "execution_count": 30,
   "id": "04b951a9",
   "metadata": {},
   "outputs": [],
   "source": [
    "import csv\n",
    "fields = [['Monika','10','Kataiya'],\n",
    "          ['Anil','26','Kathmandu'],\n",
    "         ['Rita','30','Jnk']]\n",
    "f = open('newdata.csv', 'w')\n",
    "x = csv.writer(f)\n",
    "for i in fields:\n",
    "    x.writerow(i)\n",
    "f.close()"
   ]
  },
  {
   "cell_type": "code",
   "execution_count": 33,
   "id": "57e4c52f",
   "metadata": {},
   "outputs": [
    {
     "data": {
      "text/plain": [
       "[{'Name': 'Monika', 'Age': '10', 'Address': 'Kataiya'},\n",
       " {'Name': 'Anil', 'Age': '26', 'Address': 'Kathmandu'},\n",
       " {'Name': 'Rita', 'Age': '30', 'Address': 'Jnk'}]"
      ]
     },
     "execution_count": 33,
     "metadata": {},
     "output_type": "execute_result"
    }
   ],
   "source": [
    "import csv\n",
    "data = []\n",
    "with open('newdata.csv') as csvfile:\n",
    "    reader = csv.DictReader(csvfile)\n",
    "    for row in reader:\n",
    "        data.append(row)\n",
    "data        "
   ]
  },
  {
   "cell_type": "code",
   "execution_count": 37,
   "id": "97b98d2c",
   "metadata": {},
   "outputs": [],
   "source": [
    "import csv\n",
    "csv_columns = ['Name', 'Age', 'Address']\n",
    "dict = [\n",
    "    {'Name': 'Anil','Age':26,'Address':'KTM'},\n",
    "    {'Name': 'Rita','Age':30,'Address':'JNK'}\n",
    "]\n",
    "\n",
    "csvfile = open('data.csv', 'w')\n",
    "writer = csv.DictWriter(csvfile, fieldnames=csv_columns)\n",
    "writer.writeheader()\n",
    "for data in dict:\n",
    "    writer.writerow(data)\n",
    "    \n",
    "csvfile.close()    "
   ]
  },
  {
   "cell_type": "code",
   "execution_count": 2,
   "id": "a61a5ce0",
   "metadata": {},
   "outputs": [
    {
     "data": {
      "text/html": [
       "<div>\n",
       "<style scoped>\n",
       "    .dataframe tbody tr th:only-of-type {\n",
       "        vertical-align: middle;\n",
       "    }\n",
       "\n",
       "    .dataframe tbody tr th {\n",
       "        vertical-align: top;\n",
       "    }\n",
       "\n",
       "    .dataframe thead th {\n",
       "        text-align: right;\n",
       "    }\n",
       "</style>\n",
       "<table border=\"1\" class=\"dataframe\">\n",
       "  <thead>\n",
       "    <tr style=\"text-align: right;\">\n",
       "      <th></th>\n",
       "      <th>Name</th>\n",
       "      <th>Age</th>\n",
       "      <th>Address</th>\n",
       "    </tr>\n",
       "  </thead>\n",
       "  <tbody>\n",
       "    <tr>\n",
       "      <th>0</th>\n",
       "      <td>Anil</td>\n",
       "      <td>26</td>\n",
       "      <td>KTM</td>\n",
       "    </tr>\n",
       "    <tr>\n",
       "      <th>1</th>\n",
       "      <td>Rita</td>\n",
       "      <td>30</td>\n",
       "      <td>JNK</td>\n",
       "    </tr>\n",
       "  </tbody>\n",
       "</table>\n",
       "</div>"
      ],
      "text/plain": [
       "   Name  Age Address\n",
       "0  Anil   26     KTM\n",
       "1  Rita   30     JNK"
      ]
     },
     "execution_count": 2,
     "metadata": {},
     "output_type": "execute_result"
    }
   ],
   "source": [
    "import pandas as pd\n",
    "df = pd.read_csv('data.csv')  # df = DataFrame\n",
    "df"
   ]
  },
  {
   "cell_type": "code",
   "execution_count": 2,
   "id": "8e9504a7",
   "metadata": {},
   "outputs": [],
   "source": [
    "import pandas as pd\n",
    "\n",
    "b = open('data2.tsv','x')\n",
    "b.close()"
   ]
  },
  {
   "cell_type": "code",
   "execution_count": 5,
   "id": "eb3239d5",
   "metadata": {},
   "outputs": [
    {
     "data": {
      "text/html": [
       "<div>\n",
       "<style scoped>\n",
       "    .dataframe tbody tr th:only-of-type {\n",
       "        vertical-align: middle;\n",
       "    }\n",
       "\n",
       "    .dataframe tbody tr th {\n",
       "        vertical-align: top;\n",
       "    }\n",
       "\n",
       "    .dataframe thead th {\n",
       "        text-align: right;\n",
       "    }\n",
       "</style>\n",
       "<table border=\"1\" class=\"dataframe\">\n",
       "  <thead>\n",
       "    <tr style=\"text-align: right;\">\n",
       "      <th></th>\n",
       "      <th>Sn</th>\n",
       "      <th>Name</th>\n",
       "      <th>Age</th>\n",
       "      <th>Address</th>\n",
       "      <th>Phoneno</th>\n",
       "    </tr>\n",
       "  </thead>\n",
       "  <tbody>\n",
       "    <tr>\n",
       "      <th>0</th>\n",
       "      <td>1</td>\n",
       "      <td>Anil Kr. Sah</td>\n",
       "      <td>26</td>\n",
       "      <td>KTM</td>\n",
       "      <td>9817853704</td>\n",
       "    </tr>\n",
       "    <tr>\n",
       "      <th>1</th>\n",
       "      <td>2</td>\n",
       "      <td>Rita Sah</td>\n",
       "      <td>30</td>\n",
       "      <td>JNK</td>\n",
       "      <td>9844295111</td>\n",
       "    </tr>\n",
       "    <tr>\n",
       "      <th>2</th>\n",
       "      <td>3</td>\n",
       "      <td>Riya Sah</td>\n",
       "      <td>10</td>\n",
       "      <td>Jnkp</td>\n",
       "      <td>9812143811</td>\n",
       "    </tr>\n",
       "  </tbody>\n",
       "</table>\n",
       "</div>"
      ],
      "text/plain": [
       "   Sn          Name  Age Address     Phoneno\n",
       "0   1  Anil Kr. Sah   26     KTM  9817853704\n",
       "1   2      Rita Sah   30     JNK  9844295111\n",
       "2   3      Riya Sah   10    Jnkp  9812143811"
      ]
     },
     "execution_count": 5,
     "metadata": {},
     "output_type": "execute_result"
    }
   ],
   "source": [
    "import pandas as pd\n",
    "df = pd.read_csv('data2.tsv')  # df = DataFrame\n",
    "df"
   ]
  },
  {
   "cell_type": "code",
   "execution_count": null,
   "id": "d02e9dab",
   "metadata": {},
   "outputs": [],
   "source": []
  }
 ],
 "metadata": {
  "kernelspec": {
   "display_name": "Python 3 (ipykernel)",
   "language": "python",
   "name": "python3"
  },
  "language_info": {
   "codemirror_mode": {
    "name": "ipython",
    "version": 3
   },
   "file_extension": ".py",
   "mimetype": "text/x-python",
   "name": "python",
   "nbconvert_exporter": "python",
   "pygments_lexer": "ipython3",
   "version": "3.9.7"
  }
 },
 "nbformat": 4,
 "nbformat_minor": 5
}
