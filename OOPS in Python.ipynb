{
 "cells": [
  {
   "cell_type": "markdown",
   "id": "b69e8cf6",
   "metadata": {},
   "source": [
    "# Class and objects"
   ]
  },
  {
   "cell_type": "code",
   "execution_count": 1,
   "id": "32be057c",
   "metadata": {},
   "outputs": [
    {
     "name": "stdout",
     "output_type": "stream",
     "text": [
      "<class '__main__.myclass'>\n"
     ]
    }
   ],
   "source": [
    "#how to create a class\n",
    "\n",
    "class myclass:\n",
    "    x = 5   # property of class\n",
    "print(myclass)    "
   ]
  },
  {
   "cell_type": "code",
   "execution_count": 3,
   "id": "4467131e",
   "metadata": {},
   "outputs": [
    {
     "name": "stdout",
     "output_type": "stream",
     "text": [
      "5\n"
     ]
    }
   ],
   "source": [
    "# How to create object\n",
    "\n",
    "class myclass:\n",
    "    x = 5\n",
    "    \n",
    "m1 = myclass()\n",
    "print(m1.x)"
   ]
  },
  {
   "cell_type": "code",
   "execution_count": 4,
   "id": "8347e8a9",
   "metadata": {},
   "outputs": [
    {
     "name": "stdout",
     "output_type": "stream",
     "text": [
      "Hello myfunction\n"
     ]
    }
   ],
   "source": [
    "# Calling a function by object\n",
    "\n",
    "class myclass:\n",
    "    def myfunction(self):\n",
    "        print(\"Hello myfunction\")\n",
    "        \n",
    "m1 = myclass()\n",
    "m1.myfunction()"
   ]
  },
  {
   "cell_type": "code",
   "execution_count": 5,
   "id": "b79a223d",
   "metadata": {},
   "outputs": [
    {
     "name": "stdout",
     "output_type": "stream",
     "text": [
      "This is my constructor\n"
     ]
    }
   ],
   "source": [
    "#how to create constructor\n",
    "\n",
    "class myclass:\n",
    "    def __init__(self):\n",
    "        print(\"This is my constructor\")\n",
    "        \n",
    "m1 = myclass()        "
   ]
  },
  {
   "cell_type": "code",
   "execution_count": 11,
   "id": "7094c99e",
   "metadata": {},
   "outputs": [
    {
     "name": "stdout",
     "output_type": "stream",
     "text": [
      "Age :  26\n"
     ]
    },
    {
     "ename": "AttributeError",
     "evalue": "'myclass' object has no attribute 'age'",
     "output_type": "error",
     "traceback": [
      "\u001b[1;31m---------------------------------------------------------------------------\u001b[0m",
      "\u001b[1;31mAttributeError\u001b[0m                            Traceback (most recent call last)",
      "\u001b[1;32m~\\AppData\\Local\\Temp/ipykernel_24556/1114390368.py\u001b[0m in \u001b[0;36m<module>\u001b[1;34m\u001b[0m\n\u001b[0;32m     21\u001b[0m \u001b[1;33m\u001b[0m\u001b[0m\n\u001b[0;32m     22\u001b[0m \u001b[1;32mdel\u001b[0m \u001b[0mm1\u001b[0m\u001b[1;33m.\u001b[0m\u001b[0mage\u001b[0m\u001b[1;33m\u001b[0m\u001b[1;33m\u001b[0m\u001b[0m\n\u001b[1;32m---> 23\u001b[1;33m \u001b[0mprint\u001b[0m\u001b[1;33m(\u001b[0m\u001b[1;34m'Age : '\u001b[0m\u001b[1;33m,\u001b[0m \u001b[0mm1\u001b[0m\u001b[1;33m.\u001b[0m\u001b[0mage\u001b[0m\u001b[1;33m)\u001b[0m\u001b[1;33m\u001b[0m\u001b[1;33m\u001b[0m\u001b[0m\n\u001b[0m",
      "\u001b[1;31mAttributeError\u001b[0m: 'myclass' object has no attribute 'age'"
     ]
    }
   ],
   "source": [
    "# Change the value by object\n",
    "\n",
    "class myclass:\n",
    "    def __init__(self,name,age):\n",
    "        self.name = name\n",
    "        self.age = age\n",
    "    def myfunction(self):\n",
    "        print('My name is : '+self.name)\n",
    "        \n",
    "m1 = myclass('Anil', 25)\n",
    "m1.age\n",
    "m1.name\n",
    "\n",
    "\n",
    "# changing the age using object\n",
    "\n",
    "m1.age = 26\n",
    "print('Age : ', m1.age)\n",
    "\n",
    "# delete the obj\n",
    "\n",
    "del m1.age\n",
    "print('Age : ', m1.age)"
   ]
  },
  {
   "cell_type": "markdown",
   "id": "461fdc9a",
   "metadata": {},
   "source": [
    "# Inheritance "
   ]
  },
  {
   "cell_type": "code",
   "execution_count": null,
   "id": "89ce4bf1",
   "metadata": {},
   "outputs": [],
   "source": [
    "# class A:\n",
    "#     pass\n",
    "\n",
    "# class B(A):\n",
    "#     pass\n",
    "\n",
    "# obj = B()"
   ]
  },
  {
   "cell_type": "code",
   "execution_count": 1,
   "id": "8f48bad9",
   "metadata": {},
   "outputs": [
    {
     "name": "stdout",
     "output_type": "stream",
     "text": [
      "This is class A\n",
      "This is class B\n"
     ]
    }
   ],
   "source": [
    "class A:\n",
    "    print('This is class A')\n",
    "\n",
    "class B(A):\n",
    "    print('This is class B')\n",
    "\n",
    "obj = B()"
   ]
  },
  {
   "cell_type": "code",
   "execution_count": 7,
   "id": "8df3200e",
   "metadata": {},
   "outputs": [
    {
     "name": "stdout",
     "output_type": "stream",
     "text": [
      "This is class A Anil 26\n",
      "This is class B Anil 26\n",
      "This is class A Anil 26\n"
     ]
    }
   ],
   "source": [
    "class A:\n",
    "    def __init__(self):\n",
    "        self.name = 'Anil'\n",
    "        self.age = 26\n",
    "    def a(self):\n",
    "        print('This is class A',self.name,self.age)\n",
    "\n",
    "class B(A):\n",
    "    def b(self):\n",
    "        print('This is class B',self.name,self.age)\n",
    "        \n",
    "        \n",
    "\n",
    "obj = B()\n",
    "obj.a()\n",
    "obj.b()\n",
    "\n",
    "obj1 = A()\n",
    "obj1.a()"
   ]
  },
  {
   "cell_type": "code",
   "execution_count": 8,
   "id": "a73a0544",
   "metadata": {},
   "outputs": [
    {
     "name": "stdout",
     "output_type": "stream",
     "text": [
      "Enter name = Anil\n",
      "Enter age = 26\n",
      "This is class A Anil 26\n",
      "This is class B Anil 26\n"
     ]
    }
   ],
   "source": [
    "class A:\n",
    "    def __init__(self):\n",
    "        self.name = input('Enter name = ')\n",
    "        self.age = int(input('Enter age = '))\n",
    "    \n",
    "    def a(self):\n",
    "        print('This is class A',self.name,self.age)\n",
    "\n",
    "class B(A):\n",
    "    def b(self):\n",
    "        print('This is class B',self.name,self.age)\n",
    "        \n",
    "        \n",
    "\n",
    "obj = B()\n",
    "obj.a()\n",
    "obj.b()"
   ]
  },
  {
   "cell_type": "code",
   "execution_count": 21,
   "id": "dfc7eff8",
   "metadata": {},
   "outputs": [
    {
     "name": "stdout",
     "output_type": "stream",
     "text": [
      "Anil Nepal 26\n"
     ]
    }
   ],
   "source": [
    "#SINGLE INHERITANCE\n",
    "\n",
    "class Profile:\n",
    "    def __init__(self,name,address,age):\n",
    "        self.name = name\n",
    "        self.address = address\n",
    "        self.age = age\n",
    "        \n",
    "class Hr(Profile):\n",
    "        \n",
    "    def info(self):\n",
    "        print(self.name,self.address,self.age)\n",
    "        \n",
    "        \n",
    "x = Hr('Anil','Nepal',26)\n",
    "x.info()"
   ]
  },
  {
   "cell_type": "code",
   "execution_count": 33,
   "id": "478aa3ad",
   "metadata": {},
   "outputs": [
    {
     "name": "stdout",
     "output_type": "stream",
     "text": [
      "Anil Nepal 26\n"
     ]
    }
   ],
   "source": [
    "#SINGLE INHERITANCE\n",
    "\n",
    "class Profile:\n",
    "    def __init__(self,name,address):\n",
    "        self.name = name\n",
    "        self.address = address\n",
    "        \n",
    "class Hr(Profile):\n",
    "    def __init__(self,name,address,age):\n",
    "        self.age = age\n",
    "        Profile.__init__(self,name,address)\n",
    "    \n",
    "    def info(self):\n",
    "        print(self.name,self.address,self.age)\n",
    "        \n",
    "        \n",
    "x = Hr('Anil','Nepal',26)\n",
    "x.info()"
   ]
  },
  {
   "cell_type": "code",
   "execution_count": 32,
   "id": "f763f320",
   "metadata": {},
   "outputs": [
    {
     "name": "stdout",
     "output_type": "stream",
     "text": [
      "Hello,Welcome Anil From USA To Nepal\n"
     ]
    }
   ],
   "source": [
    "#MULTILAVEL INHERITANCE \n",
    "\n",
    "class Profile:\n",
    "    def __init__(self,name,address):\n",
    "        self.name = name\n",
    "        self.address = address\n",
    "        \n",
    "    def info(self):\n",
    "        print(self.name,self.address)\n",
    "        \n",
    "class Student(Profile):\n",
    "    def __init__(self,name,address,Country):\n",
    "        Profile.__init__(self,name,address)\n",
    "        self.Country = Country \n",
    "        \n",
    "    def hello(self):\n",
    "        print('Hello,Welcome',self.name,'From',self.address,'To',self.Country)\n",
    "        \n",
    "x = Student('Anil','USA','Nepal')\n",
    "x.hello()"
   ]
  },
  {
   "cell_type": "code",
   "execution_count": 19,
   "id": "22af6ae8",
   "metadata": {},
   "outputs": [
    {
     "name": "stdout",
     "output_type": "stream",
     "text": [
      "Hello,Welcome Anil From USA To Nepal 26\n"
     ]
    }
   ],
   "source": [
    "#MULTILAVEL INHERITANCE\n",
    "\n",
    "class Profile:\n",
    "    def __init__(self,name,address):\n",
    "        self.name = name\n",
    "        self.address = address\n",
    "        \n",
    "    def info(self):\n",
    "        print(self.name,self.address)\n",
    "        \n",
    "class Student(Profile):\n",
    "    def __init__(self,name,address,Country):\n",
    "        Profile.__init__(self,name,address)\n",
    "        self.Country = Country \n",
    "        \n",
    "class Detail(Student):\n",
    "    def __init__(self,name,address,Country,age):\n",
    "        Student.__init__(self,name,address,Country)\n",
    "        self.age = age       \n",
    "        \n",
    "        \n",
    "    def hello(self):\n",
    "        print('Hello,Welcome',self.name,'From',self.address,'To',self.Country,self.age)\n",
    "        \n",
    "x = Detail('Anil','USA','Nepal',26)\n",
    "x.hello()"
   ]
  },
  {
   "cell_type": "code",
   "execution_count": 27,
   "id": "91907337",
   "metadata": {},
   "outputs": [
    {
     "name": "stdout",
     "output_type": "stream",
     "text": [
      "Hello,Welcome Anil From USA To Ktm 26\n"
     ]
    }
   ],
   "source": [
    "#MULTIPLE INHERITANCE\n",
    "\n",
    "class Profile:\n",
    "    def __init__(self, name, address):\n",
    "        self.name = name\n",
    "        self.address = address\n",
    "        \n",
    "    def info(self):\n",
    "        print(self.name,self.address)\n",
    "        \n",
    "class Student:\n",
    "    def __init__(self,Country):\n",
    "        self.Country = Country \n",
    "        \n",
    "\n",
    "class Detail(Profile,Student):\n",
    "    def __init__(self,name,address,Country,age):\n",
    "        Student.__init__(self,Country)\n",
    "        Profile.__init__(self,name,address)\n",
    "        self.age = age\n",
    "        \n",
    "        \n",
    "        \n",
    "    def hello(self):\n",
    "        print('Hello,Welcome',self.name,'From',self.address,'To',self.Country,self.age)        \n",
    "        \n",
    "x = Detail('Anil','USA','Ktm',26)\n",
    "x.hello()"
   ]
  },
  {
   "cell_type": "code",
   "execution_count": 31,
   "id": "18a2d5fc",
   "metadata": {},
   "outputs": [
    {
     "name": "stdout",
     "output_type": "stream",
     "text": [
      "age = 26\n",
      "Country = USA\n",
      "name = Anil\n",
      "address = Jnkp\n",
      "Hello,Welcome Anil From Jnkp To USA\n"
     ]
    }
   ],
   "source": [
    "#MULTIPLE INHERITANCE\n",
    "\n",
    "class Profile:\n",
    "    def __init__(self):\n",
    "        self.name = input('name = ')\n",
    "        self.address = input('address = ')\n",
    "        \n",
    "    def info(self):\n",
    "        print(self.name,self.address)\n",
    "        \n",
    "class Student:\n",
    "    def __init__(self):\n",
    "        self.Country = input('Country = ') \n",
    "        \n",
    "\n",
    "class Detail(Profile,Student):\n",
    "    def __init__(self):\n",
    "        self.age = int(input('age = '))\n",
    "        Student.__init__(self)\n",
    "        Profile.__init__(self)\n",
    "        \n",
    "        \n",
    "    def hello(self):\n",
    "        print('Hello,Welcome',self.name,'From',self.address,'To',self.Country)        \n",
    "        \n",
    "x = Detail()\n",
    "x.hello()"
   ]
  },
  {
   "cell_type": "markdown",
   "id": "8821c32a",
   "metadata": {},
   "source": [
    "# Public Private & Protected"
   ]
  },
  {
   "cell_type": "code",
   "execution_count": 35,
   "id": "55dfc74c",
   "metadata": {},
   "outputs": [
    {
     "name": "stdout",
     "output_type": "stream",
     "text": [
      " name = Anil\n",
      " age = 26\n",
      "Anil\n",
      "26\n"
     ]
    }
   ],
   "source": [
    "#Public Attribute\n",
    "\n",
    "class A:\n",
    "    def __init__(self):\n",
    "        self.name = input(' name = ')\n",
    "        self.age = int(input(' age = '))\n",
    "        \n",
    "        \n",
    "\n",
    "obj = A()\n",
    "print(obj.name)\n",
    "print(obj.age)"
   ]
  },
  {
   "cell_type": "code",
   "execution_count": 38,
   "id": "53ac78d4",
   "metadata": {},
   "outputs": [
    {
     "name": "stdout",
     "output_type": "stream",
     "text": [
      " name = Anil\n",
      " age = 26\n",
      "Anil 26\n"
     ]
    }
   ],
   "source": [
    "#Protected Attributes\n",
    "class A:\n",
    "    def __init__(self):\n",
    "        self._name = input(' name = ')\n",
    "        self._age = int(input(' age = '))\n",
    "        \n",
    "class B(A):\n",
    "    def b(self):\n",
    "        print(self._name,self._age)\n",
    "\n",
    "obj = B()\n",
    "obj.b()"
   ]
  },
  {
   "cell_type": "code",
   "execution_count": 49,
   "id": "2d1089e6",
   "metadata": {},
   "outputs": [
    {
     "name": "stdout",
     "output_type": "stream",
     "text": [
      " name = Anil\n",
      " age = 26\n",
      " add = ktm\n",
      "ktm\n"
     ]
    }
   ],
   "source": [
    "#Private Attributes\n",
    "class A:\n",
    "    def __init__(self):\n",
    "        self.__name = input(' name = ')\n",
    "        self.__age = int(input(' age = '))\n",
    "        self.add = input(' add = ')\n",
    "        \n",
    "class B(A):\n",
    "    def b(self):\n",
    "        print(self.add)\n",
    "\n",
    "obj = B()\n",
    "print(obj.add)\n"
   ]
  },
  {
   "cell_type": "code",
   "execution_count": 50,
   "id": "6164058a",
   "metadata": {},
   "outputs": [
    {
     "name": "stdout",
     "output_type": "stream",
     "text": [
      " name = Anil\n",
      " age = 25\n",
      "Anil\n",
      "25\n"
     ]
    }
   ],
   "source": [
    "#Private Attributes\n",
    "class A:\n",
    "    def __init__(self):\n",
    "        self.__name = input(' name = ')\n",
    "        self._age = int(input(' age = '))\n",
    "\n",
    "obj = A()\n",
    "print(obj._A__name)\n",
    "print(obj._age)\n"
   ]
  },
  {
   "cell_type": "markdown",
   "id": "058a2d4c",
   "metadata": {},
   "source": [
    " # Single Inheritance"
   ]
  },
  {
   "cell_type": "code",
   "execution_count": 13,
   "id": "38d4ff8b",
   "metadata": {},
   "outputs": [
    {
     "name": "stdout",
     "output_type": "stream",
     "text": [
      "Parent Class Function Called\n",
      "Child Class Function Called\n"
     ]
    }
   ],
   "source": [
    "class parentclass:  #parent class\n",
    "    def myfunction1(self):\n",
    "        print('Parent Class Function Called')\n",
    "        \n",
    "        \n",
    "class childclass(parentclass):   #child class\n",
    "    def myfunction2(self):\n",
    "        print(\"Child Class Function Called\")\n",
    "        \n",
    "c1 = childclass()\n",
    "c1.myfunction1()\n",
    "c1.myfunction2()"
   ]
  },
  {
   "cell_type": "markdown",
   "id": "aa2ebee6",
   "metadata": {},
   "source": [
    "# Multilevel Inheritance"
   ]
  },
  {
   "cell_type": "code",
   "execution_count": 16,
   "id": "27bef013",
   "metadata": {},
   "outputs": [
    {
     "name": "stdout",
     "output_type": "stream",
     "text": [
      "Class A function called\n",
      "Class B function called\n",
      "Class C function called\n"
     ]
    }
   ],
   "source": [
    "class A:                #parent class\n",
    "    def myfunct(self):\n",
    "        print(\"Class A function called\")\n",
    "        \n",
    "        \n",
    "class B(A):               #sub-parent class\n",
    "    def myfunction2(self):\n",
    "        print('Class B function called')\n",
    "        \n",
    "class c(B):               # child class\n",
    "    def myfunction3(self):\n",
    "        print('Class C function called')\n",
    "        \n",
    "c1 = c()\n",
    "c1.myfunct()\n",
    "c1.myfunction2()\n",
    "c1.myfunction3()"
   ]
  },
  {
   "cell_type": "markdown",
   "id": "24434730",
   "metadata": {},
   "source": [
    "# Multiple Inheritance"
   ]
  },
  {
   "cell_type": "code",
   "execution_count": 17,
   "id": "b6c07e1d",
   "metadata": {},
   "outputs": [
    {
     "name": "stdout",
     "output_type": "stream",
     "text": [
      "Class A1 function called\n",
      "Class B1 function called\n",
      "Class C1 function called\n"
     ]
    }
   ],
   "source": [
    "class A1:     # 1st parent class\n",
    "    def myfunction1(self):\n",
    "        print('Class A1 function called')\n",
    "        \n",
    "class B1:    # 2nd parent\n",
    "    def myfunction2(self):\n",
    "        print('Class B1 function called')\n",
    "        \n",
    "class C1(A1,B1):   # child class\n",
    "    def myfunction3(self):\n",
    "        print('Class C1 function called')\n",
    "        \n",
    "        \n",
    "c1 = C1()\n",
    "c1.myfunction1()\n",
    "c1.myfunction2()\n",
    "c1.myfunction3()"
   ]
  },
  {
   "cell_type": "markdown",
   "id": "3976e866",
   "metadata": {},
   "source": [
    "# Hirarchical Inheritance "
   ]
  },
  {
   "cell_type": "code",
   "execution_count": 20,
   "id": "949d79d3",
   "metadata": {},
   "outputs": [
    {
     "name": "stdout",
     "output_type": "stream",
     "text": [
      "Class A1 function called\n",
      "Class A2 function called\n",
      "Class A1 function called\n",
      "Class A3 function called\n"
     ]
    }
   ],
   "source": [
    "class A1:    # parent class\n",
    "    def myfunction1(self):\n",
    "        print('Class A1 function called')\n",
    "        \n",
    "        \n",
    "class A2(A1):     # child class\n",
    "    def myfunction2(self):\n",
    "        print('Class A2 function called')\n",
    "        \n",
    "        \n",
    "class A3(A1):      # child class\n",
    "    def myfunction3(self):\n",
    "        print('Class A3 function called')\n",
    "        \n",
    "# creating 2 obj 1 for class a2 and 1 for class a3\n",
    "\n",
    "a2 = A2()\n",
    "\n",
    "a3 = A3()\n",
    "\n",
    "a2.myfunction1() # function of class a1\n",
    "a2.myfunction2() # function of class a2\n",
    "a3.myfunction1() # function of class a1\n",
    "a3.myfunction3() # function of class a3\n",
    "    "
   ]
  },
  {
   "cell_type": "markdown",
   "id": "59ae1c6a",
   "metadata": {},
   "source": [
    "# Hybrid Inheritance"
   ]
  },
  {
   "cell_type": "code",
   "execution_count": 23,
   "id": "c45bcfc6",
   "metadata": {},
   "outputs": [
    {
     "name": "stdout",
     "output_type": "stream",
     "text": [
      "function of class B1\n",
      "function of class B2\n",
      "function of class B3\n",
      "function of class B4\n"
     ]
    }
   ],
   "source": [
    "class B1:     # parent class\n",
    "    def myfunction1(self):\n",
    "        print('function of class B1')\n",
    "        \n",
    "class B2(B1):     # child class\n",
    "    def myfunction2(self):\n",
    "        print('function of class B2')\n",
    "        \n",
    "class B3(B1):    # child class\n",
    "    def myfunction3(self):\n",
    "        print('function of class B3')\n",
    "        \n",
    "        \n",
    "class B4(B2,B3):  # Child class\n",
    "    def myfunction4(self):\n",
    "        print('function of class B4')\n",
    "        \n",
    "# Creating an obj of class B4\n",
    "\n",
    "b = B4() # obj of B4 class\n",
    "b.myfunction1()\n",
    "b.myfunction2()\n",
    "b.myfunction3()\n",
    "b.myfunction4()\n",
    "        "
   ]
  },
  {
   "cell_type": "markdown",
   "id": "d9bbd15f",
   "metadata": {},
   "source": [
    "# Polymorphism"
   ]
  },
  {
   "cell_type": "markdown",
   "id": "882b5142",
   "metadata": {},
   "source": [
    "# Method Overloading"
   ]
  },
  {
   "cell_type": "code",
   "execution_count": 1,
   "id": "4a4775a8",
   "metadata": {},
   "outputs": [
    {
     "name": "stdout",
     "output_type": "stream",
     "text": [
      "Function with 2 Arguments\n"
     ]
    }
   ],
   "source": [
    "class Mo:\n",
    "    def myfunction(self):  # no arguments\n",
    "        print('Function with no Arguments')\n",
    "        \n",
    "    def myfunction(self,a):  # 1 arguments\n",
    "        print('Function with 1 Arguments')\n",
    "        \n",
    "    def myfunction(self,a,b):  # 2 arguments\n",
    "        print('Function with 2 Arguments')\n",
    "        \n",
    "m = Mo()\n",
    "m.myfunction(10,20)\n",
    "\n",
    "# note : method overloading is not supported in python because python is a interpreter language"
   ]
  },
  {
   "cell_type": "markdown",
   "id": "40c2c82b",
   "metadata": {},
   "source": [
    "# Method Overriding"
   ]
  },
  {
   "cell_type": "code",
   "execution_count": 3,
   "id": "b221b9e2",
   "metadata": {},
   "outputs": [
    {
     "name": "stdout",
     "output_type": "stream",
     "text": [
      "Class Mo3 function Called\n",
      "Class Mo2 function Called\n",
      "Class Mo1 function Called\n"
     ]
    }
   ],
   "source": [
    "class Mo1:        # parent class\n",
    "    def myfunction(self,a):  \n",
    "        print('Class Mo1 function Called')\n",
    "        \n",
    "class Mo2(Mo1):        # child class\n",
    "    def myfunction(self,a):  \n",
    "        print('Class Mo2 function Called')\n",
    "        \n",
    "        super().myfunction(30)\n",
    "        \n",
    "class Mo3(Mo2):        # child class\n",
    "    def myfunction(self,a):  \n",
    "        print('Class Mo3 function Called')\n",
    "        # super method of calling of class mo2\n",
    "        \n",
    "        super().myfunction(30)\n",
    "        \n",
    "        \n",
    "# creating an obj of class mo3\n",
    "\n",
    "m = Mo3() #obj of Mo3\n",
    "m.myfunction(30)\n",
    "        "
   ]
  },
  {
   "cell_type": "markdown",
   "id": "fe6786cc",
   "metadata": {},
   "source": [
    "# Abstraction"
   ]
  },
  {
   "cell_type": "code",
   "execution_count": 2,
   "id": "37effb6c",
   "metadata": {},
   "outputs": [
    {
     "name": "stdout",
     "output_type": "stream",
     "text": [
      "SBI Intrest is 5%\n",
      "Prabhu Intrest is 2%\n"
     ]
    }
   ],
   "source": [
    "class RBI:  #abstract class\n",
    "    def Intrest(self): #abstract method\n",
    "        pass\n",
    "\n",
    "    \n",
    "class SBI(RBI):   #child class\n",
    "    def Intrest(self): #RBI Intrest implements here\n",
    "        print('SBI Intrest is 5%')\n",
    "        \n",
    "class Prabhu(RBI):       #same here\n",
    "    def Intrest(self):\n",
    "        print('Prabhu Intrest is 2%')\n",
    "        \n",
    "\n",
    "# creating an obj of sbi        \n",
    "s = SBI()\n",
    "\n",
    "# creating an obj of hdfc \n",
    "h = Prabhu()\n",
    "\n",
    "s.Intrest() # sbi intrest method called \n",
    "h.Intrest() # hdfc intrest method called   "
   ]
  },
  {
   "cell_type": "code",
   "execution_count": 5,
   "id": "850356ac",
   "metadata": {},
   "outputs": [
    {
     "name": "stdout",
     "output_type": "stream",
     "text": [
      "I can bark\n",
      "I can hissssss\n"
     ]
    }
   ],
   "source": [
    "class Animal:\n",
    "    def move(self):\n",
    "        pass\n",
    "    \n",
    "    \n",
    "class Dog(Animal):\n",
    "    def move(self):\n",
    "        print('I can bark')\n",
    "        \n",
    "class Snake(Animal):\n",
    "    def move(self):\n",
    "        print('I can hissssss')\n",
    "        \n",
    "        \n",
    "d = Dog()\n",
    "\n",
    "s = Snake()\n",
    "\n",
    "d.move()\n",
    "s.move()"
   ]
  },
  {
   "cell_type": "markdown",
   "id": "9f02f17a",
   "metadata": {},
   "source": [
    "# Encapsulation"
   ]
  },
  {
   "cell_type": "code",
   "execution_count": 11,
   "id": "8285fe4c",
   "metadata": {},
   "outputs": [
    {
     "ename": "AttributeError",
     "evalue": "'B' object has no attribute '_a'",
     "output_type": "error",
     "traceback": [
      "\u001b[1;31m---------------------------------------------------------------------------\u001b[0m",
      "\u001b[1;31mAttributeError\u001b[0m                            Traceback (most recent call last)",
      "\u001b[1;32m~\\AppData\\Local\\Temp/ipykernel_34980/3043570553.py\u001b[0m in \u001b[0;36m<module>\u001b[1;34m\u001b[0m\n\u001b[0;32m     16\u001b[0m \u001b[1;33m\u001b[0m\u001b[0m\n\u001b[0;32m     17\u001b[0m \u001b[0mobj\u001b[0m \u001b[1;33m=\u001b[0m \u001b[0mB\u001b[0m\u001b[1;33m(\u001b[0m\u001b[1;36m40\u001b[0m\u001b[1;33m)\u001b[0m\u001b[1;33m\u001b[0m\u001b[1;33m\u001b[0m\u001b[0m\n\u001b[1;32m---> 18\u001b[1;33m \u001b[0mobj\u001b[0m\u001b[1;33m.\u001b[0m\u001b[0mshowB\u001b[0m\u001b[1;33m(\u001b[0m\u001b[1;33m)\u001b[0m\u001b[1;33m\u001b[0m\u001b[1;33m\u001b[0m\u001b[0m\n\u001b[0m",
      "\u001b[1;32m~\\AppData\\Local\\Temp/ipykernel_34980/3043570553.py\u001b[0m in \u001b[0;36mshowB\u001b[1;34m(self)\u001b[0m\n\u001b[0;32m     12\u001b[0m \u001b[1;33m\u001b[0m\u001b[0m\n\u001b[0;32m     13\u001b[0m     \u001b[1;32mdef\u001b[0m \u001b[0mshowB\u001b[0m\u001b[1;33m(\u001b[0m\u001b[0mself\u001b[0m\u001b[1;33m)\u001b[0m\u001b[1;33m:\u001b[0m\u001b[1;33m\u001b[0m\u001b[1;33m\u001b[0m\u001b[0m\n\u001b[1;32m---> 14\u001b[1;33m         \u001b[0mprint\u001b[0m\u001b[1;33m(\u001b[0m\u001b[0mself\u001b[0m\u001b[1;33m.\u001b[0m\u001b[0m_a\u001b[0m\u001b[1;33m)\u001b[0m\u001b[1;33m\u001b[0m\u001b[1;33m\u001b[0m\u001b[0m\n\u001b[0m\u001b[0;32m     15\u001b[0m \u001b[1;33m\u001b[0m\u001b[0m\n\u001b[0;32m     16\u001b[0m \u001b[1;33m\u001b[0m\u001b[0m\n",
      "\u001b[1;31mAttributeError\u001b[0m: 'B' object has no attribute '_a'"
     ]
    }
   ],
   "source": [
    "# Achiving Encapsulation by private\n",
    "class A:\n",
    "    def __init__(self,a):\n",
    "        self.__a=a # the variable is a private variable\n",
    "        \n",
    "    def show(self):\n",
    "        print('Private Variable : ', self._a)\n",
    "        \n",
    "class B(A):\n",
    "    def __init__(self,b):\n",
    "        super().__init__(b)\n",
    "        \n",
    "    def showB(self):\n",
    "        print(self._a)\n",
    "        \n",
    "        \n",
    "obj = B(40)\n",
    "obj.showB()"
   ]
  },
  {
   "cell_type": "code",
   "execution_count": 9,
   "id": "d1f4fd74",
   "metadata": {},
   "outputs": [
    {
     "name": "stdout",
     "output_type": "stream",
     "text": [
      "Variable value :  40\n"
     ]
    }
   ],
   "source": [
    "# Achiving Encapsulation by protected\n",
    "\n",
    "class A:\n",
    "    def __init__(self,a):\n",
    "        self._a=a # this variable is protected variable\n",
    "    def show(self):\n",
    "        print('protected variable :', self._a)\n",
    "        \n",
    "class B(A):\n",
    "    def __init__(self,b):\n",
    "        super().__init__(b)\n",
    "        \n",
    "    def showB(self):\n",
    "        print('Variable value : ', self._a)\n",
    "        \n",
    "obj = B(40)\n",
    "obj.showB()"
   ]
  },
  {
   "cell_type": "markdown",
   "id": "0a74febf",
   "metadata": {},
   "source": [
    "# OOPS in Broadway "
   ]
  },
  {
   "cell_type": "code",
   "execution_count": 2,
   "id": "1b1b2c30",
   "metadata": {},
   "outputs": [
    {
     "name": "stdout",
     "output_type": "stream",
     "text": [
      "Hello I am Anil\n"
     ]
    }
   ],
   "source": [
    "class Anil:\n",
    "    print('Hello I am Anil')\n",
    "    \n",
    "obj = Anil()    "
   ]
  },
  {
   "cell_type": "code",
   "execution_count": 4,
   "id": "2e856f17",
   "metadata": {},
   "outputs": [
    {
     "name": "stdout",
     "output_type": "stream",
     "text": [
      "Hello Anil\n"
     ]
    }
   ],
   "source": [
    "class Anil:\n",
    "    def hello(self):\n",
    "        print('Hello Anil')\n",
    "        \n",
    "obj = Anil()\n",
    "obj.hello()"
   ]
  },
  {
   "cell_type": "code",
   "execution_count": 6,
   "id": "9d2e9086",
   "metadata": {},
   "outputs": [
    {
     "name": "stdout",
     "output_type": "stream",
     "text": [
      "6\n"
     ]
    }
   ],
   "source": [
    "class Cal:\n",
    "    def area(self,l,b):\n",
    "        l = 2\n",
    "        b = 3\n",
    "        a = l*b\n",
    "        print(a)\n",
    "        \n",
    "obj = Cal()\n",
    "obj.area(10,4)\n",
    "        "
   ]
  },
  {
   "cell_type": "code",
   "execution_count": 7,
   "id": "89925ac7",
   "metadata": {},
   "outputs": [
    {
     "name": "stdout",
     "output_type": "stream",
     "text": [
      "40\n"
     ]
    }
   ],
   "source": [
    "class Cal:\n",
    "    def area(self,l,b):\n",
    "        a = l*b\n",
    "        print(a)\n",
    "        \n",
    "obj = Cal()\n",
    "obj.area(10,4)"
   ]
  },
  {
   "cell_type": "code",
   "execution_count": 8,
   "id": "d0226d17",
   "metadata": {},
   "outputs": [
    {
     "name": "stdout",
     "output_type": "stream",
     "text": [
      "40\n",
      "20000\n"
     ]
    }
   ],
   "source": [
    "class Cal:\n",
    "    def area(self,l,b):\n",
    "        a = l*b\n",
    "        print(a)\n",
    "        \n",
    "    def Volume(self,l,b,h):\n",
    "        v = l*b*h\n",
    "        print(v)\n",
    "        \n",
    "        \n",
    "obj = Cal()\n",
    "obj.area(10,4)\n",
    "obj.Volume(100,50,4)"
   ]
  },
  {
   "cell_type": "code",
   "execution_count": 13,
   "id": "46a0b484",
   "metadata": {},
   "outputs": [
    {
     "name": "stdout",
     "output_type": "stream",
     "text": [
      "5000\n",
      "20000\n"
     ]
    }
   ],
   "source": [
    "class Cal:\n",
    "    def __init__(self,l,b,h):\n",
    "        self.l = l\n",
    "        self.b = b\n",
    "        self.h = h\n",
    "    \n",
    "    def area(self):\n",
    "        a = self.l*self.b\n",
    "        print(a)\n",
    "    def Volume(self):\n",
    "        v = self.l*self.b*self.h\n",
    "        print(v)\n",
    "    \n",
    "obj = Cal(100,50,4)\n",
    "obj.area()\n",
    "obj.Volume()"
   ]
  },
  {
   "cell_type": "code",
   "execution_count": 14,
   "id": "2c32057d",
   "metadata": {},
   "outputs": [
    {
     "name": "stdout",
     "output_type": "stream",
     "text": [
      "400\n",
      "20000\n"
     ]
    }
   ],
   "source": [
    "class Cal:\n",
    "    def __init__(self,l,b,h):\n",
    "        self.l = l\n",
    "        self.b = b\n",
    "        self.h = h\n",
    "    @staticmethod\n",
    "    def area():\n",
    "        a = 10*40\n",
    "        print(a)\n",
    "    def Volume(self):\n",
    "        v = self.l*self.b*self.h\n",
    "        print(v)\n",
    "    \n",
    "obj = Cal(100,50,4)\n",
    "obj.area()\n",
    "obj.Volume()"
   ]
  },
  {
   "cell_type": "code",
   "execution_count": 17,
   "id": "b298a4fa",
   "metadata": {},
   "outputs": [
    {
     "name": "stdout",
     "output_type": "stream",
     "text": [
      "400\n",
      "25000\n"
     ]
    }
   ],
   "source": [
    "class Cal:\n",
    "    def __init__(self,l,b):\n",
    "        self.l = l\n",
    "        self.b = b\n",
    "\n",
    "    @staticmethod\n",
    "    def area():\n",
    "        a = 10*40\n",
    "        print(a)\n",
    "    def Volume(self,h):\n",
    "        v = self.l*self.b*h\n",
    "        print(v)\n",
    "    \n",
    "obj = Cal(100,50)\n",
    "obj.area()\n",
    "obj.Volume(5)"
   ]
  },
  {
   "cell_type": "code",
   "execution_count": 1,
   "id": "9640b24f",
   "metadata": {},
   "outputs": [
    {
     "name": "stdout",
     "output_type": "stream",
     "text": [
      "5000\n",
      "100\n"
     ]
    }
   ],
   "source": [
    "class Area:\n",
    "    def __init__(self,l,b):\n",
    "        self.l = l\n",
    "        self.b = b\n",
    "\n",
    "    def area(self):\n",
    "        a = self.l*self.b\n",
    "        print(a)\n",
    "        \n",
    "class Volume:\n",
    "    def __init__(self,l,b,h):\n",
    "        self.l = l\n",
    "        self.b = b\n",
    "        self.h = h\n",
    "        \n",
    "    def Volume(self):\n",
    "        v = self.l*self.b*self.h\n",
    "        print(v)\n",
    "    \n",
    "obj = Area(100,50)\n",
    "obj.area()\n",
    "\n",
    "obj1 = Volume(10,5,2)\n",
    "obj1.Volume()"
   ]
  },
  {
   "cell_type": "code",
   "execution_count": 9,
   "id": "e557ca77",
   "metadata": {},
   "outputs": [
    {
     "name": "stdout",
     "output_type": "stream",
     "text": [
      "Anil\n",
      "Jnkp\n",
      "26\n"
     ]
    }
   ],
   "source": [
    "# str()\n",
    "class Info:\n",
    "    def __init__(self,name,age,add):\n",
    "        \n",
    "        self.name = name\n",
    "        self.age = age\n",
    "        self.add = add\n",
    "    \n",
    "    def __str__(self):\n",
    "        return str(self.age)\n",
    "    \n",
    "obj = Info('Anil',26,'Jnkp')\n",
    "print(obj.name)\n",
    "print(obj.add)\n",
    "print(obj.age)"
   ]
  },
  {
   "cell_type": "code",
   "execution_count": 10,
   "id": "ced8a135",
   "metadata": {},
   "outputs": [
    {
     "name": "stdout",
     "output_type": "stream",
     "text": [
      "<__main__.Info object at 0x00000145CD7DF490>\n"
     ]
    }
   ],
   "source": [
    "# str()\n",
    "class Info:\n",
    "    def __init__(self,name,age,add):\n",
    "        \n",
    "        self.name = name\n",
    "        self.age = age\n",
    "        self.add = add\n",
    "    \n",
    "    def info():\n",
    "        return f'I am {self.name}'\n",
    "    \n",
    "obj = Info('Anil',26,'Jnkp')\n",
    "print(obj)"
   ]
  },
  {
   "cell_type": "code",
   "execution_count": 21,
   "id": "fe976076",
   "metadata": {},
   "outputs": [
    {
     "name": "stdout",
     "output_type": "stream",
     "text": [
      "Anil\n",
      "Akash\n"
     ]
    }
   ],
   "source": [
    "# str()\n",
    "class Info:\n",
    "    def __init__(self,name):\n",
    "        self.name = name\n",
    "    \n",
    "    def __str__(self):\n",
    "        return str(self.name)\n",
    "    \n",
    "obj = Info('Anil')\n",
    "obj1 = Info('Akash')\n",
    "print(obj)\n",
    "print(obj1)"
   ]
  },
  {
   "cell_type": "code",
   "execution_count": 14,
   "id": "939e3d72",
   "metadata": {},
   "outputs": [
    {
     "name": "stdout",
     "output_type": "stream",
     "text": [
      "(1,5)\n"
     ]
    }
   ],
   "source": [
    "class Point:\n",
    "    def __init__(self, x=0,y=0):\n",
    "        \n",
    "        self.x = x\n",
    "        self.y = y\n",
    "    def __str__(self):\n",
    "        return f'({self.x},{self.y})'\n",
    "    \n",
    "    def __add__(self,other):\n",
    "        x = self.x + other.x\n",
    "        y = self.y + other.y\n",
    "        return Point(x,y)\n",
    "    \n",
    "p1 = Point(2,3)\n",
    "p2 = Point(-1,2)\n",
    "print(p1+p2)"
   ]
  },
  {
   "cell_type": "code",
   "execution_count": 16,
   "id": "86761d4f",
   "metadata": {},
   "outputs": [
    {
     "name": "stdout",
     "output_type": "stream",
     "text": [
      "(4500)\n"
     ]
    }
   ],
   "source": [
    "class Point:\n",
    "    def __init__(self, x=0,y=0):\n",
    "        self.x = x\n",
    "    \n",
    "    def __str__(self):\n",
    "        return f'({self.x})'\n",
    "    \n",
    "    def __add__(self,other):\n",
    "        x = self.x + other.x\n",
    "        return Point(x)\n",
    "    \n",
    "p1 = Point(3000)\n",
    "p2 = Point(1500)\n",
    "print(p1+p2)"
   ]
  },
  {
   "cell_type": "code",
   "execution_count": 32,
   "id": "bb696032",
   "metadata": {},
   "outputs": [
    {
     "name": "stdout",
     "output_type": "stream",
     "text": [
      "This is init mathod 3000\n",
      "This is init mathod 1500\n",
      "This is init mathod 1000\n",
      "This is init mathod 500\n",
      "This is odd mathod 4500\n",
      "This is init mathod 4500\n",
      "This is odd mathod 5500\n",
      "This is init mathod 5500\n",
      "This is odd mathod 6000\n",
      "This is init mathod 6000\n",
      "This is str mathod 6000\n",
      "(6000)\n"
     ]
    }
   ],
   "source": [
    "class Point:\n",
    "    def __init__(self, x):\n",
    "        self.x = x\n",
    "        print('This is init mathod',self.x)\n",
    "    \n",
    "    def __str__(self):\n",
    "        print('This is str mathod',self.x)\n",
    "        return f'({self.x})'\n",
    "    \n",
    "    def __add__(self,other):\n",
    "        x = self.x + other.x\n",
    "        print('This is odd mathod',x)\n",
    "        return Point(x)\n",
    "    \n",
    "p1 = Point(3000)\n",
    "p2 = Point(1500)\n",
    "p3 = Point(1000)\n",
    "p4 = Point(500)\n",
    "p5 = p1+p2+p3+p4\n",
    "print(p5)"
   ]
  },
  {
   "cell_type": "code",
   "execution_count": 33,
   "id": "9481616c",
   "metadata": {},
   "outputs": [
    {
     "name": "stdout",
     "output_type": "stream",
     "text": [
      "This is str mathod 6000\n"
     ]
    },
    {
     "data": {
      "text/plain": [
       "'(6000)'"
      ]
     },
     "execution_count": 33,
     "metadata": {},
     "output_type": "execute_result"
    }
   ],
   "source": [
    "z = str(p5)\n",
    "z"
   ]
  },
  {
   "cell_type": "code",
   "execution_count": 34,
   "id": "e371dadb",
   "metadata": {},
   "outputs": [
    {
     "data": {
      "text/plain": [
       "str"
      ]
     },
     "execution_count": 34,
     "metadata": {},
     "output_type": "execute_result"
    }
   ],
   "source": [
    "type(z)"
   ]
  },
  {
   "cell_type": "code",
   "execution_count": null,
   "id": "d22c4c94",
   "metadata": {},
   "outputs": [],
   "source": []
  },
  {
   "cell_type": "code",
   "execution_count": 10,
   "id": "eb92468c",
   "metadata": {},
   "outputs": [
    {
     "data": {
      "text/plain": [
       "'Hello Anil!'"
      ]
     },
     "execution_count": 10,
     "metadata": {},
     "output_type": "execute_result"
    }
   ],
   "source": [
    "class Empobject:\n",
    "    pass\n",
    "obj = Empobject()\n",
    "obj.x = 'Hello Anil!'\n",
    "obj.x"
   ]
  },
  {
   "cell_type": "code",
   "execution_count": null,
   "id": "dcc7e73d",
   "metadata": {},
   "outputs": [],
   "source": []
  },
  {
   "cell_type": "code",
   "execution_count": 12,
   "id": "c05e5748",
   "metadata": {},
   "outputs": [
    {
     "name": "stdout",
     "output_type": "stream",
     "text": [
      "<__main__.MyClass object at 0x000001D18BB67A60>\n",
      "<__main__.MyClass object at 0x000001D18BB674C0>\n"
     ]
    }
   ],
   "source": [
    "class MyClass(object):\n",
    "    pass\n",
    "# Create first instance of MyClass\n",
    "this_obj = MyClass()\n",
    "print(this_obj)\n",
    "# Another instance of MyClass\n",
    "that_obj = MyClass()\n",
    "print (that_obj)\n"
   ]
  },
  {
   "cell_type": "code",
   "execution_count": 13,
   "id": "99bef92e",
   "metadata": {},
   "outputs": [
    {
     "name": "stdout",
     "output_type": "stream",
     "text": [
      "9\n",
      "9\n"
     ]
    }
   ],
   "source": [
    "class MyClass(object):\n",
    "    var = 9\n",
    "# creating first instance of Myclass    \n",
    "this_obj = MyClass()\n",
    "print(this_obj.var)\n",
    "\n",
    "# another instance of MyClass\n",
    "\n",
    "that_obj = MyClass()\n",
    "print(that_obj.var)"
   ]
  },
  {
   "cell_type": "code",
   "execution_count": 15,
   "id": "4cdcfdf2",
   "metadata": {},
   "outputs": [
    {
     "name": "stdout",
     "output_type": "stream",
     "text": [
      "9\n",
      "Hello Anil!\n"
     ]
    }
   ],
   "source": [
    "class MyClass(object):\n",
    "    var=9\n",
    "    \n",
    "    def firstM(self):\n",
    "        print('Hello Anil!')\n",
    "        \n",
    "obj = MyClass()\n",
    "print(obj.var)\n",
    "obj.firstM()"
   ]
  },
  {
   "cell_type": "code",
   "execution_count": 16,
   "id": "79ca693a",
   "metadata": {},
   "outputs": [
    {
     "name": "stdout",
     "output_type": "stream",
     "text": [
      "Hello, Anil!\n",
      "<__main__.MyClass object at 0x000001D18BAE65E0>\n",
      "<__main__.MyClass object at 0x000001D18BAE65E0>\n"
     ]
    }
   ],
   "source": [
    "class MyClass(object):\n",
    "    def firstM(self):\n",
    "        print('Hello, Anil!')\n",
    "        print(self)\n",
    "        \n",
    "obj = MyClass()\n",
    "obj.firstM()\n",
    "print(obj)"
   ]
  },
  {
   "cell_type": "code",
   "execution_count": 18,
   "id": "b19d94e7",
   "metadata": {},
   "outputs": [
    {
     "name": "stdout",
     "output_type": "stream",
     "text": [
      "26\n",
      "Twenty Six\n"
     ]
    }
   ],
   "source": [
    "class MyClass(object):\n",
    "    def setAge(self, num):\n",
    "        self.age = num\n",
    "    def getAge(self):\n",
    "        return self.age\n",
    "    \n",
    "zack = MyClass()\n",
    "zack.setAge(26)\n",
    "print(zack.getAge())\n",
    "\n",
    "zack.setAge('Twenty Six')\n",
    "print(zack.getAge())"
   ]
  },
  {
   "cell_type": "code",
   "execution_count": 19,
   "id": "12bd02d0",
   "metadata": {},
   "outputs": [
    {
     "name": "stdout",
     "output_type": "stream",
     "text": [
      "26\n",
      "Twenty Six\n",
      "4.5 5\n"
     ]
    }
   ],
   "source": [
    "class MyClass(object):\n",
    "    def setAge(self, num):\n",
    "        \n",
    "        self.age = num\n",
    "        \n",
    "    def getAge(self):\n",
    "        return self.age\n",
    "    \n",
    "    \n",
    "zack = MyClass()\n",
    "zack.setAge(26)\n",
    "print(zack.getAge())\n",
    "zack.setAge('Twenty Six')\n",
    "print(zack.getAge())\n",
    "\n",
    "\n",
    "x = MyClass\n",
    "def __init__(self):\n",
    "    self.data = []\n",
    "x = MyClass()\n",
    "\n",
    "class myclass(object):\n",
    "    def __init__(self,anil,pooza):\n",
    "        self.a = anil\n",
    "        self.b = pooza\n",
    "        \n",
    "x = myclass(4.5, 5)\n",
    "print(x.a, x.b)\n",
    "    \n",
    "\n",
    "    \n",
    "    "
   ]
  },
  {
   "cell_type": "code",
   "execution_count": 21,
   "id": "5121afbd",
   "metadata": {},
   "outputs": [
    {
     "name": "stdout",
     "output_type": "stream",
     "text": [
      "val of obj: 9 \n",
      "count: 3 \n",
      "val of obj: 18 \n",
      "count: 3 \n",
      "val of obj: 27 \n",
      "count: 3 \n"
     ]
    }
   ],
   "source": [
    "class InstanceCounter(object):\n",
    "    count = 0   # class attribute, will be accessible to all instances\n",
    "    \n",
    "    def __init__(self, val):\n",
    "        self.val = val\n",
    "        \n",
    "        InstanceCounter.count +=1 # increment the value of class attribute, \n",
    "        #accessible through class name\n",
    "        \n",
    "        # in above line, class ('InstanceCounter') act as an object\n",
    "    def set_val(self, newval):\n",
    "        self.val = newval\n",
    "        \n",
    "    def get_val(self):\n",
    "        return self.val\n",
    "    \n",
    "    def get_count(self):\n",
    "        return InstanceCounter.count\n",
    "    \n",
    "a = InstanceCounter(9)\n",
    "\n",
    "b = InstanceCounter(18)\n",
    "\n",
    "c = InstanceCounter(27)\n",
    "\n",
    "for obj in (a,b,c):\n",
    "    print('val of obj: %s ' %(obj.get_val())) #initialized value(9,18,27)\n",
    "    \n",
    "    print('count: %s ' %(obj.get_count()))  # always 3       \n",
    "            \n",
    "        "
   ]
  },
  {
   "cell_type": "code",
   "execution_count": 22,
   "id": "f3b30436",
   "metadata": {},
   "outputs": [
    {
     "name": "stdout",
     "output_type": "stream",
     "text": [
      "{'__module__': '__main__', 'class_attribute': 99, 'class_method': <function myClass.class_method at 0x000001D18B91AA60>, '__dict__': <attribute '__dict__' of 'myClass' objects>, '__weakref__': <attribute '__weakref__' of 'myClass' objects>, '__doc__': None}\n"
     ]
    }
   ],
   "source": [
    "class myClass:\n",
    "    class_attribute = 99\n",
    "    \n",
    "    def class_method(self):\n",
    "        self.instance_attribute = 'I am instance attribute'\n",
    "        \n",
    "print(myClass.__dict__)        "
   ]
  },
  {
   "cell_type": "code",
   "execution_count": 23,
   "id": "c25e586e",
   "metadata": {},
   "outputs": [
    {
     "name": "stdout",
     "output_type": "stream",
     "text": [
      "{'instance_attribute': 'I am instance attribute'}\n"
     ]
    },
    {
     "data": {
      "text/plain": [
       "{'instance_attribute': 'I am instance attribute'}"
      ]
     },
     "execution_count": 23,
     "metadata": {},
     "output_type": "execute_result"
    }
   ],
   "source": [
    "a = myClass()\n",
    "a.class_method()\n",
    "print(a.__dict__)\n",
    "{'instance_attribute': 'I am instance attribute'}"
   ]
  },
  {
   "cell_type": "code",
   "execution_count": 25,
   "id": "6b914feb",
   "metadata": {},
   "outputs": [
    {
     "data": {
      "text/plain": [
       "4"
      ]
     },
     "execution_count": 25,
     "metadata": {},
     "output_type": "execute_result"
    }
   ],
   "source": [
    "len(['Anil',9, 45.0, 24])"
   ]
  },
  {
   "cell_type": "code",
   "execution_count": 30,
   "id": "8c0e99cf",
   "metadata": {},
   "outputs": [
    {
     "name": "stdout",
     "output_type": "stream",
     "text": [
      "\n",
      "list: 9, 7, 5, 4, 2, \n",
      "CustomSequence: x4, x3, x2, x1, x0, \n",
      "funkyback: b, a, c, k, w, a, r, d, s, !, "
     ]
    }
   ],
   "source": [
    "normal_list = [2,4,5,7,9]\n",
    "\n",
    "class CustomSequence():\n",
    "    \n",
    "    def __len__(self):\n",
    "        \n",
    "        return 5\n",
    "    \n",
    "    def __getitem__(self,index):\n",
    "        \n",
    "        return 'x{0}'.format(index)\n",
    "\n",
    "class funkyback():\n",
    "    \n",
    "    def __reversed__(self):\n",
    "        \n",
    "        return 'backwards!'\n",
    "\n",
    "for seq in normal_list, CustomSequence(), funkyback():\n",
    "    \n",
    "    print('\\n{}: ' .format(seq.__class__.__name__), end='')\n",
    "    \n",
    "    for item in reversed(seq):\n",
    "        \n",
    "        print(item,end=', ')\n",
    "    "
   ]
  },
  {
   "cell_type": "code",
   "execution_count": 10,
   "id": "d33ba70f",
   "metadata": {},
   "outputs": [
    {
     "name": "stdout",
     "output_type": "stream",
     "text": [
      "Anil\n"
     ]
    }
   ],
   "source": [
    "class Employee:\n",
    "    \n",
    "    increment = 1.5\n",
    "    def __init__(self,name,salary):\n",
    "        \n",
    "        self.name = name\n",
    "        self.salary = salary\n",
    "        \n",
    "    def increment(self):\n",
    "        \n",
    "        self.salary = int(increment.salary*increment.salary) \n",
    "        \n",
    "Anil = Employee('Anil',40000)        \n",
    "        \n",
    "print(Anil.name)    "
   ]
  },
  {
   "cell_type": "code",
   "execution_count": null,
   "id": "143f445b",
   "metadata": {},
   "outputs": [],
   "source": []
  }
 ],
 "metadata": {
  "kernelspec": {
   "display_name": "Python 3 (ipykernel)",
   "language": "python",
   "name": "python3"
  },
  "language_info": {
   "codemirror_mode": {
    "name": "ipython",
    "version": 3
   },
   "file_extension": ".py",
   "mimetype": "text/x-python",
   "name": "python",
   "nbconvert_exporter": "python",
   "pygments_lexer": "ipython3",
   "version": "3.9.7"
  }
 },
 "nbformat": 4,
 "nbformat_minor": 5
}
