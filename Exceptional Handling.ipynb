{
 "cells": [
  {
   "cell_type": "code",
   "execution_count": null,
   "id": "eb7bdcb9",
   "metadata": {},
   "outputs": [],
   "source": [
    "# try:\n",
    "#     <operations>\n",
    "# except:\n",
    "#     <operations>"
   ]
  },
  {
   "cell_type": "code",
   "execution_count": 1,
   "id": "b0d68d32",
   "metadata": {},
   "outputs": [
    {
     "name": "stdout",
     "output_type": "stream",
     "text": [
      "The File is already there\n"
     ]
    }
   ],
   "source": [
    "try:\n",
    "    b = open('data.csv','x')\n",
    "    b.close()\n",
    "except:\n",
    "    print('The File is already there')"
   ]
  },
  {
   "cell_type": "code",
   "execution_count": 4,
   "id": "e707f31c",
   "metadata": {},
   "outputs": [
    {
     "name": "stdout",
     "output_type": "stream",
     "text": [
      "The File is already there\n"
     ]
    }
   ],
   "source": [
    "try:\n",
    "    b = open('dataa.csv','r')\n",
    "    b.close()\n",
    "    \n",
    "except:\n",
    "    print('The File is already there')"
   ]
  },
  {
   "cell_type": "code",
   "execution_count": 10,
   "id": "c7f77683",
   "metadata": {},
   "outputs": [
    {
     "name": "stdout",
     "output_type": "stream",
     "text": [
      "Enter a = 10\n",
      "Enter b = fr\n",
      "There is an error\n"
     ]
    }
   ],
   "source": [
    "try:\n",
    "    a = int(input('Enter a = ' ))\n",
    "    b = int(input('Enter b = ' ))\n",
    "    c = a+b\n",
    "    print(c)\n",
    "except:    \n",
    "    print('There is an error')    "
   ]
  },
  {
   "cell_type": "code",
   "execution_count": 5,
   "id": "1c2f1153",
   "metadata": {},
   "outputs": [
    {
     "name": "stdout",
     "output_type": "stream",
     "text": [
      "Enter a = 10\n",
      "Enter b = 20\n",
      "Enter c = 30\n",
      "60\n"
     ]
    }
   ],
   "source": [
    "def cal():\n",
    "    try:\n",
    "        a = int(input('Enter a = ' ))\n",
    "        b = int(input('Enter b = ' ))\n",
    "        c = int(input('Enter c = ' ))\n",
    "        d = a+b+c\n",
    "        print(d)\n",
    "    except:\n",
    "        print('There is an error')\n",
    "        cal()\n",
    "        \n",
    "cal()        \n",
    "        "
   ]
  },
  {
   "cell_type": "code",
   "execution_count": 11,
   "id": "ba45aafa",
   "metadata": {},
   "outputs": [
    {
     "name": "stdout",
     "output_type": "stream",
     "text": [
      "Enter a = dj\n"
     ]
    },
    {
     "ename": "ValueError",
     "evalue": "invalid literal for int() with base 10: 'dj'",
     "output_type": "error",
     "traceback": [
      "\u001b[1;31m---------------------------------------------------------------------------\u001b[0m",
      "\u001b[1;31mValueError\u001b[0m                                Traceback (most recent call last)",
      "\u001b[1;32m~\\AppData\\Local\\Temp/ipykernel_21916/2005938102.py\u001b[0m in \u001b[0;36m<module>\u001b[1;34m\u001b[0m\n\u001b[1;32m----> 1\u001b[1;33m \u001b[0ma\u001b[0m \u001b[1;33m=\u001b[0m \u001b[0mint\u001b[0m\u001b[1;33m(\u001b[0m\u001b[0minput\u001b[0m\u001b[1;33m(\u001b[0m\u001b[1;34m'Enter a = '\u001b[0m \u001b[1;33m)\u001b[0m\u001b[1;33m)\u001b[0m\u001b[1;33m\u001b[0m\u001b[1;33m\u001b[0m\u001b[0m\n\u001b[0m",
      "\u001b[1;31mValueError\u001b[0m: invalid literal for int() with base 10: 'dj'"
     ]
    }
   ],
   "source": [
    "a = int(input('Enter a = ' ))"
   ]
  },
  {
   "cell_type": "code",
   "execution_count": 14,
   "id": "bad31ba1",
   "metadata": {},
   "outputs": [
    {
     "name": "stdout",
     "output_type": "stream",
     "text": [
      "Enter a = 10\n",
      "Enter b = 0\n",
      "The value of b should not be 0\n"
     ]
    }
   ],
   "source": [
    "try:\n",
    "    a = int(input('Enter a = ' ))\n",
    "    b = int(input('Enter b = ' ))\n",
    "    c = a/b\n",
    "    print(c)\n",
    "except ValueError:\n",
    "    print('The value of a or b should be int')\n",
    "    \n",
    "except ZeroDivisionError:\n",
    "    print('The value of b should not be 0')"
   ]
  },
  {
   "cell_type": "code",
   "execution_count": 7,
   "id": "b2bda986",
   "metadata": {},
   "outputs": [
    {
     "name": "stdout",
     "output_type": "stream",
     "text": [
      "There is an error\n"
     ]
    }
   ],
   "source": [
    "try:\n",
    "    if True:\n",
    "        print(ajfh)\n",
    "except:\n",
    "    print('There is an error')"
   ]
  },
  {
   "cell_type": "code",
   "execution_count": 17,
   "id": "eb7d00cc",
   "metadata": {},
   "outputs": [
    {
     "name": "stdout",
     "output_type": "stream",
     "text": [
      "Enter a = 10\n",
      "Enter b = 20\n",
      "30\n"
     ]
    }
   ],
   "source": [
    "try:\n",
    "    a = int(input('Enter a = ' ))\n",
    "    b = int(input('Enter b = ' ))\n",
    "    c = a+b\n",
    "except:    \n",
    "    print('There is an error')\n",
    "    \n",
    "else:\n",
    "    print(c)"
   ]
  },
  {
   "cell_type": "code",
   "execution_count": 18,
   "id": "b1af4699",
   "metadata": {},
   "outputs": [
    {
     "ename": "ValueError",
     "evalue": "",
     "output_type": "error",
     "traceback": [
      "\u001b[1;31m---------------------------------------------------------------------------\u001b[0m",
      "\u001b[1;31mValueError\u001b[0m                                Traceback (most recent call last)",
      "\u001b[1;32m~\\AppData\\Local\\Temp/ipykernel_21916/4096975414.py\u001b[0m in \u001b[0;36m<module>\u001b[1;34m\u001b[0m\n\u001b[1;32m----> 1\u001b[1;33m \u001b[1;32mraise\u001b[0m \u001b[0mValueError\u001b[0m\u001b[1;33m\u001b[0m\u001b[1;33m\u001b[0m\u001b[0m\n\u001b[0m",
      "\u001b[1;31mValueError\u001b[0m: "
     ]
    }
   ],
   "source": [
    "raise ValueError"
   ]
  },
  {
   "cell_type": "code",
   "execution_count": 19,
   "id": "d50fc98c",
   "metadata": {},
   "outputs": [
    {
     "ename": "ZeroDivisionError",
     "evalue": "division by zero",
     "output_type": "error",
     "traceback": [
      "\u001b[1;31m---------------------------------------------------------------------------\u001b[0m",
      "\u001b[1;31mZeroDivisionError\u001b[0m                         Traceback (most recent call last)",
      "\u001b[1;32m~\\AppData\\Local\\Temp/ipykernel_21916/530406163.py\u001b[0m in \u001b[0;36m<module>\u001b[1;34m\u001b[0m\n\u001b[1;32m----> 1\u001b[1;33m \u001b[1;36m10\u001b[0m\u001b[1;33m/\u001b[0m\u001b[1;36m0\u001b[0m\u001b[1;33m\u001b[0m\u001b[1;33m\u001b[0m\u001b[0m\n\u001b[0m",
      "\u001b[1;31mZeroDivisionError\u001b[0m: division by zero"
     ]
    }
   ],
   "source": [
    "10/0"
   ]
  },
  {
   "cell_type": "code",
   "execution_count": 20,
   "id": "cc3580eb",
   "metadata": {},
   "outputs": [
    {
     "name": "stdout",
     "output_type": "stream",
     "text": [
      "Enter a = 10\n",
      "Enter b = 0\n",
      "There is an error\n"
     ]
    }
   ],
   "source": [
    "try:\n",
    "    a = int(input('Enter a = ' ))\n",
    "    b = int(input('Enter b = ' ))\n",
    "    if b == 0:\n",
    "        \n",
    "        raise ZeroDivisionError\n",
    "    c = a/b\n",
    "    print(c)\n",
    "except:    \n",
    "    print('There is an error')"
   ]
  },
  {
   "cell_type": "code",
   "execution_count": 2,
   "id": "141b66e1",
   "metadata": {},
   "outputs": [
    {
     "name": "stdout",
     "output_type": "stream",
     "text": [
      "Enter even value = 11\n",
      "You can only enter even value \n"
     ]
    }
   ],
   "source": [
    "a = int(input('Enter even value = '))\n",
    "try:\n",
    "    assert a%2 ==0       # Assert Statement\n",
    "except:\n",
    "    print('You can only enter even value ')"
   ]
  },
  {
   "cell_type": "code",
   "execution_count": 4,
   "id": "91a6a483",
   "metadata": {},
   "outputs": [
    {
     "name": "stdout",
     "output_type": "stream",
     "text": [
      "Enter even value = 11\n",
      "Enter odd value = 10\n",
      "You can  enter even and odd value \n"
     ]
    }
   ],
   "source": [
    "a = int(input('Enter even value = '))\n",
    "b = int(input('Enter odd value = '))\n",
    "try:\n",
    "    assert a%2 ==0       # Assert Statement\n",
    "except:\n",
    "    print('You can  enter even and odd value ')"
   ]
  },
  {
   "cell_type": "code",
   "execution_count": null,
   "id": "911860b8",
   "metadata": {},
   "outputs": [],
   "source": []
  }
 ],
 "metadata": {
  "kernelspec": {
   "display_name": "Python 3 (ipykernel)",
   "language": "python",
   "name": "python3"
  },
  "language_info": {
   "codemirror_mode": {
    "name": "ipython",
    "version": 3
   },
   "file_extension": ".py",
   "mimetype": "text/x-python",
   "name": "python",
   "nbconvert_exporter": "python",
   "pygments_lexer": "ipython3",
   "version": "3.9.7"
  }
 },
 "nbformat": 4,
 "nbformat_minor": 5
}
