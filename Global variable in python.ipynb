{
 "cells": [
  {
   "cell_type": "code",
   "execution_count": 10,
   "id": "5ef0851b",
   "metadata": {},
   "outputs": [
    {
     "name": "stdout",
     "output_type": "stream",
     "text": [
      "after calling akash() 20\n",
      "100\n"
     ]
    }
   ],
   "source": [
    "# l = 10 # global\n",
    "# def function1(n):\n",
    "# #     l = 5  #local\n",
    "#     m = 8   # local\n",
    "#     global l\n",
    "#     l = l+50\n",
    "#     print(l,m)\n",
    "#     print(n, 'I have printed')\n",
    "    \n",
    "# function1('this is me')\n",
    "# print(l)\n",
    "\n",
    "\n",
    "x = 89\n",
    "def anil():\n",
    "    x = 20\n",
    "    def akash():\n",
    "        global x\n",
    "        x = 100\n",
    "#     print('before calling akash()', x)\n",
    "    akash()\n",
    "    print('after calling akash()', x)\n",
    "\n",
    "anil()\n",
    "print(x)"
   ]
  },
  {
   "cell_type": "code",
   "execution_count": null,
   "id": "20bc419b",
   "metadata": {},
   "outputs": [],
   "source": []
  }
 ],
 "metadata": {
  "kernelspec": {
   "display_name": "Python 3 (ipykernel)",
   "language": "python",
   "name": "python3"
  },
  "language_info": {
   "codemirror_mode": {
    "name": "ipython",
    "version": 3
   },
   "file_extension": ".py",
   "mimetype": "text/x-python",
   "name": "python",
   "nbconvert_exporter": "python",
   "pygments_lexer": "ipython3",
   "version": "3.9.7"
  }
 },
 "nbformat": 4,
 "nbformat_minor": 5
}
