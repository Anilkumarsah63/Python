{
 "cells": [
  {
   "cell_type": "code",
   "execution_count": null,
   "id": "9ed5d5d4",
   "metadata": {},
   "outputs": [],
   "source": [
    "# Python collection\n",
    "# Lists\n",
    "#tuple\n",
    "#dictionary\n",
    "#set"
   ]
  },
  {
   "cell_type": "code",
   "execution_count": null,
   "id": "935517f0",
   "metadata": {},
   "outputs": [],
   "source": [
    "# list\n",
    "# index\n",
    "# multiple values\n",
    "# duplicate values\n",
    "# ordered\n",
    "# mutable datatype"
   ]
  },
  {
   "cell_type": "code",
   "execution_count": 2,
   "id": "f4ec4bd9",
   "metadata": {},
   "outputs": [
    {
     "name": "stdout",
     "output_type": "stream",
     "text": [
      "['Apple', 'Ball', 'Cat']\n",
      "<class 'list'>\n"
     ]
    }
   ],
   "source": [
    "a = ['Apple', 'Ball', 'Cat']\n",
    "print(a)\n",
    "print(type(a))"
   ]
  },
  {
   "cell_type": "code",
   "execution_count": 1,
   "id": "f9fa83d1",
   "metadata": {},
   "outputs": [
    {
     "name": "stdout",
     "output_type": "stream",
     "text": [
      "[2, 10]\n"
     ]
    }
   ],
   "source": [
    "a = 2\n",
    "a = 10\n",
    "a = [2,10]\n",
    "print(a)"
   ]
  },
  {
   "cell_type": "code",
   "execution_count": 3,
   "id": "6a9664e7",
   "metadata": {},
   "outputs": [
    {
     "data": {
      "text/plain": [
       "'Apple'"
      ]
     },
     "execution_count": 3,
     "metadata": {},
     "output_type": "execute_result"
    }
   ],
   "source": [
    "a = ['Apple', 'Ball', 'Cat', 'Apple']\n",
    "a[0]"
   ]
  },
  {
   "cell_type": "code",
   "execution_count": 6,
   "id": "fb49828c",
   "metadata": {},
   "outputs": [
    {
     "name": "stdout",
     "output_type": "stream",
     "text": [
      "4\n"
     ]
    }
   ],
   "source": [
    "a = ['Apple', 'Ball', 'Cat', 'Apple']\n",
    "l = len(a)\n",
    "print(l)"
   ]
  },
  {
   "cell_type": "code",
   "execution_count": 9,
   "id": "63b0bf17",
   "metadata": {},
   "outputs": [
    {
     "name": "stdout",
     "output_type": "stream",
     "text": [
      "['Apple', 'Ball', 'Cat']\n",
      "['Apple', 'Cat', 'Fish']\n",
      "['Apple']\n"
     ]
    }
   ],
   "source": [
    "a = ['Apple', 'Ball', 'Cat', 'Apple' , 'Fish']\n",
    "print(a[0:3])\n",
    "print(a[0:5:2])\n",
    "print(a[0:1:1])"
   ]
  },
  {
   "cell_type": "code",
   "execution_count": 9,
   "id": "c7f13193",
   "metadata": {},
   "outputs": [
    {
     "name": "stdout",
     "output_type": "stream",
     "text": [
      "[1, 2, 3, 4, 5, 6, 7]\n"
     ]
    }
   ],
   "source": [
    "a = [1,2,3,4]\n",
    "b = [5,6,7]\n",
    "c = a+b\n",
    "print(c)"
   ]
  },
  {
   "cell_type": "code",
   "execution_count": 10,
   "id": "80c61d50",
   "metadata": {},
   "outputs": [
    {
     "data": {
      "text/plain": [
       "[1, 2, 3, 4, 1, 2, 3, 4]"
      ]
     },
     "execution_count": 10,
     "metadata": {},
     "output_type": "execute_result"
    }
   ],
   "source": [
    "a = [1,2,3,4]\n",
    "a*2"
   ]
  },
  {
   "cell_type": "code",
   "execution_count": 13,
   "id": "d7171370",
   "metadata": {},
   "outputs": [
    {
     "data": {
      "text/plain": [
       "[1, 2, 3, 4, 5]"
      ]
     },
     "execution_count": 13,
     "metadata": {},
     "output_type": "execute_result"
    }
   ],
   "source": [
    "[1,2,3,4] + [5]"
   ]
  },
  {
   "cell_type": "code",
   "execution_count": 10,
   "id": "ae8cb629",
   "metadata": {},
   "outputs": [
    {
     "name": "stdout",
     "output_type": "stream",
     "text": [
      "Enter n = 2\n",
      "Enter name = Anil\n",
      "Enter name = Akash\n",
      "['Anil', 'Akash']\n"
     ]
    }
   ],
   "source": [
    "l = list()\n",
    "n = int(input('Enter n = '))\n",
    "for i in range(n):\n",
    "    name = input('Enter name = ')\n",
    "    l = l + [name]\n",
    "    \n",
    "print(l)    "
   ]
  },
  {
   "cell_type": "code",
   "execution_count": 13,
   "id": "0ac4d3aa",
   "metadata": {},
   "outputs": [
    {
     "name": "stdout",
     "output_type": "stream",
     "text": [
      "Enter n = 4\n",
      "Enter name = 987\n",
      "Enter name = 7654\n",
      "Enter name = 876543\n",
      "Enter name = 987654\n",
      "[987, 7654, 876543, 987654]\n",
      "Total sum, 1872838\n",
      "Max value =  987654\n",
      "min value =  987\n"
     ]
    }
   ],
   "source": [
    "l = list()\n",
    "n = int(input('Enter n = '))\n",
    "for i in range(n):\n",
    "    name = int(input('Enter name = '))\n",
    "    l = l + [name]\n",
    "    \n",
    "print(l)\n",
    "print('Total sum,', sum(l))\n",
    "print('Max value = ', max(l))\n",
    "print('min value = ', min(l))"
   ]
  },
  {
   "cell_type": "code",
   "execution_count": 17,
   "id": "08ad68fd",
   "metadata": {},
   "outputs": [
    {
     "name": "stdout",
     "output_type": "stream",
     "text": [
      "[87, 654, 6543, 8765, 87654]\n"
     ]
    }
   ],
   "source": [
    "l.sort()\n",
    "print(l)"
   ]
  },
  {
   "cell_type": "code",
   "execution_count": 19,
   "id": "12fb7c32",
   "metadata": {},
   "outputs": [
    {
     "name": "stdout",
     "output_type": "stream",
     "text": [
      "[23, 33, 234, 564, 678]\n"
     ]
    }
   ],
   "source": [
    "l = [23,234,564,678,33]\n",
    "l.sort()\n",
    "print(l)"
   ]
  },
  {
   "cell_type": "code",
   "execution_count": 20,
   "id": "b63c4229",
   "metadata": {},
   "outputs": [
    {
     "name": "stdout",
     "output_type": "stream",
     "text": [
      "Hello world I am Akash\n",
      "Hello world I am Anil\n"
     ]
    }
   ],
   "source": [
    "a = 'Hello world I am Anil'\n",
    "print(a.replace('Anil','Akash'))\n",
    "print(a)"
   ]
  },
  {
   "cell_type": "code",
   "execution_count": 22,
   "id": "bb2fd534",
   "metadata": {},
   "outputs": [
    {
     "name": "stdout",
     "output_type": "stream",
     "text": [
      "['Ball', 'Cat', 'fish', 'zebra', 'zebra']\n"
     ]
    }
   ],
   "source": [
    "l = ['Ball', 'zebra', 'Cat', 'zebra', 'fish']\n",
    "l.sort()\n",
    "print(l)"
   ]
  },
  {
   "cell_type": "code",
   "execution_count": 23,
   "id": "7817fa4f",
   "metadata": {},
   "outputs": [
    {
     "name": "stdout",
     "output_type": "stream",
     "text": [
      "Ball\n",
      "Cat\n",
      "fish\n",
      "zebra\n",
      "zebra\n"
     ]
    }
   ],
   "source": [
    "for i in l:\n",
    "    print(i)"
   ]
  },
  {
   "cell_type": "code",
   "execution_count": 24,
   "id": "215cc9a4",
   "metadata": {},
   "outputs": [
    {
     "name": "stdout",
     "output_type": "stream",
     "text": [
      "yes 2\n"
     ]
    }
   ],
   "source": [
    "if 'zebra' in l:\n",
    "    print('yes', l.count('zebra'))"
   ]
  },
  {
   "cell_type": "code",
   "execution_count": 28,
   "id": "aed1c763",
   "metadata": {},
   "outputs": [
    {
     "name": "stdout",
     "output_type": "stream",
     "text": [
      "60\n"
     ]
    }
   ],
   "source": [
    "def cal(x):\n",
    "    l = x[0]\n",
    "    b = x[1]\n",
    "    a = l*b\n",
    "    print(a)\n",
    "x = [12,5]\n",
    "cal(x)"
   ]
  },
  {
   "cell_type": "code",
   "execution_count": 29,
   "id": "ed19d51f",
   "metadata": {},
   "outputs": [
    {
     "name": "stdout",
     "output_type": "stream",
     "text": [
      "['apple', 'ball', 'cat', 'fish']\n"
     ]
    }
   ],
   "source": [
    "#append() insert() extend()\n",
    "\n",
    "a = ['apple','ball','cat']\n",
    "a.append('fish')\n",
    "print(a)"
   ]
  },
  {
   "cell_type": "code",
   "execution_count": 32,
   "id": "66780e44",
   "metadata": {},
   "outputs": [
    {
     "name": "stdout",
     "output_type": "stream",
     "text": [
      "['apple', 'fish', 'ball', 'cat', 'goat']\n"
     ]
    }
   ],
   "source": [
    "a = ['apple','ball','cat','goat']\n",
    "a.insert(1,'fish')\n",
    "print(a)"
   ]
  },
  {
   "cell_type": "code",
   "execution_count": 34,
   "id": "87e15203",
   "metadata": {},
   "outputs": [
    {
     "name": "stdout",
     "output_type": "stream",
     "text": [
      "['apple', 'ball', 'cat', 'fish', 'goat']\n"
     ]
    }
   ],
   "source": [
    "a = ['apple','ball','cat']\n",
    "b = ['fish','goat']\n",
    "a.extend(b)\n",
    "print(a)"
   ]
  },
  {
   "cell_type": "code",
   "execution_count": 35,
   "id": "d6c9e17d",
   "metadata": {},
   "outputs": [
    {
     "name": "stdout",
     "output_type": "stream",
     "text": [
      "Enter n = 2\n",
      "Enter name = Anil\n",
      "Enter name = Akash\n",
      "['Anil', 'Akash']\n"
     ]
    }
   ],
   "source": [
    "l = list()\n",
    "n = int(input('Enter n = '))\n",
    "for i in range(n):\n",
    "    name = input('Enter name = ')\n",
    "    l.append(name)\n",
    "    \n",
    "print(l)"
   ]
  },
  {
   "cell_type": "code",
   "execution_count": 36,
   "id": "2ba81d64",
   "metadata": {},
   "outputs": [
    {
     "name": "stdout",
     "output_type": "stream",
     "text": [
      "['ant', 'ball', 'cat', 'goat']\n"
     ]
    }
   ],
   "source": [
    "a = ['apple','ball','cat','goat']\n",
    "a[0] = 'ant'\n",
    "print(a)"
   ]
  },
  {
   "cell_type": "code",
   "execution_count": 37,
   "id": "0c60fd78",
   "metadata": {},
   "outputs": [
    {
     "name": "stdout",
     "output_type": "stream",
     "text": [
      "['ball', 'cat', 'goat']\n"
     ]
    }
   ],
   "source": [
    "#del remove() pop()\n",
    "a = ['apple','ball','cat','goat']\n",
    "del a[0]\n",
    "print(a)"
   ]
  },
  {
   "cell_type": "code",
   "execution_count": 38,
   "id": "51ddf255",
   "metadata": {},
   "outputs": [
    {
     "name": "stdout",
     "output_type": "stream",
     "text": [
      "['ball', 'cat', 'goat']\n"
     ]
    }
   ],
   "source": [
    "a = ['apple','ball','cat','goat']\n",
    "a.remove('apple')\n",
    "print(a)"
   ]
  },
  {
   "cell_type": "code",
   "execution_count": 39,
   "id": "2b792e1b",
   "metadata": {},
   "outputs": [
    {
     "name": "stdout",
     "output_type": "stream",
     "text": [
      "['apple', 'ball', 'cat']\n"
     ]
    }
   ],
   "source": [
    "a = ['apple','ball','cat','goat']\n",
    "a.pop()\n",
    "print(a)"
   ]
  },
  {
   "cell_type": "code",
   "execution_count": 40,
   "id": "30f34fc2",
   "metadata": {},
   "outputs": [
    {
     "name": "stdout",
     "output_type": "stream",
     "text": [
      "['apple', 'ball', 'goat']\n"
     ]
    }
   ],
   "source": [
    "a = ['apple','ball','cat','goat']\n",
    "a.pop(2)\n",
    "print(a)"
   ]
  },
  {
   "cell_type": "code",
   "execution_count": 4,
   "id": "76f24ebd",
   "metadata": {},
   "outputs": [
    {
     "data": {
      "text/plain": [
       "['apple', 'ball', 'cat', 'goat']"
      ]
     },
     "execution_count": 4,
     "metadata": {},
     "output_type": "execute_result"
    }
   ],
   "source": [
    "a = ['apple','ball','cat','goat']\n",
    "b = a.copy()\n",
    "b"
   ]
  },
  {
   "cell_type": "code",
   "execution_count": 42,
   "id": "14b6be96",
   "metadata": {},
   "outputs": [
    {
     "name": "stdout",
     "output_type": "stream",
     "text": [
      "[]\n"
     ]
    }
   ],
   "source": [
    "a = ['apple','ball','cat','goat']\n",
    "a.clear()\n",
    "print(a)"
   ]
  },
  {
   "cell_type": "code",
   "execution_count": 44,
   "id": "68fb1e85",
   "metadata": {},
   "outputs": [
    {
     "name": "stdout",
     "output_type": "stream",
     "text": [
      "['goat', 'cat', 'ball', 'apple']\n"
     ]
    }
   ],
   "source": [
    "a = ['apple','ball','cat','goat']\n",
    "a.reverse()\n",
    "print(a)"
   ]
  },
  {
   "cell_type": "code",
   "execution_count": 5,
   "id": "a3c8a099",
   "metadata": {},
   "outputs": [
    {
     "name": "stdout",
     "output_type": "stream",
     "text": [
      "['apple', 'ball', 'cat', 'goat']\n"
     ]
    }
   ],
   "source": [
    "a = ['apple','ball','cat','goat']\n",
    "a.count\n",
    "print(a)"
   ]
  },
  {
   "cell_type": "code",
   "execution_count": 6,
   "id": "c1de89b7",
   "metadata": {},
   "outputs": [
    {
     "name": "stdout",
     "output_type": "stream",
     "text": [
      "['apple', 'ball', 'cat', 'goat']\n"
     ]
    }
   ],
   "source": [
    "a = ['apple','ball','cat','goat']\n",
    "a.index\n",
    "print(a)"
   ]
  },
  {
   "cell_type": "code",
   "execution_count": 14,
   "id": "e4164411",
   "metadata": {},
   "outputs": [
    {
     "data": {
      "text/plain": [
       "['goat']"
      ]
     },
     "execution_count": 14,
     "metadata": {},
     "output_type": "execute_result"
    }
   ],
   "source": [
    "a = ['apple','ball','cat','goat']\n",
    "del a[0:3]\n",
    "a"
   ]
  },
  {
   "cell_type": "code",
   "execution_count": 15,
   "id": "7c1624ff",
   "metadata": {},
   "outputs": [
    {
     "data": {
      "text/plain": [
       "['ball', 'cat', 'goat', 'apple', 'apple']"
      ]
     },
     "execution_count": 15,
     "metadata": {},
     "output_type": "execute_result"
    }
   ],
   "source": [
    "a = ['apple','ball','cat','goat','apple','apple']\n",
    "a.remove('apple')\n",
    "a"
   ]
  },
  {
   "cell_type": "code",
   "execution_count": 17,
   "id": "d8f80bfa",
   "metadata": {},
   "outputs": [
    {
     "name": "stdout",
     "output_type": "stream",
     "text": [
      "Enter x = apple\n",
      "['ball', 'cat', 'goat', 'apple', 'apple']\n",
      "['ball', 'cat', 'goat', 'apple']\n",
      "['ball', 'cat', 'goat']\n"
     ]
    }
   ],
   "source": [
    "a = ['apple','ball','cat','goat','apple','apple']\n",
    "x = input('Enter x = ')\n",
    "l = a.count(x)\n",
    "for i in range(l):\n",
    "    a.remove(x)\n",
    "        \n",
    "    print(a)        "
   ]
  },
  {
   "cell_type": "code",
   "execution_count": 19,
   "id": "8529faef",
   "metadata": {},
   "outputs": [
    {
     "name": "stdout",
     "output_type": "stream",
     "text": [
      "0\n",
      "4\n",
      "5\n"
     ]
    }
   ],
   "source": [
    "a = ['apple','ball','cat','goat','apple','apple']\n",
    "for i in range(len(a)):\n",
    "    if 'apple' == a[i]:\n",
    "        print(i)"
   ]
  },
  {
   "cell_type": "code",
   "execution_count": 18,
   "id": "a34cef10",
   "metadata": {},
   "outputs": [
    {
     "data": {
      "text/plain": [
       "['ball', 'cat', 'goat', 'apple', 'apple']"
      ]
     },
     "execution_count": 18,
     "metadata": {},
     "output_type": "execute_result"
    }
   ],
   "source": [
    "a = ['apple','ball','cat','goat','apple','apple']\n",
    "del a[0]\n",
    "a"
   ]
  },
  {
   "cell_type": "code",
   "execution_count": 25,
   "id": "2fad7669",
   "metadata": {},
   "outputs": [
    {
     "data": {
      "text/plain": [
       "2"
      ]
     },
     "execution_count": 25,
     "metadata": {},
     "output_type": "execute_result"
    }
   ],
   "source": [
    "#list inside list\n",
    "a = [[1,2,3],\n",
    "    [4,5,6],\n",
    "    [7,8,9]]\n",
    "\n",
    "b = [[],[],[]]\n",
    "a[0][1]"
   ]
  },
  {
   "cell_type": "code",
   "execution_count": 22,
   "id": "ac357dc8",
   "metadata": {},
   "outputs": [
    {
     "name": "stdout",
     "output_type": "stream",
     "text": [
      "['Anil Sah', 50, 'Janakpur']\n",
      "3\n"
     ]
    }
   ],
   "source": [
    "a = [['Anil Sah',50,'Janakpur'],\n",
    "    ['Shyam',60,'Kathmandu'],\n",
    "    ['Akash',70,'Pokhara']]\n",
    "\n",
    "print(a[0])\n",
    "print(len(a))"
   ]
  },
  {
   "cell_type": "code",
   "execution_count": 26,
   "id": "4eb783fb",
   "metadata": {},
   "outputs": [
    {
     "name": "stdout",
     "output_type": "stream",
     "text": [
      "Enter n = 2\n",
      "Enter name = Anil sah\n",
      "Enter age = 26\n",
      "Enter Adress = jnk\n",
      "Enter name = Akash\n",
      "Enter age = 12\n",
      "Enter Adress = KTM\n",
      "[['Anil sah', 26, 'jnk'], ['Akash', 12, 'KTM']]\n"
     ]
    }
   ],
   "source": [
    "info = []\n",
    "n = int(input('Enter n = '))\n",
    "for i in range(n):\n",
    "    name = input('Enter name = ')\n",
    "    age = int(input('Enter age = '))\n",
    "    add = input('Enter Adress = ')\n",
    "    data = [name,age,add]\n",
    "    \n",
    "    info.append(data)\n",
    "    \n",
    "print(info)    "
   ]
  },
  {
   "cell_type": "code",
   "execution_count": 28,
   "id": "3aac4f96",
   "metadata": {},
   "outputs": [
    {
     "name": "stdout",
     "output_type": "stream",
     "text": [
      "Enter name = Anil sah\n",
      "['Anil sah', 26, 'jnk']\n"
     ]
    }
   ],
   "source": [
    "a = [['Anil sah', 26, 'jnk'], ['Akash', 12, 'KTM']]\n",
    "name = input('Enter name = ')\n",
    "for i in a:\n",
    "    if 'Anil sah' in i:\n",
    "        print(i)"
   ]
  },
  {
   "cell_type": "code",
   "execution_count": 29,
   "id": "44f09200",
   "metadata": {},
   "outputs": [
    {
     "name": "stdout",
     "output_type": "stream",
     "text": [
      "['Anil sah', 26, 'jnk']\n",
      "['Akash', 12, 'KTM']\n"
     ]
    }
   ],
   "source": [
    "a = [['Anil sah', 26, 'jnk'], ['Akash', 12, 'KTM']]\n",
    "# name = input('Enter name = ')\n",
    "for i in a:\n",
    "#     if 'Anil sah' in i:\n",
    "        print(i)"
   ]
  },
  {
   "cell_type": "code",
   "execution_count": 30,
   "id": "98891d3d",
   "metadata": {},
   "outputs": [
    {
     "data": {
      "text/plain": [
       "[['Anil sah', 26, 'jnk'], ['Akash', 12, 'KTM'], ['Riya', 40, 'Bara']]"
      ]
     },
     "execution_count": 30,
     "metadata": {},
     "output_type": "execute_result"
    }
   ],
   "source": [
    "a.append(['Riya',40,'Bara'])\n",
    "a"
   ]
  },
  {
   "cell_type": "code",
   "execution_count": 31,
   "id": "85b8e2a3",
   "metadata": {},
   "outputs": [
    {
     "name": "stdout",
     "output_type": "stream",
     "text": [
      "Enter name = Riya\n",
      "2\n"
     ]
    }
   ],
   "source": [
    "a = [['Anil sah', 26, 'jnk'], ['Akash', 12, 'KTM'],\n",
    " ['Riya', 40, 'Bara']]\n",
    "name = input('Enter name = ')\n",
    "for i in range(len(a)):\n",
    "    if name in a[i]:\n",
    "        print(i)"
   ]
  },
  {
   "cell_type": "code",
   "execution_count": 32,
   "id": "1d26dc2f",
   "metadata": {},
   "outputs": [
    {
     "name": "stdout",
     "output_type": "stream",
     "text": [
      "Enter name = Anil sah\n",
      "0 ['Anil sah', 26, 'jnk']\n"
     ]
    }
   ],
   "source": [
    "a = [['Anil sah', 26, 'jnk'], ['Akash', 12, 'KTM'],\n",
    " ['Riya', 40, 'Bara']]\n",
    "name = input('Enter name = ')\n",
    "for i in range(len(a)):\n",
    "    if name in a[i]:\n",
    "        print(i,a[i])"
   ]
  },
  {
   "cell_type": "code",
   "execution_count": 35,
   "id": "97d48f14",
   "metadata": {},
   "outputs": [
    {
     "name": "stdout",
     "output_type": "stream",
     "text": [
      "0 apple\n",
      "1 ball\n",
      "2 cat\n",
      "3 dog\n"
     ]
    }
   ],
   "source": [
    "a = ['apple','ball','cat','dog']\n",
    "for i in range(len(a)):\n",
    "    print(i,a[i])"
   ]
  },
  {
   "cell_type": "code",
   "execution_count": 38,
   "id": "552ee33d",
   "metadata": {},
   "outputs": [
    {
     "data": {
      "text/plain": [
       "[['ram', 58, 'bara'], ['Akash', 12, 'KTM'], ['Riya', 40, 'Bara']]"
      ]
     },
     "execution_count": 38,
     "metadata": {},
     "output_type": "execute_result"
    }
   ],
   "source": [
    "a = [['Anil sah', 26, 'jnk'], ['Akash', 12, 'KTM'],\n",
    " ['Riya', 40, 'Bara']]\n",
    "a[0] = ['ram',58,'bara']\n",
    "a"
   ]
  },
  {
   "cell_type": "code",
   "execution_count": 39,
   "id": "68668d8a",
   "metadata": {},
   "outputs": [
    {
     "data": {
      "text/plain": [
       "[['ram prasad', 26, 'jnk'], ['Akash', 12, 'KTM'], ['Riya', 40, 'Bara']]"
      ]
     },
     "execution_count": 39,
     "metadata": {},
     "output_type": "execute_result"
    }
   ],
   "source": [
    "a = [['Anil sah', 26, 'jnk'], ['Akash', 12, 'KTM'],\n",
    " ['Riya', 40, 'Bara']]\n",
    "a[0][0] = 'ram prasad'\n",
    "a"
   ]
  },
  {
   "cell_type": "code",
   "execution_count": 41,
   "id": "3782b49f",
   "metadata": {},
   "outputs": [
    {
     "data": {
      "text/plain": [
       "[['Anil sah', 26, 'jnk'], ['Riya', 40, 'Bara']]"
      ]
     },
     "execution_count": 41,
     "metadata": {},
     "output_type": "execute_result"
    }
   ],
   "source": [
    "a = [['Anil sah', 26, 'jnk'], ['Akash', 12, 'KTM'],\n",
    " ['Riya', 40, 'Bara']]\n",
    "del a[1]\n",
    "a"
   ]
  },
  {
   "cell_type": "code",
   "execution_count": 42,
   "id": "ecc30467",
   "metadata": {},
   "outputs": [
    {
     "data": {
      "text/plain": [
       "[['Akash', 12, 'KTM'], ['Riya', 40, 'Bara']]"
      ]
     },
     "execution_count": 42,
     "metadata": {},
     "output_type": "execute_result"
    }
   ],
   "source": [
    "a = [['Anil sah', 26, 'jnk'], ['Akash', 12, 'KTM'],\n",
    " ['Riya', 40, 'Bara']]\n",
    "for i in a:\n",
    "    if 'Anil sah' in i:\n",
    "        a.remove(i)\n",
    "        \n",
    "a        "
   ]
  },
  {
   "cell_type": "code",
   "execution_count": 50,
   "id": "1d038288",
   "metadata": {},
   "outputs": [
    {
     "data": {
      "text/plain": [
       "[['Anil sah', 26, 'jnk'], [12, 'KTM'], ['Riya', 40, 'Bara']]"
      ]
     },
     "execution_count": 50,
     "metadata": {},
     "output_type": "execute_result"
    }
   ],
   "source": [
    "a = [['Anil sah', 26, 'jnk'], ['Akash', 12, 'KTM'],\n",
    " ['Riya', 40, 'Bara']]\n",
    "for i in a:\n",
    "    if 'Akash' in i:\n",
    "        i.remove('Akash')\n",
    "a        "
   ]
  },
  {
   "cell_type": "code",
   "execution_count": 7,
   "id": "21966fb9",
   "metadata": {},
   "outputs": [
    {
     "data": {
      "text/plain": [
       "[['Anil sah', 26, 'jnk'], ['Akash', 12, 'KTM'], ['Riya', 40, 'Bara']]"
      ]
     },
     "execution_count": 7,
     "metadata": {},
     "output_type": "execute_result"
    }
   ],
   "source": [
    "a = [['Anil sah', 26, 'jnk'], ['Akash', 12, 'KTM'],\n",
    " ['Riya', 40, 'Bara']]\n",
    "for i in a:\n",
    "    if 'name'in i:\n",
    "        \n",
    "        i.remove('name')\n",
    "a  "
   ]
  },
  {
   "cell_type": "code",
   "execution_count": 13,
   "id": "31552285",
   "metadata": {},
   "outputs": [
    {
     "name": "stdout",
     "output_type": "stream",
     "text": [
      "0 apple\n",
      "0 anil\n",
      "1 ball\n",
      "1 akash\n",
      "2 cat\n",
      "2 riya\n",
      "3 dog\n",
      "3 ritika\n"
     ]
    }
   ],
   "source": [
    "a = ['apple','ball','cat','dog']\n",
    "b = ['anil','akash','riya','ritika']\n",
    "for i in range(len(a)):\n",
    "    print(i,a[i])\n",
    "    print(i,b[i])"
   ]
  },
  {
   "cell_type": "code",
   "execution_count": 23,
   "id": "bdc61198",
   "metadata": {},
   "outputs": [
    {
     "name": "stdout",
     "output_type": "stream",
     "text": [
      "Enter name = Anil sah\n",
      "0\n"
     ]
    }
   ],
   "source": [
    "a = [['Anil sah', 26, 'jnk'], ['Akash', 12, 'KTM'],\n",
    " ['Riya', 40, 'Bara']]\n",
    "\n",
    "name = input('Enter name = ')\n",
    "for i in range(len(a)):\n",
    "    if name in a[i]:\n",
    "        \n",
    "        print(i)"
   ]
  },
  {
   "cell_type": "code",
   "execution_count": null,
   "id": "4438297e",
   "metadata": {},
   "outputs": [],
   "source": [
    "# #list inside list\n",
    "# a = [[1,2,3],\n",
    "#     [4,5,6],\n",
    "#     [7,8,9]]\n",
    "a = [[1,2,3]]\n",
    "\n",
    "data = [[1,2,3]]"
   ]
  },
  {
   "cell_type": "code",
   "execution_count": 1,
   "id": "9962e4f8",
   "metadata": {},
   "outputs": [
    {
     "name": "stdout",
     "output_type": "stream",
     "text": [
      "Enter r = 3\n",
      "Enter c = 3\n",
      "Enter data = 34\n",
      "Enter data = 35\n",
      "Enter data = 23\n",
      "Enter data = 34\n",
      "Enter data = 56\n",
      "Enter data = 54\n",
      "Enter data = 65\n",
      "Enter data = 56\n",
      "Enter data = 67\n",
      "[[34, 35, 23], [34, 56, 54], [65, 56, 67]]\n"
     ]
    }
   ],
   "source": [
    "r = int(input('Enter r = '))   #nested loop\n",
    "c = int(input('Enter c = '))\n",
    "mat = []\n",
    "for i in range(r):\n",
    "    x = []\n",
    "    for j in range(c):\n",
    "        data = int(input('Enter data = '))\n",
    "        x.append(data)\n",
    "        \n",
    "    mat.append(x)\n",
    "    \n",
    "print(mat)    \n",
    "        "
   ]
  },
  {
   "cell_type": "code",
   "execution_count": 2,
   "id": "629d6957",
   "metadata": {},
   "outputs": [
    {
     "data": {
      "text/plain": [
       "[[34, 35, 23], [34, 56, 54], [65, 56, 67]]"
      ]
     },
     "execution_count": 2,
     "metadata": {},
     "output_type": "execute_result"
    }
   ],
   "source": [
    "mat"
   ]
  },
  {
   "cell_type": "code",
   "execution_count": null,
   "id": "8ec54b5e",
   "metadata": {},
   "outputs": [],
   "source": []
  }
 ],
 "metadata": {
  "kernelspec": {
   "display_name": "Python 3 (ipykernel)",
   "language": "python",
   "name": "python3"
  },
  "language_info": {
   "codemirror_mode": {
    "name": "ipython",
    "version": 3
   },
   "file_extension": ".py",
   "mimetype": "text/x-python",
   "name": "python",
   "nbconvert_exporter": "python",
   "pygments_lexer": "ipython3",
   "version": "3.9.7"
  }
 },
 "nbformat": 4,
 "nbformat_minor": 5
}
