{
 "cells": [
  {
   "cell_type": "code",
   "execution_count": 1,
   "id": "562768eb",
   "metadata": {},
   "outputs": [
    {
     "name": "stdout",
     "output_type": "stream",
     "text": [
      "{'a': 1, 'b': 4, 'c': 9, 'd': 16, 'e': 25}\n"
     ]
    }
   ],
   "source": [
    "dict1 = {'a':1,'b':2,'c':3,'d':4,'e':5}\n",
    "double_dict1 ={k:v**2 for (k,v) in dict1.items()}\n",
    "print(double_dict1)"
   ]
  },
  {
   "cell_type": "code",
   "execution_count": 2,
   "id": "b10cb5ec",
   "metadata": {},
   "outputs": [
    {
     "name": "stdout",
     "output_type": "stream",
     "text": [
      "{1: 1, 2: 4, 3: 9, 4: 16}\n"
     ]
    }
   ],
   "source": [
    "dict1 = {'a':1,'b':2,'c':3,'d':4,'e':5}\n",
    "double_dict1 ={i:i**2 for i in range(1,5)}\n",
    "print(double_dict1)"
   ]
  },
  {
   "cell_type": "code",
   "execution_count": 3,
   "id": "13bd9202",
   "metadata": {},
   "outputs": [
    {
     "name": "stdout",
     "output_type": "stream",
     "text": [
      "a 1\n",
      "b 2\n",
      "c 3\n",
      "d 4\n",
      "e 5\n"
     ]
    }
   ],
   "source": [
    "dict1 = {'a':1,'b':2,'c':3,'d':4,'e':5}\n",
    "for (k,v) in dict1.items():\n",
    "    \n",
    "    print(k,v)"
   ]
  },
  {
   "cell_type": "code",
   "execution_count": 4,
   "id": "3304a9de",
   "metadata": {},
   "outputs": [
    {
     "data": {
      "text/plain": [
       "[2, 4, 6, 8, 10, 12, 14, 16, 18, 20]"
      ]
     },
     "execution_count": 4,
     "metadata": {},
     "output_type": "execute_result"
    }
   ],
   "source": [
    "data = [i*2 for i in range(1,11)]\n",
    "data"
   ]
  },
  {
   "cell_type": "code",
   "execution_count": 8,
   "id": "20a1ddce",
   "metadata": {},
   "outputs": [
    {
     "data": {
      "text/plain": [
       "[False, True, False, True, False, True, False, True, False, True]"
      ]
     },
     "execution_count": 8,
     "metadata": {},
     "output_type": "execute_result"
    }
   ],
   "source": [
    "data = [i%2 == 0 for i in range(1,11)]\n",
    "data"
   ]
  },
  {
   "cell_type": "code",
   "execution_count": 9,
   "id": "7d719712",
   "metadata": {},
   "outputs": [
    {
     "data": {
      "text/plain": [
       "[5, 10, 15, 20, 25, 30, 35, 40, 45, 50]"
      ]
     },
     "execution_count": 9,
     "metadata": {},
     "output_type": "execute_result"
    }
   ],
   "source": [
    "data = [i*5 for i in range(1,11)]\n",
    "data"
   ]
  },
  {
   "cell_type": "code",
   "execution_count": 10,
   "id": "c0730d28",
   "metadata": {},
   "outputs": [
    {
     "name": "stdout",
     "output_type": "stream",
     "text": [
      "2022-02-26 09:22:30.186258\n"
     ]
    }
   ],
   "source": [
    "import datetime\n",
    "\n",
    "x = datetime.datetime.now()\n",
    "print(x)"
   ]
  },
  {
   "cell_type": "code",
   "execution_count": 11,
   "id": "c3787af2",
   "metadata": {},
   "outputs": [
    {
     "name": "stdout",
     "output_type": "stream",
     "text": [
      "Sat Feb 26 09:22:47 2022\n"
     ]
    }
   ],
   "source": [
    "x = datetime.datetime.now()\n",
    "print(x.strftime('%c'))"
   ]
  },
  {
   "cell_type": "code",
   "execution_count": 12,
   "id": "092b6af6",
   "metadata": {},
   "outputs": [
    {
     "name": "stdout",
     "output_type": "stream",
     "text": [
      "Hello Anil\n",
      "Hello Anil\n",
      "Hello Anil\n",
      "Hello Anil\n",
      "Hello Anil\n",
      "Hello Anil\n",
      "Hello Anil\n",
      "Hello Anil\n",
      "Hello Anil\n",
      "Hello Anil\n",
      "0:00:00\n"
     ]
    }
   ],
   "source": [
    "x = datetime.datetime.now()\n",
    "\n",
    "for i in range(10):\n",
    "    print('Hello Anil')\n",
    "\n",
    "y =  x = datetime.datetime.now()\n",
    "print(x-y)\n",
    "    "
   ]
  },
  {
   "cell_type": "code",
   "execution_count": 15,
   "id": "a5329de3",
   "metadata": {},
   "outputs": [
    {
     "data": {
      "text/plain": [
       "'C:\\\\Users\\\\Anil'"
      ]
     },
     "execution_count": 15,
     "metadata": {},
     "output_type": "execute_result"
    }
   ],
   "source": [
    "import os\n",
    "os.mkdir('Untiteled2')\n",
    "os.getcwd()"
   ]
  },
  {
   "cell_type": "code",
   "execution_count": 14,
   "id": "e8c159e2",
   "metadata": {},
   "outputs": [
    {
     "data": {
      "text/plain": [
       "['.conda',\n",
       " '.condarc',\n",
       " '.continuum',\n",
       " '.idlerc',\n",
       " '.ipynb_checkpoints',\n",
       " '.ipython',\n",
       " '.jupyter',\n",
       " '.keras',\n",
       " '.matplotlib',\n",
       " '.pipwin',\n",
       " '.spyder-py3',\n",
       " '3D Objects',\n",
       " 'age.csv',\n",
       " 'AI',\n",
       " 'AppData',\n",
       " 'Application Data',\n",
       " 'Artificial Intelligence',\n",
       " 'Artificial Intelligence in Broadway',\n",
       " 'Basic and Variable in python.ipynb',\n",
       " 'Comprehension in py.ipynb',\n",
       " 'Contacts',\n",
       " 'Cookies',\n",
       " 'covid.csv',\n",
       " 'data.csv',\n",
       " 'data1.csv',\n",
       " 'data2.tsv',\n",
       " 'data3.tsv',\n",
       " 'Decorator.ipynb',\n",
       " 'demo1.txt',\n",
       " 'demo2.txt',\n",
       " 'Dictionary in Python.ipynb',\n",
       " 'Documents',\n",
       " 'Downloads',\n",
       " 'Exceptional Handling.ipynb',\n",
       " 'Favorites',\n",
       " 'Fetchall data by database.ipynb',\n",
       " 'File Handling in python.ipynb',\n",
       " 'Function in Python.ipynb',\n",
       " 'Global variable in python.ipynb',\n",
       " 'Home work Exercise 1.ipynb',\n",
       " 'IF ELIF ELSE condition In Python.ipynb',\n",
       " 'IntelGraphicsProfiles',\n",
       " 'Jedi',\n",
       " 'Links',\n",
       " 'Lists in python.ipynb',\n",
       " 'Local Settings',\n",
       " 'Loop in python.ipynb',\n",
       " 'Loops2 in Python.ipynb',\n",
       " 'MicrosoftEdgeBackups',\n",
       " 'ML_Be_Pr_ Practical',\n",
       " 'Music',\n",
       " 'My Documents',\n",
       " 'Mysql DataBase in Python.ipynb',\n",
       " 'NetHood',\n",
       " 'newdata.csv',\n",
       " 'newdata.json',\n",
       " 'new_data',\n",
       " 'NTUSER.DAT',\n",
       " 'ntuser.dat.LOG1',\n",
       " 'ntuser.dat.LOG2',\n",
       " 'NTUSER.DAT{f4df44e8-5135-11ec-ba55-c59328cec197}.TM.blf',\n",
       " 'NTUSER.DAT{f4df44e8-5135-11ec-ba55-c59328cec197}.TMContainer00000000000000000001.regtrans-ms',\n",
       " 'NTUSER.DAT{f4df44e8-5135-11ec-ba55-c59328cec197}.TMContainer00000000000000000002.regtrans-ms',\n",
       " 'ntuser.ini',\n",
       " 'OneDrive',\n",
       " 'OOPS in Python.ipynb',\n",
       " 'pipwin',\n",
       " 'PrintHood',\n",
       " 'Python in room class.ipynb',\n",
       " 'Python in room2.ipynb',\n",
       " 'Python311',\n",
       " 'Recent',\n",
       " 'Regular Expression in Python.ipynb',\n",
       " 'Saved Games',\n",
       " 'seaborn-data',\n",
       " 'Searches',\n",
       " 'SendTo',\n",
       " 'Sets in Maths.ipynb',\n",
       " 'Spyder',\n",
       " 'Start Menu',\n",
       " 'Strings in Python.ipynb',\n",
       " 'Templates',\n",
       " 'Tkinter GUI in Python.ipynb',\n",
       " 'Tuple in Python.ipynb',\n",
       " 'Untiteled',\n",
       " 'Untiteled1',\n",
       " 'Untitled Folder',\n",
       " 'Untitled Folder 1',\n",
       " 'Untitled Folder 2',\n",
       " 'Untitled Foldered',\n",
       " 'Videos',\n",
       " 'Web Scraping.ipynb']"
      ]
     },
     "execution_count": 14,
     "metadata": {},
     "output_type": "execute_result"
    }
   ],
   "source": [
    "os.listdir()"
   ]
  },
  {
   "cell_type": "code",
   "execution_count": 16,
   "id": "c72d011e",
   "metadata": {},
   "outputs": [
    {
     "name": "stdout",
     "output_type": "stream",
     "text": [
      "3.9.7 (default, Sep 16 2021, 16:59:28) [MSC v.1916 64 bit (AMD64)]\n"
     ]
    }
   ],
   "source": [
    "import sys\n",
    "print(sys.version)"
   ]
  },
  {
   "cell_type": "code",
   "execution_count": 17,
   "id": "131792d7",
   "metadata": {},
   "outputs": [
    {
     "name": "stdout",
     "output_type": "stream",
     "text": [
      "Geeks"
     ]
    },
    {
     "data": {
      "text/plain": [
       "5"
      ]
     },
     "execution_count": 17,
     "metadata": {},
     "output_type": "execute_result"
    }
   ],
   "source": [
    "sys.stdout.write('Geeks')"
   ]
  },
  {
   "cell_type": "code",
   "execution_count": null,
   "id": "580d07a8",
   "metadata": {},
   "outputs": [],
   "source": []
  }
 ],
 "metadata": {
  "kernelspec": {
   "display_name": "Python 3 (ipykernel)",
   "language": "python",
   "name": "python3"
  },
  "language_info": {
   "codemirror_mode": {
    "name": "ipython",
    "version": 3
   },
   "file_extension": ".py",
   "mimetype": "text/x-python",
   "name": "python",
   "nbconvert_exporter": "python",
   "pygments_lexer": "ipython3",
   "version": "3.9.7"
  }
 },
 "nbformat": 4,
 "nbformat_minor": 5
}
