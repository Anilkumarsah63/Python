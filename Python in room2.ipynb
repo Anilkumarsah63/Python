{
 "cells": [
  {
   "cell_type": "markdown",
   "id": "6ac929f3",
   "metadata": {},
   "source": [
    "# Enumerate"
   ]
  },
  {
   "cell_type": "code",
   "execution_count": 4,
   "id": "ebb2e31d",
   "metadata": {},
   "outputs": [
    {
     "name": "stdout",
     "output_type": "stream",
     "text": [
      "Anil please buy Bhindi\n",
      "Anil please buy Apple\n"
     ]
    }
   ],
   "source": [
    "l1 = ['Bhindi', 'Aalu','Apple', 'Banana']\n",
    "# i = 1\n",
    "# for item in l1:\n",
    "#     if i%2 is not 0:\n",
    "#         print(f'Anil please buy {Item}')\n",
    "#     i += 1 \n",
    "\n",
    "for index, item in enumerate(l1):\n",
    "    if index%2==0:\n",
    "        print(f'Anil please buy {item}')"
   ]
  },
  {
   "cell_type": "markdown",
   "id": "182b6e9b",
   "metadata": {},
   "source": [
    "# file1"
   ]
  },
  {
   "cell_type": "code",
   "execution_count": 1,
   "id": "e286971c",
   "metadata": {},
   "outputs": [
    {
     "name": "stdout",
     "output_type": "stream",
     "text": [
      "RandomForestClassifier()\n"
     ]
    }
   ],
   "source": [
    "from sklearn.ensemble import RandomForestClassifier\n",
    "print(RandomForestClassifier())"
   ]
  },
  {
   "cell_type": "code",
   "execution_count": null,
   "id": "199d6b3d",
   "metadata": {},
   "outputs": [],
   "source": []
  }
 ],
 "metadata": {
  "kernelspec": {
   "display_name": "Python 3 (ipykernel)",
   "language": "python",
   "name": "python3"
  },
  "language_info": {
   "codemirror_mode": {
    "name": "ipython",
    "version": 3
   },
   "file_extension": ".py",
   "mimetype": "text/x-python",
   "name": "python",
   "nbconvert_exporter": "python",
   "pygments_lexer": "ipython3",
   "version": "3.9.7"
  }
 },
 "nbformat": 4,
 "nbformat_minor": 5
}
