{
 "cells": [
  {
   "cell_type": "code",
   "execution_count": null,
   "id": "a5da6ad0",
   "metadata": {},
   "outputs": [],
   "source": [
    "# if<condition>:\n",
    "#   <operation>\n",
    "# elif<condition>\n",
    "#   <operation>\n",
    "#   '''\n",
    "#   '''\n",
    "#   '''\n",
    "# else:\n",
    "#   <operation>\n",
    "# and &\n",
    "# or |\n",
    "\n",
    "# comparisation operator < > <= >= == !="
   ]
  },
  {
   "cell_type": "code",
   "execution_count": 3,
   "id": "f32b9c92",
   "metadata": {},
   "outputs": [
    {
     "name": "stdout",
     "output_type": "stream",
     "text": [
      "False\n",
      "True\n",
      "False\n",
      "True\n",
      "False\n",
      "True\n"
     ]
    }
   ],
   "source": [
    "a = 2000\n",
    "b = 200\n",
    "c = a<b\n",
    "print(c)\n",
    "\n",
    "a = 2000\n",
    "b = 200\n",
    "c = a>b\n",
    "print(c)\n",
    "\n",
    "a = 2000\n",
    "b = 200\n",
    "c = a<=b\n",
    "print(c)\n",
    "\n",
    "a = 2000\n",
    "b = 200\n",
    "c = a>=b\n",
    "print(c)\n",
    "\n",
    "a = 2000\n",
    "b = 200\n",
    "c = a==b\n",
    "print(c)\n",
    "\n",
    "a = 2000\n",
    "b = 200\n",
    "c = (a!=b)\n",
    "print(c)"
   ]
  },
  {
   "cell_type": "code",
   "execution_count": 19,
   "id": "95645f0c",
   "metadata": {},
   "outputs": [
    {
     "name": "stdout",
     "output_type": "stream",
     "text": [
      "False\n",
      "True\n",
      "True\n",
      "False\n"
     ]
    }
   ],
   "source": [
    "a = True\n",
    "b = False\n",
    "\n",
    "print(a and b)\n",
    "\n",
    "print(a or b)\n",
    "\n",
    "a = True\n",
    "b = False\n",
    "\n",
    "print(a or b)\n",
    "print(a and b)"
   ]
  },
  {
   "cell_type": "code",
   "execution_count": 8,
   "id": "29c181e7",
   "metadata": {},
   "outputs": [
    {
     "name": "stdout",
     "output_type": "stream",
     "text": [
      "b is grater\n",
      "a is grater\n"
     ]
    }
   ],
   "source": [
    "a = 10\n",
    "b = 20\n",
    "if a<b:# indendation sign :\n",
    "    print (\"b is grater\")\n",
    "elif a>b:\n",
    "    print(\"a is grater\")\n",
    "\n",
    "else:\n",
    "    print(\"Both are equal\")\n",
    "    \n",
    "   \n",
    "    \n",
    "a = 10\n",
    "b = 20\n",
    "if a<b:# indendation sign :\n",
    "    print (\"a is grater\")\n",
    "elif a>b:\n",
    "    print(\"b is grater\")\n",
    "\n",
    "else:    \n",
    "\n",
    "    print(\"Both are equal\")     \n",
    "    "
   ]
  },
  {
   "cell_type": "code",
   "execution_count": 11,
   "id": "544baf3c",
   "metadata": {},
   "outputs": [
    {
     "name": "stdout",
     "output_type": "stream",
     "text": [
      "Enter a = 20\n",
      "Enter num is even. \n",
      "Enter a = 19\n",
      "The no is odd \n"
     ]
    }
   ],
   "source": [
    "a = int(input(\"Enter a = \"))\n",
    "if a % 2 == 0:\n",
    "    print(\"Enter num is even. \")\n",
    "    \n",
    "else:\n",
    "    print(\"The no is odd \")\n",
    "    \n",
    "    \n",
    "    \n",
    "    \n",
    "a = int(input(\"Enter a = \"))\n",
    "if a % 2 == 0:\n",
    "    print(\"Enter num is even. \")\n",
    "    \n",
    "else:\n",
    "    print(\"The no is odd \")    "
   ]
  },
  {
   "cell_type": "code",
   "execution_count": 2,
   "id": "a538e393",
   "metadata": {},
   "outputs": [
    {
     "name": "stdout",
     "output_type": "stream",
     "text": [
      "Enter A = 200\n",
      "Enter + - * / *\n",
      "Enter B = 300\n",
      "60000\n"
     ]
    }
   ],
   "source": [
    "# miniproject calculator\n",
    "\n",
    "\n",
    "\n",
    "\n",
    "\n",
    "a = int(input(\"Enter A = \"))\n",
    "o = input(\"Enter + - * / \")\n",
    "b = int(input(\"Enter B = \"))\n",
    "\n",
    "if o == \"+\":\n",
    "    print(a+b)\n",
    "    \n",
    "elif o == \"-\":\n",
    "    print(a-b)\n",
    "    \n",
    "elif o == \"*\":\n",
    "    print(a*b)\n",
    "\n",
    "elif o == \"/\":\n",
    "    print(a/b)\n",
    "    \n",
    "else:\n",
    "    \n",
    "    print(\"Invalid operator\")\n",
    "    "
   ]
  },
  {
   "cell_type": "code",
   "execution_count": 21,
   "id": "fe20ed9d",
   "metadata": {},
   "outputs": [
    {
     "name": "stdout",
     "output_type": "stream",
     "text": [
      "Enter A = 10\n",
      "Enter B = 0\n",
      "Enter + - * / /\n",
      "Invalid operator\n"
     ]
    }
   ],
   "source": [
    "a = int(input(\"Enter A = \"))\n",
    "b = int(input(\"Enter B = \"))\n",
    "o = input(\"Enter + - * / \")\n",
    "if o == \"+\":\n",
    "    print(a+b)\n",
    "    \n",
    "elif o == \"-\":\n",
    "    print(a-b)\n",
    "    \n",
    "elif o == \"*\":\n",
    "    print(a*b)\n",
    "\n",
    "elif (o == \"/\") and (b != 0):\n",
    "    print(a/b)\n",
    "    \n",
    "elif (o == \"/\") and (b != 0):\n",
    "    print(\"The value of b can not be zero\")    \n",
    "    \n",
    "else:\n",
    "    \n",
    "    print(\"Invalid operator\")"
   ]
  },
  {
   "cell_type": "code",
   "execution_count": 14,
   "id": "c95a9c77",
   "metadata": {},
   "outputs": [
    {
     "name": "stdout",
     "output_type": "stream",
     "text": [
      "Enter physics marks = 80\n",
      "Enter chemistry marks = 65\n",
      "Enter math marks = 55\n",
      "Enter english marks = 45\n",
      "Enter nepali marks = 40\n",
      " C grade\n"
     ]
    }
   ],
   "source": [
    "physics = int(input(\"Enter physics marks = \"))\n",
    "chemistry = int(input(\"Enter chemistry marks = \"))\n",
    "math = int(input(\"Enter math marks = \"))\n",
    "english = int(input(\"Enter english marks = \"))\n",
    "nepali = int(input(\"Enter nepali marks = \"))\n",
    "\n",
    "total = physics + chemistry + math + english + nepali\n",
    "per = total/5\n",
    "\n",
    "if per >= 80:\n",
    "    print(\" A grade\")\n",
    "    \n",
    "elif per >= 60:\n",
    "    print(\" B grade\")\n",
    "    \n",
    "elif per >= 50:\n",
    "    print(\" C grade\")\n",
    "    \n",
    "elif per >= 40:\n",
    "    print(\" D grade\")\n",
    "    \n",
    "else:\n",
    "    print(\"Fail\")   \n",
    "    "
   ]
  },
  {
   "cell_type": "code",
   "execution_count": 15,
   "id": "9bd9bd85",
   "metadata": {},
   "outputs": [
    {
     "name": "stdout",
     "output_type": "stream",
     "text": [
      "Enter physics marks = 10\n",
      "Enter chemistry marks = 20\n",
      "Enter math marks = 28\n",
      "Enter english marks = 35\n",
      "Enter nepali marks = 20\n",
      "Fail\n"
     ]
    }
   ],
   "source": [
    "physics = int(input(\"Enter physics marks = \"))\n",
    "chemistry = int(input(\"Enter chemistry marks = \"))\n",
    "math = int(input(\"Enter math marks = \"))\n",
    "english = int(input(\"Enter english marks = \"))\n",
    "nepali = int(input(\"Enter nepali marks = \"))\n",
    "\n",
    "total = physics + chemistry + math + english + nepali\n",
    "per = total/5\n",
    "\n",
    "if per >= 80:\n",
    "    print(\" A grade\")\n",
    "    \n",
    "elif per >= 60:\n",
    "    print(\" B grade\")\n",
    "    \n",
    "elif per >= 50:\n",
    "    print(\" C grade\")\n",
    "    \n",
    "elif per >= 40:\n",
    "    print(\" D grade\")\n",
    "    \n",
    "else:\n",
    "    print(\"Fail\")"
   ]
  },
  {
   "cell_type": "code",
   "execution_count": null,
   "id": "8aa982c3",
   "metadata": {},
   "outputs": [],
   "source": [
    "# if <condition >:\n",
    "#     if<condition>:\n",
    "#     else:\n",
    "#         <operations>\n",
    "# else:\n",
    "#     <operations>"
   ]
  },
  {
   "cell_type": "code",
   "execution_count": 23,
   "id": "331bc1f0",
   "metadata": {},
   "outputs": [
    {
     "name": "stdout",
     "output_type": "stream",
     "text": [
      "Enter A = 10\n",
      "Enter B = 0\n",
      "Enter + - * / /\n",
      "Value of b can not be zore \n"
     ]
    }
   ],
   "source": [
    "a = int(input(\"Enter A = \"))\n",
    "b = int(input(\"Enter B = \"))\n",
    "o = input(\"Enter + - * / \")\n",
    "if o == \"+\":\n",
    "    print(a+b)\n",
    "    \n",
    "elif o == \"-\":\n",
    "    print(a-b)\n",
    "    \n",
    "elif o == \"*\":\n",
    "    print(a*b)\n",
    "\n",
    "elif o == \"/\":\n",
    "    \n",
    "    if b !=0:\n",
    "        print(a/b)\n",
    "    else:\n",
    "        print(\"Value of b can not be zore \")\n",
    "    \n",
    "else:\n",
    "    \n",
    "    print(\"Invalid operator\")"
   ]
  },
  {
   "cell_type": "code",
   "execution_count": null,
   "id": "fe0125b3",
   "metadata": {},
   "outputs": [],
   "source": [
    "# if <condition>:\n",
    "#     if<condition>:\n",
    "#         if <condition>:\n",
    "#             <operations>\n",
    "#     else:\n",
    "#         <operations>"
   ]
  },
  {
   "cell_type": "code",
   "execution_count": 14,
   "id": "4952c879",
   "metadata": {},
   "outputs": [
    {
     "name": "stdout",
     "output_type": "stream",
     "text": [
      "Enter A = 40\n",
      "Enter B = 0\n",
      "Enter + - * / /\n",
      "Value of b can not be zore \n"
     ]
    }
   ],
   "source": [
    "a = int(input(\"Enter A = \"))\n",
    "b = int(input(\"Enter B = \"))\n",
    "o = input(\"Enter + - * / \")\n",
    "if o == \"+\":\n",
    "    print(a+b)\n",
    "    if o == \"-\":\n",
    "        print(a-b)\n",
    "        if o == \"*\":\n",
    "            print(a*b)\n",
    "\n",
    "if o == \"/\":\n",
    "    \n",
    "    if b !=0:\n",
    "        print(a/b)\n",
    "    else:\n",
    "        print(\"Value of b can not be zore \")\n",
    "    \n",
    "else:\n",
    "    \n",
    "    print(\"Invalid operator\")"
   ]
  },
  {
   "cell_type": "code",
   "execution_count": 25,
   "id": "ed48166f",
   "metadata": {},
   "outputs": [
    {
     "name": "stdout",
     "output_type": "stream",
     "text": [
      "Enter your age : 22\n",
      "Enter your weight 50\n",
      "Blood Donate \n"
     ]
    }
   ],
   "source": [
    "age = int(input(\"Enter your age : \"))\n",
    "\n",
    "if age>=18:\n",
    "    weg = int(input(\"Enter your weight \"))\n",
    "    if weg>=50:\n",
    "        print(\"Blood Donate \")\n",
    "    else:\n",
    "        print(\"Under Weight \")\n",
    "        \n",
    "else:\n",
    "    print(\"Under age\")"
   ]
  },
  {
   "cell_type": "code",
   "execution_count": 3,
   "id": "c2f220e4",
   "metadata": {},
   "outputs": [
    {
     "name": "stdout",
     "output_type": "stream",
     "text": [
      "Enter your age : 17\n",
      "Enter your weight 20\n",
      "Under age\n"
     ]
    }
   ],
   "source": [
    "age = int(input(\"Enter your age : \"))\n",
    "weg = int(input(\"Enter your weight \"))\n",
    "\n",
    "if age>=18:\n",
    "\n",
    "    if weg>=50:\n",
    "        print(\"Blood Donate \")\n",
    "    else:\n",
    "        print(\"Under Weight \")\n",
    "        \n",
    "else:\n",
    "    print(\"Under age\")"
   ]
  },
  {
   "cell_type": "code",
   "execution_count": null,
   "id": "cbaf1587",
   "metadata": {},
   "outputs": [],
   "source": []
  }
 ],
 "metadata": {
  "kernelspec": {
   "display_name": "Python 3 (ipykernel)",
   "language": "python",
   "name": "python3"
  },
  "language_info": {
   "codemirror_mode": {
    "name": "ipython",
    "version": 3
   },
   "file_extension": ".py",
   "mimetype": "text/x-python",
   "name": "python",
   "nbconvert_exporter": "python",
   "pygments_lexer": "ipython3",
   "version": "3.9.7"
  }
 },
 "nbformat": 4,
 "nbformat_minor": 5
}
