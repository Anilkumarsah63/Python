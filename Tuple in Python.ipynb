{
 "cells": [
  {
   "cell_type": "code",
   "execution_count": null,
   "id": "2d3cce45",
   "metadata": {},
   "outputs": [],
   "source": [
    "# indexd\n",
    "# ordered\n",
    "# duplicate numbers\n",
    "# multiple members\n",
    "# immitable"
   ]
  },
  {
   "cell_type": "code",
   "execution_count": 2,
   "id": "235f96c0",
   "metadata": {},
   "outputs": [
    {
     "name": "stdout",
     "output_type": "stream",
     "text": [
      "<class 'tuple'>\n",
      "('apple', 'ball', 'cat', 'dog')\n"
     ]
    }
   ],
   "source": [
    "a = ('apple', 'ball', 'cat', 'dog')\n",
    "print(type(a))\n",
    "print(a)"
   ]
  },
  {
   "cell_type": "code",
   "execution_count": 4,
   "id": "f8c86428",
   "metadata": {},
   "outputs": [
    {
     "data": {
      "text/plain": [
       "('apple', 'ball', 'cat', 'dog')"
      ]
     },
     "execution_count": 4,
     "metadata": {},
     "output_type": "execute_result"
    }
   ],
   "source": [
    "a = ('apple', 'ball', 'cat', 'dog')\n",
    "a"
   ]
  },
  {
   "cell_type": "code",
   "execution_count": 5,
   "id": "27a61f4e",
   "metadata": {},
   "outputs": [
    {
     "data": {
      "text/plain": [
       "'ball'"
      ]
     },
     "execution_count": 5,
     "metadata": {},
     "output_type": "execute_result"
    }
   ],
   "source": [
    "a = ('apple', 'ball', 'cat', 'dog')\n",
    "a[1]"
   ]
  },
  {
   "cell_type": "code",
   "execution_count": 6,
   "id": "3588693e",
   "metadata": {},
   "outputs": [
    {
     "data": {
      "text/plain": [
       "('ball', 'cat')"
      ]
     },
     "execution_count": 6,
     "metadata": {},
     "output_type": "execute_result"
    }
   ],
   "source": [
    "a = ('apple', 'ball', 'cat', 'dog')\n",
    "a[1:3]"
   ]
  },
  {
   "cell_type": "code",
   "execution_count": 10,
   "id": "195c2d93",
   "metadata": {},
   "outputs": [
    {
     "name": "stdout",
     "output_type": "stream",
     "text": [
      "('apple', 'ball', 'cat', 'dog', 'apple', 'fish', 'goat')\n"
     ]
    }
   ],
   "source": [
    "a = ('apple', 'ball', 'cat', 'dog', 'apple')\n",
    "b = ('fish', 'goat')\n",
    "print(a+b)"
   ]
  },
  {
   "cell_type": "code",
   "execution_count": 11,
   "id": "682f8b45",
   "metadata": {},
   "outputs": [
    {
     "data": {
      "text/plain": [
       "('fish', 'goat', 'fish', 'goat')"
      ]
     },
     "execution_count": 11,
     "metadata": {},
     "output_type": "execute_result"
    }
   ],
   "source": [
    "b = ('fish', 'goat')\n",
    "b*2"
   ]
  },
  {
   "cell_type": "code",
   "execution_count": 12,
   "id": "f9cb435a",
   "metadata": {},
   "outputs": [
    {
     "name": "stdout",
     "output_type": "stream",
     "text": [
      "<class 'tuple'>\n"
     ]
    }
   ],
   "source": [
    "a = ('fish', 'goat')\n",
    "print(type(a))"
   ]
  },
  {
   "cell_type": "code",
   "execution_count": 13,
   "id": "42dbd560",
   "metadata": {},
   "outputs": [
    {
     "name": "stdout",
     "output_type": "stream",
     "text": [
      "<class 'str'>\n"
     ]
    }
   ],
   "source": [
    "a = ('fish')\n",
    "print(type(a))"
   ]
  },
  {
   "cell_type": "code",
   "execution_count": 14,
   "id": "145e6876",
   "metadata": {},
   "outputs": [
    {
     "name": "stdout",
     "output_type": "stream",
     "text": [
      "<class 'tuple'>\n"
     ]
    }
   ],
   "source": [
    "a = ('fish',)\n",
    "print(type(a))"
   ]
  },
  {
   "cell_type": "code",
   "execution_count": 15,
   "id": "60f2a839",
   "metadata": {},
   "outputs": [
    {
     "data": {
      "text/plain": [
       "('apple', 'ball', 'cat', 'dog', 'apple', 'fish')"
      ]
     },
     "execution_count": 15,
     "metadata": {},
     "output_type": "execute_result"
    }
   ],
   "source": [
    "a = ('apple', 'ball', 'cat', 'dog', 'apple')\n",
    "b = ('fish',)\n",
    "c = a+b\n",
    "c"
   ]
  },
  {
   "cell_type": "code",
   "execution_count": null,
   "id": "b5e73380",
   "metadata": {},
   "outputs": [],
   "source": [
    "# mutable datatype -> ustable data\n",
    "# imutable datatype -> static data"
   ]
  },
  {
   "cell_type": "code",
   "execution_count": null,
   "id": "a2717385",
   "metadata": {},
   "outputs": [],
   "source": [
    "# no append() insert() extend() del() remove() pop() sort() clear()\n",
    "\n",
    "a = ('apple', 'ball', 'cat', 'dog', 'apple')"
   ]
  },
  {
   "cell_type": "code",
   "execution_count": 18,
   "id": "b15c5dc0",
   "metadata": {},
   "outputs": [
    {
     "name": "stdout",
     "output_type": "stream",
     "text": [
      "Enter N = 2\n",
      "Enter N = Anil\n",
      "Enter N = Akash\n",
      "('Anil', 'Akash')\n"
     ]
    }
   ],
   "source": [
    "data = tuple()\n",
    "n = int(input('Enter N = '))\n",
    "for i in range(n):\n",
    "    x = input('Enter N = ')\n",
    "    data = data + (x,)\n",
    "    \n",
    "print(data)    "
   ]
  },
  {
   "cell_type": "code",
   "execution_count": 19,
   "id": "ea8db17f",
   "metadata": {},
   "outputs": [
    {
     "data": {
      "text/plain": [
       "['apple', 'ball', 'cat', 'dog', 'apple']"
      ]
     },
     "execution_count": 19,
     "metadata": {},
     "output_type": "execute_result"
    }
   ],
   "source": [
    "a = ('apple', 'ball', 'cat', 'dog', 'apple')\n",
    "b = list(a)\n",
    "b"
   ]
  },
  {
   "cell_type": "code",
   "execution_count": 20,
   "id": "4b4cc362",
   "metadata": {},
   "outputs": [
    {
     "data": {
      "text/plain": [
       "('apple', 'ball', 'cat', 'dog', 'apple')"
      ]
     },
     "execution_count": 20,
     "metadata": {},
     "output_type": "execute_result"
    }
   ],
   "source": [
    "a = ['apple', 'ball', 'cat', 'dog', 'apple']\n",
    "b = tuple(a)\n",
    "b"
   ]
  },
  {
   "cell_type": "code",
   "execution_count": 21,
   "id": "bed3d1b9",
   "metadata": {},
   "outputs": [
    {
     "data": {
      "text/plain": [
       "('apple', 'cat', 'dog', 'apple')"
      ]
     },
     "execution_count": 21,
     "metadata": {},
     "output_type": "execute_result"
    }
   ],
   "source": [
    "a = ('apple', 'ball', 'cat', 'dog', 'apple',)\n",
    "b = list(a)\n",
    "del b[1]\n",
    "a = tuple(b)\n",
    "a"
   ]
  },
  {
   "cell_type": "code",
   "execution_count": 22,
   "id": "15de8608",
   "metadata": {},
   "outputs": [
    {
     "name": "stdout",
     "output_type": "stream",
     "text": [
      "['P', 'y', 't', 'h', 'o', 'n']\n",
      "('P', 'y', 't', 'h', 'o', 'n')\n"
     ]
    }
   ],
   "source": [
    "a = 'Python'\n",
    "print(list(a))\n",
    "print(tuple(a))"
   ]
  },
  {
   "cell_type": "code",
   "execution_count": null,
   "id": "2397445b",
   "metadata": {},
   "outputs": [],
   "source": [
    "# a = (('Anil, 34, Jnk',\n",
    "#      'Akash, 12, ktm',\n",
    "#      'Riya, 10, kataiya'))\n",
    "# read the senariyo"
   ]
  },
  {
   "cell_type": "code",
   "execution_count": 23,
   "id": "48d91597",
   "metadata": {},
   "outputs": [
    {
     "name": "stdout",
     "output_type": "stream",
     "text": [
      "Enter N = 2\n",
      "Enter Name = Anil\n",
      "Enter Age = 25\n",
      "Enter Address = Jnk\n",
      "Enter Name = Akash\n",
      "Enter Age = 12\n",
      "Enter Address = Jnk\n",
      "(('Anil', 25, 'Jnk'), ('Akash', 12, 'Jnk'))\n"
     ]
    }
   ],
   "source": [
    "data = tuple()\n",
    "n = int(input('Enter N = '))\n",
    "for i in range(n):\n",
    "    name = input('Enter Name = ')\n",
    "    age = int(input('Enter Age = '))\n",
    "    address = input('Enter Address = ')\n",
    "    info = (name,age,address)\n",
    "    data = data + (info,)\n",
    "    \n",
    "print(data)  "
   ]
  },
  {
   "cell_type": "code",
   "execution_count": 24,
   "id": "b36042ac",
   "metadata": {},
   "outputs": [
    {
     "data": {
      "text/plain": [
       "[('Anil', '25', 'Jnk'), ('Akash', '12', 'Jnk')]"
      ]
     },
     "execution_count": 24,
     "metadata": {},
     "output_type": "execute_result"
    }
   ],
   "source": [
    "a = (('Anil', '25', 'Jnk'), ('Akash', '12', 'Jnk'))\n",
    "list(a)"
   ]
  },
  {
   "cell_type": "code",
   "execution_count": 25,
   "id": "5a5d2c3e",
   "metadata": {},
   "outputs": [
    {
     "data": {
      "text/plain": [
       "[('Anil', 25, 'Jnk'), ('Akash', 12, 'Jnk'), ('Nabin', 23, 'bara')]"
      ]
     },
     "execution_count": 25,
     "metadata": {},
     "output_type": "execute_result"
    }
   ],
   "source": [
    "# tuple inside list\n",
    "a = [('Anil', 25, 'Jnk'), ('Akash', 12, 'Jnk')]\n",
    "a.append(('Nabin',23,'bara'))\n",
    "a"
   ]
  },
  {
   "cell_type": "code",
   "execution_count": 26,
   "id": "f9902a9d",
   "metadata": {},
   "outputs": [
    {
     "data": {
      "text/plain": [
       "('Akash', 12, 'Jnk')"
      ]
     },
     "execution_count": 26,
     "metadata": {},
     "output_type": "execute_result"
    }
   ],
   "source": [
    "a = [('Anil', 25, 'Jnk'), ('Akash', 12, 'Jnk'), ('Nabin', 23, 'bara')]\n",
    "a[1]"
   ]
  },
  {
   "cell_type": "code",
   "execution_count": 27,
   "id": "44becc21",
   "metadata": {},
   "outputs": [
    {
     "data": {
      "text/plain": [
       "[('Anil', 25, 'Jnk'), ('Akash', 12, 'Jnk'), ('ram prasad', '34', 'ktm')]"
      ]
     },
     "execution_count": 27,
     "metadata": {},
     "output_type": "execute_result"
    }
   ],
   "source": [
    "a = [('Anil', 25, 'Jnk'), ('Akash', 12, 'Jnk'), ('Nabin', 23, 'bara')]\n",
    "a[2] = ('ram prasad','34', 'ktm')\n",
    "a"
   ]
  },
  {
   "cell_type": "code",
   "execution_count": 31,
   "id": "ab0dd021",
   "metadata": {},
   "outputs": [
    {
     "data": {
      "text/plain": [
       "tuple"
      ]
     },
     "execution_count": 31,
     "metadata": {},
     "output_type": "execute_result"
    }
   ],
   "source": [
    "# list inside tuple\n",
    "a = (['Anil', 25, 'Jnk'], ['Akash', 12, 'Jnk'])\n",
    "type(a)  "
   ]
  },
  {
   "cell_type": "code",
   "execution_count": 34,
   "id": "c0f64d92",
   "metadata": {},
   "outputs": [
    {
     "data": {
      "text/plain": [
       "(['ram prasad', 25, 'Jnk'], ['Akash', 12, 'Jnk'])"
      ]
     },
     "execution_count": 34,
     "metadata": {},
     "output_type": "execute_result"
    }
   ],
   "source": [
    "a = (['Anil', 25, 'Jnk'], ['Akash', 12, 'Jnk'])\n",
    "a[0][0] = 'ram prasad'\n",
    "a"
   ]
  },
  {
   "cell_type": "code",
   "execution_count": 35,
   "id": "1920bc6f",
   "metadata": {},
   "outputs": [
    {
     "data": {
      "text/plain": [
       "[['Anil', '25', 'Jnk'], ['Akash', '12', 'Jnk']]"
      ]
     },
     "execution_count": 35,
     "metadata": {},
     "output_type": "execute_result"
    }
   ],
   "source": [
    "o = []\n",
    "a = (('Anil', '25', 'Jnk'), ('Akash', '12', 'Jnk'))\n",
    "b = list(a)\n",
    "for i in b:\n",
    "    x = list(i)\n",
    "    o.append(x)\n",
    "    \n",
    "o    \n",
    "    "
   ]
  },
  {
   "cell_type": "code",
   "execution_count": 5,
   "id": "3b4b61bc",
   "metadata": {},
   "outputs": [
    {
     "name": "stdout",
     "output_type": "stream",
     "text": [
      "Enter N = 1\n",
      "Name = Anil Kumar Sah\n",
      "Age = 26\n",
      "Date = 1/28/2022\n",
      "Address = Jnkp\n",
      "Mobile_Number = 9817853704\n",
      "Email_ID = anilkumarsah927@gmail.com\n",
      "(('Anil Kumar Sah', 26, '1/28/2022', 'Jnkp', 9817853704, 'anilkumarsah927@gmail.com'),)\n"
     ]
    }
   ],
   "source": [
    "data = tuple()\n",
    "n = int(input('Enter N = '))\n",
    "for i in range(n):\n",
    "    name = input('Name = ')\n",
    "    age = int(input('Age = '))\n",
    "    date = input('Date = ')\n",
    "    address = input('Address = ')\n",
    "    mobile_number = int(input('Mobile_Number = '))\n",
    "    email_id = input('Email_ID = ')\n",
    "    \n",
    "    info = (name,age,date,address,mobile_number,email_id)\n",
    "    data = data+(info,)\n",
    "    \n",
    "print(data)"
   ]
  },
  {
   "cell_type": "code",
   "execution_count": 4,
   "id": "7a3455f3",
   "metadata": {},
   "outputs": [
    {
     "name": "stdout",
     "output_type": "stream",
     "text": [
      "Enter N = 3\n",
      "School_Name = MIT\n",
      "Student_Name = Akash Sah\n",
      "Admission_Date = 1/28/2019\n",
      "Address = Jnkp\n",
      "Mobile_Number = 9817853704\n",
      "Email_ID = akashsah892@gmail.com\n",
      "School_Name = MIT\n",
      "Student_Name = Riya Sah\n",
      "Admission_Date = 1/28/2020\n",
      "Address = Jnkp\n",
      "Mobile_Number = 9812134811\n",
      "Email_ID = riyasah@gmail.com\n",
      "School_Name = MIT\n",
      "Student_Name = Ritika Sah\n",
      "Admission_Date = 1/28/2021\n",
      "Address = Jnkp\n",
      "Mobile_Number = 9844243863\n",
      "Email_ID = ritikasah@gmail.com\n",
      "(('MIT', 'Akash Sah', '1/28/2019', 'Jnkp', 9817853704, 'akashsah892@gmail.com'), ('MIT', 'Riya Sah', '1/28/2020', 'Jnkp', 9812134811, 'riyasah@gmail.com'), ('MIT', 'Ritika Sah', '1/28/2021', 'Jnkp', 9844243863, 'ritikasah@gmail.com'))\n"
     ]
    }
   ],
   "source": [
    "data = tuple()\n",
    "n = int(input('Enter N = '))\n",
    "for i in range(n):\n",
    "    school_name = input('School_Name = ')\n",
    "    student_name = input('Student_Name = ')\n",
    "    admission_date = input('Admission_Date = ')\n",
    "    address = input('Address = ')\n",
    "    mobile_number = int(input('Mobile_Number = '))\n",
    "    email_id = input('Email_ID = ')\n",
    "    \n",
    "    info = (school_name,student_name,admission_date,address,mobile_number,email_id)\n",
    "    data = data+(info,)\n",
    "    \n",
    "print(data)"
   ]
  },
  {
   "cell_type": "code",
   "execution_count": null,
   "id": "e430c81d",
   "metadata": {},
   "outputs": [],
   "source": []
  }
 ],
 "metadata": {
  "kernelspec": {
   "display_name": "Python 3 (ipykernel)",
   "language": "python",
   "name": "python3"
  },
  "language_info": {
   "codemirror_mode": {
    "name": "ipython",
    "version": 3
   },
   "file_extension": ".py",
   "mimetype": "text/x-python",
   "name": "python",
   "nbconvert_exporter": "python",
   "pygments_lexer": "ipython3",
   "version": "3.9.7"
  }
 },
 "nbformat": 4,
 "nbformat_minor": 5
}
