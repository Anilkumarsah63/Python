{
 "cells": [
  {
   "cell_type": "code",
   "execution_count": 3,
   "id": "45800577",
   "metadata": {},
   "outputs": [
    {
     "name": "stdout",
     "output_type": "stream",
     "text": [
      "Hello Anil Kumar Sah\n"
     ]
    }
   ],
   "source": [
    "print(\"Hello Anil Kumar Sah\")"
   ]
  },
  {
   "cell_type": "code",
   "execution_count": 8,
   "id": "481838e6",
   "metadata": {},
   "outputs": [
    {
     "name": "stdout",
     "output_type": "stream",
     "text": [
      "10\n",
      "20.5\n",
      "Hello World\n",
      "True\n",
      "(1+2j)\n",
      "<class 'int'>\n",
      "<class 'float'>\n",
      "<class 'str'>\n",
      "<class 'bool'>\n",
      "<class 'complex'>\n"
     ]
    }
   ],
   "source": [
    "a = 10\n",
    "b = 20.5 #float\n",
    "c = \"Hello World\" # string\n",
    "d = True # boolean\n",
    "e = 1 + 2j#complex\n",
    "print(a)\n",
    "print(b)\n",
    "print(c)\n",
    "print(d)\n",
    "print(e)\n",
    "\n",
    "print(type(a))\n",
    "print(type(b))\n",
    "print(type(c))\n",
    "print(type(d))\n",
    "print(type(e))\n"
   ]
  },
  {
   "cell_type": "markdown",
   "id": "c02dc556",
   "metadata": {},
   "source": [
    "operators\n",
    "\n",
    " + - * / % ** //\n",
    "\n"
   ]
  },
  {
   "cell_type": "code",
   "execution_count": 16,
   "id": "11d6c13a",
   "metadata": {},
   "outputs": [
    {
     "name": "stdout",
     "output_type": "stream",
     "text": [
      "30\n",
      "10\n",
      "1000\n",
      "3\n"
     ]
    }
   ],
   "source": [
    "a = 10\n",
    "b = 20\n",
    "c = a+b\n",
    "print(c)\n",
    "\n",
    "a = 30\n",
    "b = 20\n",
    "c = a-b\n",
    "print(c)\n",
    "\n",
    "a = 10\n",
    "b = 3\n",
    "c = a**b\n",
    "print(c)\n",
    "\n",
    "a = 10\n",
    "b = 3\n",
    "c = a//b\n",
    "print(c)"
   ]
  },
  {
   "cell_type": "code",
   "execution_count": 34,
   "id": "d6a92eb0",
   "metadata": {},
   "outputs": [
    {
     "name": "stdout",
     "output_type": "stream",
     "text": [
      "HelloAnil\n",
      "Hello Anil\n",
      "('Hello', 'Anil')\n",
      "Hello Anil Hello Anil Hello Anil \n",
      "Hello Anil\n",
      " Hello Anil\n",
      " Hello Anil\n",
      " \n",
      "3020\n"
     ]
    }
   ],
   "source": [
    "a = \"Hello\"\n",
    "b = \"Anil\"\n",
    "c = a+b\n",
    "print(c)\n",
    "print(a,b)\n",
    "\n",
    "a = \"Hello\"\n",
    "b = \"Anil\"\n",
    "c = (a,b)\n",
    "print(c)\n",
    "\n",
    "a = \"Hello Anil \"\n",
    "print(a*3)\n",
    "\n",
    "a = \"Hello Anil\\n \"\n",
    "print(a*3)\n",
    "\n",
    "a = \"30\"\n",
    "b = \"20\"\n",
    "c = a+b\n",
    "print(c)"
   ]
  },
  {
   "cell_type": "code",
   "execution_count": 36,
   "id": "08cbf07e",
   "metadata": {},
   "outputs": [
    {
     "name": "stdout",
     "output_type": "stream",
     "text": [
      "60.5\n",
      "<class 'float'>\n"
     ]
    }
   ],
   "source": [
    "a = 20\n",
    "b = 40.5\n",
    "c = a+b\n",
    "print(c)\n",
    "print(type(c))"
   ]
  },
  {
   "cell_type": "code",
   "execution_count": 1,
   "id": "8fec555e",
   "metadata": {},
   "outputs": [
    {
     "name": "stdout",
     "output_type": "stream",
     "text": [
      "When you are coming\n",
      "From janakpur to ktm Anil always welcome\n",
      "<class 'str'>\n"
     ]
    }
   ],
   "source": [
    "a = \"When you are coming\\n\"\n",
    "b = \"From janakpur to ktm Anil always welcome\"\n",
    "c = a+b\n",
    "print(c)\n",
    "print(type(c))"
   ]
  },
  {
   "cell_type": "code",
   "execution_count": 42,
   "id": "bf8ea82f",
   "metadata": {},
   "outputs": [
    {
     "name": "stdout",
     "output_type": "stream",
     "text": [
      "0\n",
      "<class 'int'>\n"
     ]
    }
   ],
   "source": [
    "a = True\n",
    "b = False\n",
    "c = a*b\n",
    "print(c)\n",
    "print(type(c))"
   ]
  },
  {
   "cell_type": "code",
   "execution_count": 44,
   "id": "f97984e9",
   "metadata": {},
   "outputs": [
    {
     "name": "stdout",
     "output_type": "stream",
     "text": [
      "250.125\n"
     ]
    }
   ],
   "source": [
    "p = 1000.5\n",
    "t = 2.5\n",
    "r = 10.\n",
    "i = p*t*r/100\n",
    "print(i)"
   ]
  },
  {
   "cell_type": "code",
   "execution_count": 48,
   "id": "468ea58a",
   "metadata": {},
   "outputs": [
    {
     "name": "stdout",
     "output_type": "stream",
     "text": [
      "python\n",
      "php\n",
      "python php\n",
      "python\n",
      "java\n",
      "('python', 'java')\n"
     ]
    }
   ],
   "source": [
    "a = input()\n",
    "b = input()\n",
    "print(a,b)\n",
    "\n",
    "a = input()\n",
    "b = input()\n",
    "c = (a,b)\n",
    "print(c)"
   ]
  },
  {
   "cell_type": "code",
   "execution_count": 3,
   "id": "dfdb42da",
   "metadata": {},
   "outputs": [
    {
     "name": "stdout",
     "output_type": "stream",
     "text": [
      "Enter A = Anil Kumar\n",
      "Enter B = Sah\n",
      "Anil KumarSah\n",
      "Enter A = 100\n",
      "Enter B = 200\n",
      "300\n"
     ]
    }
   ],
   "source": [
    "a = input(\"Enter A = \")\n",
    "b = input(\"Enter B = \")\n",
    "c = a+b\n",
    "print(c)\n",
    "\n",
    "\n",
    "a = int(input(\"Enter A = \"))\n",
    "b = int(input(\"Enter B = \"))\n",
    "c = a+b\n",
    "print(c)"
   ]
  },
  {
   "cell_type": "code",
   "execution_count": 53,
   "id": "b8de147e",
   "metadata": {},
   "outputs": [
    {
     "name": "stdout",
     "output_type": "stream",
     "text": [
      "Enter p = 200\n",
      "Enter t = 2.5\n",
      "Enter r = 10.5\n",
      "The value of i = 52.5\n"
     ]
    }
   ],
   "source": [
    "p = int(input(\"Enter p = \"))\n",
    "t = float(input(\"Enter t = \"))\n",
    "r = float(input(\"Enter r = \"))\n",
    "i = p*t*r/100\n",
    "print(\"The value of i =\", i)"
   ]
  },
  {
   "cell_type": "code",
   "execution_count": 54,
   "id": "b7561990",
   "metadata": {},
   "outputs": [
    {
     "name": "stdout",
     "output_type": "stream",
     "text": [
      "Enter of r = 20.5\n",
      "The area of a =  1319.585\n"
     ]
    }
   ],
   "source": [
    "# wap to find area of circle\n",
    "\n",
    "r = float(input(\"Enter of r = \"))\n",
    "a = 3.14* (r**2)\n",
    "\n",
    "print(\"The area of a = \",a)"
   ]
  },
  {
   "cell_type": "code",
   "execution_count": 56,
   "id": "5714e24f",
   "metadata": {},
   "outputs": [
    {
     "name": "stdout",
     "output_type": "stream",
     "text": [
      "Enter your age = 26\n",
      "Age of Anil =  26\n"
     ]
    }
   ],
   "source": [
    "a = int(input(\"Enter your age = \"))\n",
    "\n",
    "print(\"Age of Anil = \", a)"
   ]
  },
  {
   "cell_type": "code",
   "execution_count": 57,
   "id": "707d2f52",
   "metadata": {},
   "outputs": [
    {
     "name": "stdout",
     "output_type": "stream",
     "text": [
      "Enter rate of chocolate of = 200\n",
      "200.0\n"
     ]
    }
   ],
   "source": [
    "a = float(input(\"Enter rate of chocolate of = \"))\n",
    "\n",
    "print(a)"
   ]
  },
  {
   "cell_type": "code",
   "execution_count": 63,
   "id": "920ecd9b",
   "metadata": {},
   "outputs": [
    {
     "name": "stdout",
     "output_type": "stream",
     "text": [
      "Enter your Name = Anil Kumar Sah\n",
      "Enter your age = 26\n",
      "Enter your address = Kataiya\n",
      "Hello I am Anil Kumar Sah I am from Kataiya I am 26\n"
     ]
    }
   ],
   "source": [
    "name = input(\"Enter your Name = \")\n",
    "age = int(input(\"Enter your age = \"))\n",
    "add = input(\"Enter your address = \")\n",
    "\n",
    "info = \"Hello I am \"+name+ \" I am from \" +add+ \" I am \"+str(age)\n",
    "print(info)"
   ]
  },
  {
   "cell_type": "code",
   "execution_count": null,
   "id": "df6b7097",
   "metadata": {},
   "outputs": [],
   "source": []
  }
 ],
 "metadata": {
  "kernelspec": {
   "display_name": "Python 3 (ipykernel)",
   "language": "python",
   "name": "python3"
  },
  "language_info": {
   "codemirror_mode": {
    "name": "ipython",
    "version": 3
   },
   "file_extension": ".py",
   "mimetype": "text/x-python",
   "name": "python",
   "nbconvert_exporter": "python",
   "pygments_lexer": "ipython3",
   "version": "3.9.7"
  }
 },
 "nbformat": 4,
 "nbformat_minor": 5
}
