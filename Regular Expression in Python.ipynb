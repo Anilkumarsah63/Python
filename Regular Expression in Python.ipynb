{
 "cells": [
  {
   "cell_type": "markdown",
   "id": "48219a13",
   "metadata": {},
   "source": [
    "# Match Function"
   ]
  },
  {
   "cell_type": "code",
   "execution_count": 1,
   "id": "7bd762fd",
   "metadata": {},
   "outputs": [
    {
     "name": "stdout",
     "output_type": "stream",
     "text": [
      "<re.Match object; span=(0, 4), match='abcd'>\n"
     ]
    }
   ],
   "source": [
    "# import re module first\n",
    "import re\n",
    "\n",
    "pattern = r'^abcd' # ^ begning sign\n",
    "mystring = 'abcdefg'\n",
    "x = re.match(pattern, mystring)\n",
    "print(x)\n"
   ]
  },
  {
   "cell_type": "markdown",
   "id": "0e8551cb",
   "metadata": {},
   "source": [
    "# Search Function"
   ]
  },
  {
   "cell_type": "code",
   "execution_count": 2,
   "id": "a0cd6c1b",
   "metadata": {},
   "outputs": [
    {
     "name": "stdout",
     "output_type": "stream",
     "text": [
      "The first whitespace :  <re.Match object; span=(2, 3), match=' '>\n"
     ]
    }
   ],
   "source": [
    "import re\n",
    "txt = 'We are learning Python'\n",
    "x = re.search('\\s',txt) # this expression is written for searching whitespace\n",
    "print('The first whitespace : ', x)"
   ]
  },
  {
   "cell_type": "code",
   "execution_count": 7,
   "id": "70a2a019",
   "metadata": {},
   "outputs": [
    {
     "name": "stdout",
     "output_type": "stream",
     "text": [
      "The first whitespace :  2\n"
     ]
    }
   ],
   "source": [
    "import re\n",
    "txt = 'We are learning Python'\n",
    "x = re.search('\\s',txt) # this expression is written for searching whitespace\n",
    "print('The first whitespace : ', x.start())"
   ]
  },
  {
   "cell_type": "code",
   "execution_count": 3,
   "id": "27610f84",
   "metadata": {},
   "outputs": [
    {
     "name": "stdout",
     "output_type": "stream",
     "text": [
      "None\n"
     ]
    }
   ],
   "source": [
    "import re\n",
    "txt = 'The rain in janakpur'\n",
    "x = re.search('Kathmandu',txt)\n",
    "print(x)"
   ]
  },
  {
   "cell_type": "code",
   "execution_count": 10,
   "id": "bb8f8cf4",
   "metadata": {},
   "outputs": [
    {
     "name": "stdout",
     "output_type": "stream",
     "text": [
      "<re.Match object; span=(12, 20), match='janakpur'>\n"
     ]
    }
   ],
   "source": [
    "import re\n",
    "txt = 'The rain in janakpur'\n",
    "x = re.search('janakpur',txt)\n",
    "print(x)"
   ]
  },
  {
   "cell_type": "markdown",
   "id": "85f3ba6d",
   "metadata": {},
   "source": [
    "# Replace Function"
   ]
  },
  {
   "cell_type": "code",
   "execution_count": 4,
   "id": "09c3be7d",
   "metadata": {},
   "outputs": [
    {
     "name": "stdout",
     "output_type": "stream",
     "text": [
      "Before Replace :  Learnvern provide free online training\n",
      "After Replace :  Learnvern provide free online training\n"
     ]
    }
   ],
   "source": [
    "import re\n",
    "str1 = 'Learnvern provide free online training'\n",
    "print('Before Replace : ', str1)\n",
    "\n",
    "# After Replace the provide with python\n",
    "result = re.sub(r'Provide', 'python', str1)\n",
    "print('After Replace : ',result)"
   ]
  },
  {
   "cell_type": "code",
   "execution_count": 5,
   "id": "39b5fbe1",
   "metadata": {},
   "outputs": [
    {
     "name": "stdout",
     "output_type": "stream",
     "text": [
      "Before Replace :  Learvern Provide Free Online Training\n",
      "After Replace :  L0000000 P000000 F000 O00000 T0000000\n"
     ]
    }
   ],
   "source": [
    "import re\n",
    "\n",
    "str2 = 'Learvern Provide Free Online Training'\n",
    "print('Before Replace : ',str2)\n",
    "\n",
    "result = re.sub(r'[a-z]', '0', str2)\n",
    "print('After Replace : ', result)\n"
   ]
  },
  {
   "cell_type": "code",
   "execution_count": null,
   "id": "13ac5e17",
   "metadata": {},
   "outputs": [],
   "source": []
  }
 ],
 "metadata": {
  "kernelspec": {
   "display_name": "Python 3 (ipykernel)",
   "language": "python",
   "name": "python3"
  },
  "language_info": {
   "codemirror_mode": {
    "name": "ipython",
    "version": 3
   },
   "file_extension": ".py",
   "mimetype": "text/x-python",
   "name": "python",
   "nbconvert_exporter": "python",
   "pygments_lexer": "ipython3",
   "version": "3.9.7"
  }
 },
 "nbformat": 4,
 "nbformat_minor": 5
}
