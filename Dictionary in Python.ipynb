{
 "cells": [
  {
   "cell_type": "code",
   "execution_count": null,
   "id": "c631bfab",
   "metadata": {},
   "outputs": [],
   "source": [
    "# Dictionary\n",
    "# index\n",
    "# orderd\n",
    "# duplicate value and multiple data\n",
    "# mutable"
   ]
  },
  {
   "cell_type": "code",
   "execution_count": 1,
   "id": "19534898",
   "metadata": {},
   "outputs": [],
   "source": [
    "d = dict()"
   ]
  },
  {
   "cell_type": "code",
   "execution_count": null,
   "id": "432d6ec9",
   "metadata": {},
   "outputs": [],
   "source": [
    "# d = {<key>:<value>,<key>:<value>,.......}"
   ]
  },
  {
   "cell_type": "code",
   "execution_count": 4,
   "id": "8935a2b3",
   "metadata": {},
   "outputs": [
    {
     "data": {
      "text/plain": [
       "'cat'"
      ]
     },
     "execution_count": 4,
     "metadata": {},
     "output_type": "execute_result"
    }
   ],
   "source": [
    "d = {'a':'Apple','b':'ball','c':'cat'}\n",
    "d['c']"
   ]
  },
  {
   "cell_type": "code",
   "execution_count": 3,
   "id": "01c1d7ad",
   "metadata": {},
   "outputs": [
    {
     "name": "stdout",
     "output_type": "stream",
     "text": [
      "{'a': 'Apple', 'b': 'ball', 'c': 'cat'}\n",
      "<class 'dict'>\n"
     ]
    }
   ],
   "source": [
    "d = {'a':'Apple','b':'ball','c':'cat'}\n",
    "print(d)\n",
    "print(type(d))"
   ]
  },
  {
   "cell_type": "code",
   "execution_count": 5,
   "id": "a845089f",
   "metadata": {},
   "outputs": [
    {
     "ename": "TypeError",
     "evalue": "unsupported operand type(s) for +: 'dict' and 'dict'",
     "output_type": "error",
     "traceback": [
      "\u001b[1;31m---------------------------------------------------------------------------\u001b[0m",
      "\u001b[1;31mTypeError\u001b[0m                                 Traceback (most recent call last)",
      "\u001b[1;32m~\\AppData\\Local\\Temp/ipykernel_16724/4063564329.py\u001b[0m in \u001b[0;36m<module>\u001b[1;34m\u001b[0m\n\u001b[0;32m      1\u001b[0m \u001b[0md\u001b[0m \u001b[1;33m=\u001b[0m \u001b[1;33m{\u001b[0m\u001b[1;34m'a'\u001b[0m\u001b[1;33m:\u001b[0m\u001b[1;34m'Apple'\u001b[0m\u001b[1;33m,\u001b[0m\u001b[1;34m'b'\u001b[0m\u001b[1;33m:\u001b[0m\u001b[1;34m'ball'\u001b[0m\u001b[1;33m,\u001b[0m\u001b[1;34m'c'\u001b[0m\u001b[1;33m:\u001b[0m\u001b[1;34m'cat'\u001b[0m\u001b[1;33m}\u001b[0m\u001b[1;33m\u001b[0m\u001b[1;33m\u001b[0m\u001b[0m\n\u001b[0;32m      2\u001b[0m \u001b[0ma\u001b[0m \u001b[1;33m=\u001b[0m \u001b[1;33m{\u001b[0m\u001b[1;34m'd'\u001b[0m\u001b[1;33m:\u001b[0m\u001b[1;34m'dog'\u001b[0m\u001b[1;33m}\u001b[0m\u001b[1;33m\u001b[0m\u001b[1;33m\u001b[0m\u001b[0m\n\u001b[1;32m----> 3\u001b[1;33m \u001b[0mprint\u001b[0m\u001b[1;33m(\u001b[0m\u001b[0ma\u001b[0m\u001b[1;33m+\u001b[0m\u001b[0md\u001b[0m\u001b[1;33m)\u001b[0m\u001b[1;33m\u001b[0m\u001b[1;33m\u001b[0m\u001b[0m\n\u001b[0m",
      "\u001b[1;31mTypeError\u001b[0m: unsupported operand type(s) for +: 'dict' and 'dict'"
     ]
    }
   ],
   "source": [
    "d = {'a':'Apple','b':'ball','c':'cat'}\n",
    "a = {'d':'dog'}\n",
    "print(a+d)"
   ]
  },
  {
   "cell_type": "code",
   "execution_count": 6,
   "id": "6cc2d01f",
   "metadata": {},
   "outputs": [
    {
     "ename": "TypeError",
     "evalue": "unsupported operand type(s) for *: 'dict' and 'int'",
     "output_type": "error",
     "traceback": [
      "\u001b[1;31m---------------------------------------------------------------------------\u001b[0m",
      "\u001b[1;31mTypeError\u001b[0m                                 Traceback (most recent call last)",
      "\u001b[1;32m~\\AppData\\Local\\Temp/ipykernel_16724/2954780224.py\u001b[0m in \u001b[0;36m<module>\u001b[1;34m\u001b[0m\n\u001b[0;32m      1\u001b[0m \u001b[0md\u001b[0m \u001b[1;33m=\u001b[0m \u001b[1;33m{\u001b[0m\u001b[1;34m'a'\u001b[0m\u001b[1;33m:\u001b[0m\u001b[1;34m'Apple'\u001b[0m\u001b[1;33m,\u001b[0m\u001b[1;34m'b'\u001b[0m\u001b[1;33m:\u001b[0m\u001b[1;34m'ball'\u001b[0m\u001b[1;33m,\u001b[0m\u001b[1;34m'c'\u001b[0m\u001b[1;33m:\u001b[0m\u001b[1;34m'cat'\u001b[0m\u001b[1;33m}\u001b[0m\u001b[1;33m\u001b[0m\u001b[1;33m\u001b[0m\u001b[0m\n\u001b[1;32m----> 2\u001b[1;33m \u001b[0md\u001b[0m\u001b[1;33m*\u001b[0m\u001b[1;36m2\u001b[0m\u001b[1;33m\u001b[0m\u001b[1;33m\u001b[0m\u001b[0m\n\u001b[0m",
      "\u001b[1;31mTypeError\u001b[0m: unsupported operand type(s) for *: 'dict' and 'int'"
     ]
    }
   ],
   "source": [
    "d = {'a':'Apple','b':'ball','c':'cat'}\n",
    "d*2"
   ]
  },
  {
   "cell_type": "code",
   "execution_count": 7,
   "id": "e2c26429",
   "metadata": {},
   "outputs": [
    {
     "name": "stdout",
     "output_type": "stream",
     "text": [
      "3\n"
     ]
    }
   ],
   "source": [
    "d = {'a':'Apple','b':'ball','c':'cat'}\n",
    "print(len(d))"
   ]
  },
  {
   "cell_type": "code",
   "execution_count": 10,
   "id": "dcefd54b",
   "metadata": {},
   "outputs": [
    {
     "data": {
      "text/plain": [
       "{'a': 'Apple', 'b': 'ball', 'c': 'cat', 'A': 'Apple'}"
      ]
     },
     "execution_count": 10,
     "metadata": {},
     "output_type": "execute_result"
    }
   ],
   "source": [
    "d = {'a':'Apple','b':'ball','c':'cat','A':'Apple'}\n",
    "d"
   ]
  },
  {
   "cell_type": "code",
   "execution_count": 12,
   "id": "04af0b72",
   "metadata": {},
   "outputs": [
    {
     "data": {
      "text/plain": [
       "{'A': 'Apple', 'b': 'ball', 'c': 'cat'}"
      ]
     },
     "execution_count": 12,
     "metadata": {},
     "output_type": "execute_result"
    }
   ],
   "source": [
    "d = {'A':'Apple','b':'ball','c':'cat','A':'Apple'}\n",
    "d"
   ]
  },
  {
   "cell_type": "code",
   "execution_count": 13,
   "id": "811efba8",
   "metadata": {},
   "outputs": [
    {
     "data": {
      "text/plain": [
       "{'A': 'Ant', 'b': 'ball', 'c': 'cat'}"
      ]
     },
     "execution_count": 13,
     "metadata": {},
     "output_type": "execute_result"
    }
   ],
   "source": [
    "d = {'A':'Apple','b':'ball','c':'cat','A':'Ant'}\n",
    "d"
   ]
  },
  {
   "cell_type": "code",
   "execution_count": 15,
   "id": "1d072c50",
   "metadata": {},
   "outputs": [
    {
     "data": {
      "text/plain": [
       "{'a': 'Apple', 'b': 'Ball'}"
      ]
     },
     "execution_count": 15,
     "metadata": {},
     "output_type": "execute_result"
    }
   ],
   "source": [
    "a = {}\n",
    "a['a'] = 'Apple'\n",
    "a['b'] = 'Ball'\n",
    "a"
   ]
  },
  {
   "cell_type": "code",
   "execution_count": 19,
   "id": "e5411e44",
   "metadata": {},
   "outputs": [
    {
     "name": "stdout",
     "output_type": "stream",
     "text": [
      "Enter N = 2\n",
      "Enter Name = anil\n",
      "Enter Phone = 9876543\n",
      "Enter Name = arjun\n",
      "Enter Phone = 98765432\n",
      "{'anil': '9876543', 'arjun': '98765432'}\n"
     ]
    }
   ],
   "source": [
    "d = {}\n",
    "n = int(input('Enter N = '))\n",
    "for i in range(n):\n",
    "    name = input('Enter Name = ')\n",
    "    phone = input('Enter Phone = ')\n",
    "    d[name] = phone\n",
    "    \n",
    "print(d)    "
   ]
  },
  {
   "cell_type": "code",
   "execution_count": null,
   "id": "2637776f",
   "metadata": {},
   "outputs": [],
   "source": [
    "# {'anil': '9876543', 'arjun': '98765432'}"
   ]
  },
  {
   "cell_type": "code",
   "execution_count": 20,
   "id": "30ce5ac8",
   "metadata": {},
   "outputs": [
    {
     "name": "stdout",
     "output_type": "stream",
     "text": [
      "9876543\n",
      "98765432\n"
     ]
    }
   ],
   "source": [
    "d = {'anil': '9876543', 'arjun': '98765432'}\n",
    "for i in d.values():\n",
    "    print(i)"
   ]
  },
  {
   "cell_type": "code",
   "execution_count": 22,
   "id": "b153b22f",
   "metadata": {},
   "outputs": [
    {
     "name": "stdout",
     "output_type": "stream",
     "text": [
      "('anil', '9876543')\n",
      "('arjun', '98765432')\n"
     ]
    }
   ],
   "source": [
    "d = {'anil': '9876543', 'arjun': '98765432'}\n",
    "for i in d.items():\n",
    "    print(i)"
   ]
  },
  {
   "cell_type": "code",
   "execution_count": 23,
   "id": "107c6da5",
   "metadata": {},
   "outputs": [
    {
     "name": "stdout",
     "output_type": "stream",
     "text": [
      "[('anil', '9876543'), ('arjun', '98765432')]\n"
     ]
    }
   ],
   "source": [
    "l = []\n",
    "d = {'anil': '9876543', 'arjun': '98765432'}\n",
    "for i in d.items():\n",
    "    l.append(i)\n",
    "print(l)\n",
    "    \n",
    "    "
   ]
  },
  {
   "cell_type": "code",
   "execution_count": 24,
   "id": "e37a1ebc",
   "metadata": {},
   "outputs": [
    {
     "data": {
      "text/plain": [
       "{'anil': '9876543', 'arjun': '98765432'}"
      ]
     },
     "execution_count": 24,
     "metadata": {},
     "output_type": "execute_result"
    }
   ],
   "source": [
    "l = [('anil', '9876543'), ('arjun', '98765432')]\n",
    "dict(l)"
   ]
  },
  {
   "cell_type": "code",
   "execution_count": 25,
   "id": "cc4f5613",
   "metadata": {},
   "outputs": [
    {
     "data": {
      "text/plain": [
       "{'anil': 970000000, 'arjun': '98765432'}"
      ]
     },
     "execution_count": 25,
     "metadata": {},
     "output_type": "execute_result"
    }
   ],
   "source": [
    "d = {'anil': '9876543', 'arjun': '98765432'}\n",
    "d['anil'] = 970000000\n",
    "d"
   ]
  },
  {
   "cell_type": "code",
   "execution_count": 26,
   "id": "232618c4",
   "metadata": {},
   "outputs": [
    {
     "data": {
      "text/plain": [
       "{'anil': '9876543'}"
      ]
     },
     "execution_count": 26,
     "metadata": {},
     "output_type": "execute_result"
    }
   ],
   "source": [
    "# del \n",
    "d = {'anil': '9876543', 'arjun': '98765432'}\n",
    "del d['arjun']\n",
    "d"
   ]
  },
  {
   "cell_type": "code",
   "execution_count": 27,
   "id": "0218407e",
   "metadata": {},
   "outputs": [
    {
     "data": {
      "text/plain": [
       "{'anil': '9876543'}"
      ]
     },
     "execution_count": 27,
     "metadata": {},
     "output_type": "execute_result"
    }
   ],
   "source": [
    "# pop\n",
    "d = {'anil': '9876543', 'arjun': '98765432'}\n",
    "d.pop('arjun')\n",
    "d"
   ]
  },
  {
   "cell_type": "code",
   "execution_count": 28,
   "id": "0b3bff19",
   "metadata": {},
   "outputs": [
    {
     "data": {
      "text/plain": [
       "{100: 'Anil'}"
      ]
     },
     "execution_count": 28,
     "metadata": {},
     "output_type": "execute_result"
    }
   ],
   "source": [
    "a = {100:'Anil'}\n",
    "a"
   ]
  },
  {
   "cell_type": "code",
   "execution_count": 30,
   "id": "cc0a8c0e",
   "metadata": {},
   "outputs": [
    {
     "data": {
      "text/plain": [
       "'9876543'"
      ]
     },
     "execution_count": 30,
     "metadata": {},
     "output_type": "execute_result"
    }
   ],
   "source": [
    "#tuple as key\n",
    "d = {('anil','nabin'): '9876543', 'arjun': '98765432'}\n",
    "d[('anil','nabin')]"
   ]
  },
  {
   "cell_type": "code",
   "execution_count": 33,
   "id": "375e02da",
   "metadata": {},
   "outputs": [
    {
     "data": {
      "text/plain": [
       "['9876543', '987654323456']"
      ]
     },
     "execution_count": 33,
     "metadata": {},
     "output_type": "execute_result"
    }
   ],
   "source": [
    "# list inside dictionary\n",
    "d = {'anil': ['9876543','987654323456'], 'arjun': ['98765432','23456789']}\n",
    "\n",
    "d['anil']"
   ]
  },
  {
   "cell_type": "code",
   "execution_count": 34,
   "id": "68f949ed",
   "metadata": {},
   "outputs": [
    {
     "name": "stdout",
     "output_type": "stream",
     "text": [
      "Enter N = 2\n",
      "Enter Name = anil\n",
      "Enter Ntc_Phone = 989876543\n",
      "Enter Ncell_Phone = 987654321\n",
      "Enter Name = arjun\n",
      "Enter Ntc_Phone = 98765432\n",
      "Enter Ncell_Phone = 987654321\n",
      "{'anil': ['989876543', '987654321'], 'arjun': ['98765432', '987654321']}\n"
     ]
    }
   ],
   "source": [
    "d = {}\n",
    "n = int(input('Enter N = '))\n",
    "for i in range(n):\n",
    "    name = input('Enter Name = ')\n",
    "    ntc_phone = input('Enter Ntc_Phone = ')\n",
    "    ncell_phone = input('Enter Ncell_Phone = ')\n",
    "    d[name] = [ntc_phone,ncell_phone]\n",
    "    \n",
    "print(d)    "
   ]
  },
  {
   "cell_type": "code",
   "execution_count": 35,
   "id": "0ec25405",
   "metadata": {},
   "outputs": [
    {
     "data": {
      "text/plain": [
       "{'anil': ['9876543', '987654323456'],\n",
       " 'arjun': ['98765432', '23456789'],\n",
       " 'Akash': [98547468, 987534257384]}"
      ]
     },
     "execution_count": 35,
     "metadata": {},
     "output_type": "execute_result"
    }
   ],
   "source": [
    "d = {'anil': ['9876543','987654323456'], 'arjun': ['98765432','23456789']}\n",
    "\n",
    "d['Akash'] = [98547468,987534257384]\n",
    "d\n"
   ]
  },
  {
   "cell_type": "code",
   "execution_count": 40,
   "id": "084a29dd",
   "metadata": {},
   "outputs": [
    {
     "ename": "KeyError",
     "evalue": "'ram sah'",
     "output_type": "error",
     "traceback": [
      "\u001b[1;31m---------------------------------------------------------------------------\u001b[0m",
      "\u001b[1;31mKeyError\u001b[0m                                  Traceback (most recent call last)",
      "\u001b[1;32m~\\AppData\\Local\\Temp/ipykernel_16724/3944029829.py\u001b[0m in \u001b[0;36m<module>\u001b[1;34m\u001b[0m\n\u001b[0;32m      1\u001b[0m \u001b[0md\u001b[0m \u001b[1;33m=\u001b[0m \u001b[1;33m{\u001b[0m\u001b[1;34m'anil'\u001b[0m\u001b[1;33m:\u001b[0m \u001b[1;33m[\u001b[0m\u001b[1;34m'9876543'\u001b[0m\u001b[1;33m,\u001b[0m \u001b[1;34m'987654323456'\u001b[0m\u001b[1;33m]\u001b[0m\u001b[1;33m,\u001b[0m\u001b[1;34m'arjun'\u001b[0m\u001b[1;33m:\u001b[0m \u001b[1;33m[\u001b[0m\u001b[1;34m'98765432'\u001b[0m\u001b[1;33m,\u001b[0m \u001b[1;34m'23456789'\u001b[0m\u001b[1;33m]\u001b[0m\u001b[1;33m}\u001b[0m\u001b[1;33m\u001b[0m\u001b[1;33m\u001b[0m\u001b[0m\n\u001b[1;32m----> 2\u001b[1;33m \u001b[0md\u001b[0m\u001b[1;33m[\u001b[0m\u001b[1;34m'ram sah'\u001b[0m\u001b[1;33m]\u001b[0m\u001b[1;33m[\u001b[0m\u001b[1;36m0\u001b[0m\u001b[1;33m]\u001b[0m \u001b[1;33m=\u001b[0m \u001b[1;36m9817853704\u001b[0m\u001b[1;33m\u001b[0m\u001b[1;33m\u001b[0m\u001b[0m\n\u001b[0m\u001b[0;32m      3\u001b[0m \u001b[0md\u001b[0m\u001b[1;33m\u001b[0m\u001b[1;33m\u001b[0m\u001b[0m\n",
      "\u001b[1;31mKeyError\u001b[0m: 'ram sah'"
     ]
    }
   ],
   "source": [
    "d = {'anil': ['9876543', '987654323456'],'arjun': ['98765432', '23456789']}\n",
    "d['ram sah'][0] = 9817853704\n",
    "d"
   ]
  },
  {
   "cell_type": "code",
   "execution_count": 41,
   "id": "806d83f0",
   "metadata": {},
   "outputs": [
    {
     "name": "stdout",
     "output_type": "stream",
     "text": [
      "enter n = 2\n",
      "name = anil\n",
      "age25\n",
      "add = jnkp\n",
      "name = arjun\n",
      "age22\n",
      "add = ktm\n"
     ]
    },
    {
     "data": {
      "text/plain": [
       "{'Name': ['anil', 'arjun'], 'Age': ['25', '22'], 'Address': ['jnkp', 'ktm']}"
      ]
     },
     "execution_count": 41,
     "metadata": {},
     "output_type": "execute_result"
    }
   ],
   "source": [
    "d = {}\n",
    "na = []\n",
    "ag = []\n",
    "ad = []\n",
    "n = int(input('enter n = '))\n",
    "for i in range(n):\n",
    "    name = input('name = ')\n",
    "    age = input('age')\n",
    "    add = input('add = ')\n",
    "    na.append(name)\n",
    "    ag.append(age)\n",
    "    ad.append(add)\n",
    "    \n",
    "d = {'Name':na, 'Age':ag,'Address':ad}\n",
    "\n",
    "d\n",
    "    "
   ]
  },
  {
   "cell_type": "code",
   "execution_count": 2,
   "id": "e02fc142",
   "metadata": {},
   "outputs": [
    {
     "data": {
      "text/plain": [
       "{'Name': ['anil', 'arjun', 'Rita'],\n",
       " 'Age': ['25', '22', 30],\n",
       " 'Address': ['jnkp', 'ktm', 'jankpur']}"
      ]
     },
     "execution_count": 2,
     "metadata": {},
     "output_type": "execute_result"
    }
   ],
   "source": [
    "d = {'Name': ['anil', 'arjun'], 'Age': ['25', '22'], 'Address': ['jnkp', 'ktm']}\n",
    "d['Name'].append('Rita')\n",
    "d['Age'].append(30)\n",
    "d['Address'].append('jankpur')\n",
    "d\n"
   ]
  },
  {
   "cell_type": "code",
   "execution_count": 4,
   "id": "61405668",
   "metadata": {},
   "outputs": [
    {
     "data": {
      "text/plain": [
       "[{'Name': 'Ram', 'Age': 35, 'Address': 'Ktms'},\n",
       " {'Name': 'Shyam', 'Age': 35, 'Address': 'Ktma'},\n",
       " {'Name': 'hari', 'Age': 35, 'Address': 'Ktma'}]"
      ]
     },
     "execution_count": 4,
     "metadata": {},
     "output_type": "execute_result"
    }
   ],
   "source": [
    "a = [{'Name': 'Ram', 'Age':35, 'Address':'Ktms'},\n",
    "     {'Name': 'Shyam', 'Age':35, 'Address':'Ktma'},\n",
    "     {'Name': 'hari', 'Age':35, 'Address':'Ktma'}]\n",
    "a"
   ]
  },
  {
   "cell_type": "code",
   "execution_count": 6,
   "id": "bd8a4f87",
   "metadata": {},
   "outputs": [
    {
     "data": {
      "text/plain": [
       "{'Name': 'Shyam', 'Age': 35, 'Address': 'Ktma'}"
      ]
     },
     "execution_count": 6,
     "metadata": {},
     "output_type": "execute_result"
    }
   ],
   "source": [
    "#dict inside list\n",
    "[{'Name': 'Ram', 'Age': 35, 'Address': 'Ktms'},\n",
    " {'Name': 'Shyam', 'Age': 35, 'Address': 'Ktma'},\n",
    " {'Name': 'hari', 'Age': 35, 'Address': 'Ktma'}]\n",
    "a[1]"
   ]
  },
  {
   "cell_type": "code",
   "execution_count": 7,
   "id": "338a1e4b",
   "metadata": {},
   "outputs": [
    {
     "name": "stdout",
     "output_type": "stream",
     "text": [
      "{'Name': 'Ram', 'Age': 35, 'Address': 'Ktms'}\n",
      "{'Name': 'Shyam', 'Age': 35, 'Address': 'Ktma'}\n",
      "{'Name': 'hari', 'Age': 35, 'Address': 'Ktma'}\n"
     ]
    }
   ],
   "source": [
    "for i in range(len(a)):\n",
    "    print(a[i])"
   ]
  },
  {
   "cell_type": "code",
   "execution_count": 9,
   "id": "7ea3176b",
   "metadata": {},
   "outputs": [
    {
     "data": {
      "text/plain": [
       "[{'Name': 'Ram', 'Age': 35, 'Address': 'Ktms'},\n",
       " {'Name': 'Shyam', 'Age': 35, 'Address': 'Ktma'},\n",
       " {'Name': 'hari', 'Age': 35, 'Address': 'Ktma'},\n",
       " {'Name': 'Aaakash', 'Age': 12, 'Address': 'Ktmndu'}]"
      ]
     },
     "execution_count": 9,
     "metadata": {},
     "output_type": "execute_result"
    }
   ],
   "source": [
    "a.append({'Name': 'Aaakash', 'Age': 12, 'Address': 'Ktmndu'})\n",
    "a"
   ]
  },
  {
   "cell_type": "code",
   "execution_count": 4,
   "id": "9a443788",
   "metadata": {},
   "outputs": [
    {
     "name": "stdout",
     "output_type": "stream",
     "text": [
      "enter n = 2\n",
      "name = anil\n",
      "age20\n",
      "add = ktmr\n",
      "name = ram\n",
      "age34\n",
      "add = sant\n",
      "[{'Name': 'anil', 'Age': '20', 'Address': 'ktmr'}, {'Name': 'ram', 'Age': '34', 'Address': 'sant'}]\n"
     ]
    }
   ],
   "source": [
    "data = []\n",
    "n = int(input('enter n = '))\n",
    "for i in range(n):\n",
    "    name = input('name = ')\n",
    "    age = input('age')\n",
    "    add = input('add = ')\n",
    "    info = {'Name':name, 'Age':age,'Address':add}\n",
    "    data.append(info)\n",
    "    \n",
    "print(data)   \n",
    "    "
   ]
  },
  {
   "cell_type": "code",
   "execution_count": 5,
   "id": "14dcf24e",
   "metadata": {},
   "outputs": [
    {
     "data": {
      "text/plain": [
       "[{'Name': 'hari', 'Age': '35', 'Address': ['Ktma', 'dolkha']},\n",
       " {'Name': 'Aaakash', 'Age': '12', 'Address': ['Ktmndu', 'jnkpp']}]"
      ]
     },
     "execution_count": 5,
     "metadata": {},
     "output_type": "execute_result"
    }
   ],
   "source": [
    "a = [{'Name': 'hari', 'Age': '35', 'Address': ['Ktma','dolkha']},\n",
    " {'Name': 'Aaakash', 'Age': '12', 'Address': ['Ktmndu','jnkpp']}]\n",
    "\n",
    "a"
   ]
  },
  {
   "cell_type": "code",
   "execution_count": 6,
   "id": "30ba88c0",
   "metadata": {},
   "outputs": [
    {
     "data": {
      "text/plain": [
       "{1: {'Name': 'Shyam', 'Age': 35, 'Address': 'Ktma'},\n",
       " 2: {'Name': 'hari', 'Age': 35, 'Address': 'Ktma'}}"
      ]
     },
     "execution_count": 6,
     "metadata": {},
     "output_type": "execute_result"
    }
   ],
   "source": [
    "a = {1:{'Name': 'Shyam', 'Age': 35, 'Address': 'Ktma'},\n",
    "     2:{'Name': 'hari', 'Age': 35, 'Address': 'Ktma'}}\n",
    "\n",
    "a"
   ]
  },
  {
   "cell_type": "code",
   "execution_count": 7,
   "id": "250fc1b2",
   "metadata": {},
   "outputs": [
    {
     "data": {
      "text/plain": [
       "{1: {'Name': 'Shyam', 'Age': 35, 'Address': 'Ktma'},\n",
       " 2: {'Name': 'hari', 'Age': 35, 'Address': 'Ktma'},\n",
       " 3: {'Name': 'riya', 'Age': 35, 'Address': 'Ktma'}}"
      ]
     },
     "execution_count": 7,
     "metadata": {},
     "output_type": "execute_result"
    }
   ],
   "source": [
    "a[3] = {'Name': 'riya', 'Age': 35, 'Address': 'Ktma'}\n",
    "a"
   ]
  },
  {
   "cell_type": "code",
   "execution_count": 8,
   "id": "d24de1e6",
   "metadata": {},
   "outputs": [
    {
     "data": {
      "text/plain": [
       "{1: {'Name': 'Shyam', 'Age': 35, 'Address': 'Ktma', 'name': 'rama'},\n",
       " 2: {'Name': 'hari', 'Age': 35, 'Address': 'Ktma'},\n",
       " 3: {'Name': 'riya', 'Age': 35, 'Address': 'Ktma'}}"
      ]
     },
     "execution_count": 8,
     "metadata": {},
     "output_type": "execute_result"
    }
   ],
   "source": [
    "a[1]['name'] = 'rama'\n",
    "a"
   ]
  },
  {
   "cell_type": "code",
   "execution_count": 10,
   "id": "3000a88a",
   "metadata": {},
   "outputs": [
    {
     "name": "stdout",
     "output_type": "stream",
     "text": [
      "enter n = 2\n",
      "name = rihan\n",
      "age34\n",
      "add = ahshdjd\n",
      "name = rama\n",
      "age48\n",
      "add = wehh\n",
      "{1: {'Name': 'rihan', 'Age': '34', 'Address': 'ahshdjd'}, 2: {'Name': 'rama', 'Age': '48', 'Address': 'wehh'}}\n"
     ]
    }
   ],
   "source": [
    "data = {}\n",
    "n = int(input('enter n = '))\n",
    "for i in range(1,n+1):\n",
    "    name = input('name = ')\n",
    "    age = input('age')\n",
    "    add = input('add = ')\n",
    "    data[i] = {'Name':name, 'Age':age,'Address':add}\n",
    "    \n",
    "print(data)   \n",
    "    "
   ]
  },
  {
   "cell_type": "code",
   "execution_count": 11,
   "id": "ad986284",
   "metadata": {},
   "outputs": [
    {
     "data": {
      "text/plain": [
       "{2: {'Name': 'rama', 'Age': '48', 'Address': 'wehh'}}"
      ]
     },
     "execution_count": 11,
     "metadata": {},
     "output_type": "execute_result"
    }
   ],
   "source": [
    "del data[1]\n",
    "data"
   ]
  },
  {
   "cell_type": "code",
   "execution_count": 12,
   "id": "b473a2ce",
   "metadata": {},
   "outputs": [
    {
     "data": {
      "text/plain": [
       "{1: {'Age': '34', 'Address': 'ahshdjd'},\n",
       " 2: {'Name': 'rama', 'Age': '48', 'Address': 'wehh'}}"
      ]
     },
     "execution_count": 12,
     "metadata": {},
     "output_type": "execute_result"
    }
   ],
   "source": [
    "a = {1: {'Name': 'rihan', 'Age': '34', 'Address': 'ahshdjd'}, \n",
    " 2: {'Name': 'rama', 'Age': '48', 'Address': 'wehh'}}\n",
    "del a[1]['Name']\n",
    "a"
   ]
  },
  {
   "cell_type": "code",
   "execution_count": 13,
   "id": "8e13a33e",
   "metadata": {},
   "outputs": [
    {
     "data": {
      "text/plain": [
       "{}"
      ]
     },
     "execution_count": 13,
     "metadata": {},
     "output_type": "execute_result"
    }
   ],
   "source": [
    "a.clear()\n",
    "a"
   ]
  },
  {
   "cell_type": "code",
   "execution_count": 14,
   "id": "db58ad22",
   "metadata": {},
   "outputs": [
    {
     "name": "stdout",
     "output_type": "stream",
     "text": [
      "{1: {'Name': 'rihan', 'Age': '34', 'Address': {'per': 'ahshdjd', 'temp': 'patan'}}, 2: {'Name': 'rama', 'Age': '48', 'Address': {'per': 'wehh', 'temp': 'patan'}}}\n"
     ]
    }
   ],
   "source": [
    "a = {1: {'Name': 'rihan', 'Age': '34', 'Address': {'per':'ahshdjd','temp':'patan'}}, \n",
    " 2: {'Name': 'rama', 'Age': '48', 'Address':{'per':'wehh','temp':'patan'}}}\n",
    "print(a)"
   ]
  },
  {
   "cell_type": "code",
   "execution_count": null,
   "id": "1b191dc0",
   "metadata": {},
   "outputs": [],
   "source": [
    "# wap for billing application (prdtct name,price,quantity,total) by using dic and list\n",
    "# wap for result management sys (marks,total,per,grade) by using dict inside dict\n",
    " #create read update del"
   ]
  },
  {
   "cell_type": "code",
   "execution_count": 15,
   "id": "9982fd0f",
   "metadata": {},
   "outputs": [
    {
     "data": {
      "text/plain": [
       "{1: {'Name': 'rihan',\n",
       "  'Age': '34',\n",
       "  'Address': {'per': 'ahshdjd', 'temp': 'patan'}},\n",
       " 2: {'Name': 'rama', 'Age': '48', 'Address': {'per': 'wehh', 'temp': 'patan'}}}"
      ]
     },
     "execution_count": 15,
     "metadata": {},
     "output_type": "execute_result"
    }
   ],
   "source": [
    "a.update()\n",
    "a"
   ]
  },
  {
   "cell_type": "code",
   "execution_count": 1,
   "id": "30aba230",
   "metadata": {},
   "outputs": [
    {
     "name": "stdout",
     "output_type": "stream",
     "text": [
      "Enter N = 2\n",
      "Enter Name = anil\n",
      "Enter Ntc_Phone = 984323456\n",
      "Enter Ncell_Phone = 9864433233\n",
      "Enter Name = arjun\n",
      "Enter Ntc_Phone = 9873534544\n",
      "Enter Ncell_Phone = 98765432\n",
      "{'anil': ['984323456', '9864433233'], 'arjun': ['9873534544', '98765432']}\n"
     ]
    }
   ],
   "source": [
    "d = {}\n",
    "n = int(input('Enter N = '))\n",
    "for i in range(n):\n",
    "    name = input('Enter Name = ')\n",
    "    ntc_phone = input('Enter Ntc_Phone = ')\n",
    "    ncell_phone = input('Enter Ncell_Phone = ')\n",
    "    d[name] = [ntc_phone,ncell_phone]\n",
    "    \n",
    "print(d)    "
   ]
  },
  {
   "cell_type": "code",
   "execution_count": null,
   "id": "209e90ec",
   "metadata": {},
   "outputs": [],
   "source": [
    "# wap for billing application (prdtct name,price,quantity,total) by using dic and list"
   ]
  },
  {
   "cell_type": "code",
   "execution_count": 35,
   "id": "c880ef65",
   "metadata": {},
   "outputs": [
    {
     "name": "stdout",
     "output_type": "stream",
     "text": [
      "Enter N = 2\n",
      "Enter User_Name = Anil\n",
      "Enter Product_Name = Apple\n",
      "Enter Price = 50000\n",
      "Enter Quantity = 400\n",
      "Enter Address = JNKP\n",
      "Enter User_Name = Aayush Sir\n",
      "Enter Product_Name = Tesla\n",
      "Enter Price = 60000\n",
      "Enter Quantity = 500\n",
      "Enter Address = KTM\n",
      "{('Anil', 1): ['Apple', '50000', '400', 'JNKP'], ('Aayush Sir', 2): ['Tesla', '60000', '500', 'KTM']}\n",
      "{'60000', '500'}\n"
     ]
    }
   ],
   "source": [
    "total = {}\n",
    "data = {}\n",
    "n = int(input('Enter N = '))\n",
    "for i in range(1,n+1):\n",
    "    user_name = input('Enter User_Name = ')\n",
    "    productname = input('Enter Product_Name = ')\n",
    "    price = input('Enter Price = ')\n",
    "    quantity = input('Enter Quantity = ')\n",
    "    address = input('Enter Address = ')\n",
    "    total = {price,quantity}\n",
    "    data[user_name,i] = [productname,price,quantity,address]\n",
    "    \n",
    "print(data)\n",
    "print(total)"
   ]
  },
  {
   "cell_type": "code",
   "execution_count": 36,
   "id": "8eee50ab",
   "metadata": {},
   "outputs": [
    {
     "data": {
      "text/plain": [
       "{('Anil', 1): ['Apple', '50000', '400', 'JNKP'],\n",
       " ('Aayush Sir', 2): ['Tesla', '60000', '500', 'KTM']}"
      ]
     },
     "execution_count": 36,
     "metadata": {},
     "output_type": "execute_result"
    }
   ],
   "source": [
    "data.update()\n",
    "data"
   ]
  },
  {
   "cell_type": "code",
   "execution_count": 37,
   "id": "10fb9935",
   "metadata": {},
   "outputs": [
    {
     "data": {
      "text/plain": [
       "{('Aayush Sir', 2): ['Tesla', '60000', '500', 'KTM']}"
      ]
     },
     "execution_count": 37,
     "metadata": {},
     "output_type": "execute_result"
    }
   ],
   "source": [
    "del data['Anil',1]\n",
    "data"
   ]
  },
  {
   "cell_type": "code",
   "execution_count": null,
   "id": "ac5e937b",
   "metadata": {},
   "outputs": [],
   "source": [
    "# wap for result management sys (marks,total,per,grade) by using dict inside dict"
   ]
  },
  {
   "cell_type": "code",
   "execution_count": 41,
   "id": "cb0a4782",
   "metadata": {},
   "outputs": [
    {
     "name": "stdout",
     "output_type": "stream",
     "text": [
      "Enter N = 2\n",
      "Enter Student_Name = Akash Sah\n",
      "Enter Marks = 600\n",
      "Enter Percent = 60%\n",
      "Enter Grade = B\n",
      "Enter Student_Name = Hari Sah\n",
      "Enter Marks = 700\n",
      "Enter Percent = 70%\n",
      "Enter Grade = B+\n",
      "{('Akash Sah', 1): ['600', '60%', 'B'], ('Hari Sah', 2): ['700', '70%', 'B+']}\n",
      "{'70%', '700'}\n"
     ]
    }
   ],
   "source": [
    "total = {}\n",
    "data = {}\n",
    "n = int(input('Enter N = '))\n",
    "for i in range(1,n+1):\n",
    "    student_name = input('Enter Student_Name = ')\n",
    "    marks = input('Enter Marks = ')\n",
    "    percent = input('Enter Percent = ')\n",
    "    grade = input('Enter Grade = ')\n",
    "    total = {marks,percent}\n",
    "    data[student_name,i] = [marks,percent,grade]\n",
    "    \n",
    "print(data)\n",
    "print(total)"
   ]
  },
  {
   "cell_type": "code",
   "execution_count": 42,
   "id": "6d767c18",
   "metadata": {},
   "outputs": [
    {
     "data": {
      "text/plain": [
       "{('Akash Sah', 1): ['600', '60%', 'B'], ('Hari Sah', 2): ['700', '70%', 'B+']}"
      ]
     },
     "execution_count": 42,
     "metadata": {},
     "output_type": "execute_result"
    }
   ],
   "source": [
    "data.update()\n",
    "data"
   ]
  },
  {
   "cell_type": "code",
   "execution_count": 43,
   "id": "bdd4e461",
   "metadata": {},
   "outputs": [
    {
     "data": {
      "text/plain": [
       "{('Hari Sah', 2): ['700', '70%', 'B+']}"
      ]
     },
     "execution_count": 43,
     "metadata": {},
     "output_type": "execute_result"
    }
   ],
   "source": [
    "del data['Akash Sah', 1]\n",
    "data"
   ]
  },
  {
   "cell_type": "code",
   "execution_count": null,
   "id": "e6d6d8e3",
   "metadata": {},
   "outputs": [],
   "source": []
  }
 ],
 "metadata": {
  "kernelspec": {
   "display_name": "Python 3 (ipykernel)",
   "language": "python",
   "name": "python3"
  },
  "language_info": {
   "codemirror_mode": {
    "name": "ipython",
    "version": 3
   },
   "file_extension": ".py",
   "mimetype": "text/x-python",
   "name": "python",
   "nbconvert_exporter": "python",
   "pygments_lexer": "ipython3",
   "version": "3.9.7"
  }
 },
 "nbformat": 4,
 "nbformat_minor": 5
}
