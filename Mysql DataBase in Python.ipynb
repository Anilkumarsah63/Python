{
 "cells": [
  {
   "cell_type": "code",
   "execution_count": 1,
   "id": "0db87e65",
   "metadata": {},
   "outputs": [],
   "source": [
    "import os\n",
    "import mysql.connector\n",
    "import pandas as pd\n",
    "import numpy as np\n",
    "import matplotlib.pyplot as plt\n",
    "import seaborn as sns\n",
    "%matplotlib inline"
   ]
  },
  {
   "cell_type": "code",
   "execution_count": 2,
   "id": "027b5fa1",
   "metadata": {},
   "outputs": [],
   "source": [
    "user_name = os.environ.get('DB_USER')\n",
    "password = os.environ.get('DB_PASS')"
   ]
  },
  {
   "cell_type": "code",
   "execution_count": 3,
   "id": "6c3d1f04",
   "metadata": {},
   "outputs": [],
   "source": [
    "import mysql"
   ]
  },
  {
   "cell_type": "code",
   "execution_count": 5,
   "id": "61420076",
   "metadata": {},
   "outputs": [
    {
     "name": "stdout",
     "output_type": "stream",
     "text": [
      "Table Created\n"
     ]
    }
   ],
   "source": [
    "def CreateConn():\n",
    "    return mysql.connector.connect(host='localhost',database='learnvern'\n",
    "                         ,user='root',password=''\n",
    "                         ,port='3306')\n",
    "\n",
    "def CreateTable():\n",
    "    conn = CreateConn()\n",
    "    cursor = conn.cursor()\n",
    "    query = 'create table student3(sid int primary key auto_increment,name VARCHAR(50),email VARCHAR(50),city VARCHAR(50))'\n",
    "    cursor.execute(query)\n",
    "    conn.commit()\n",
    "    print('Table Created')\n",
    "    conn.close()\n",
    "CreateTable()   \n"
   ]
  },
  {
   "cell_type": "markdown",
   "id": "d215b6ec",
   "metadata": {},
   "source": [
    "#  Insert record in Database"
   ]
  },
  {
   "cell_type": "code",
   "execution_count": 63,
   "id": "b0d5e5b0",
   "metadata": {},
   "outputs": [
    {
     "name": "stdout",
     "output_type": "stream",
     "text": [
      "Enter your Name : Akash\n",
      "Enter your Email : akash@gmail.com\n",
      "Enter your City : Jnk\n",
      "Data Inserted\n"
     ]
    }
   ],
   "source": [
    "def InsertData(name,email,city):\n",
    "    conn = CreateConn()\n",
    "    cursor = conn.cursor()\n",
    "    args = (name,email,city)\n",
    "    query = 'insert into student3(name,email,city) values(%s,%s,%s)'\n",
    "    cursor.execute(query,args)\n",
    "    conn.commit()\n",
    "    print('Data Inserted')\n",
    "    conn.close()\n",
    "    \n",
    "n = input('Enter your Name : ')\n",
    "e = input('Enter your Email : ')\n",
    "c = input('Enter your City : ')\n",
    "\n",
    "InsertData(n,e,c)\n",
    "    "
   ]
  },
  {
   "cell_type": "markdown",
   "id": "a267823c",
   "metadata": {},
   "source": [
    "# Fetch All Data from Database"
   ]
  },
  {
   "cell_type": "code",
   "execution_count": 82,
   "id": "d6a54dc9",
   "metadata": {},
   "outputs": [],
   "source": [
    "import os\n",
    "import mysql.connector\n",
    "import pandas as pd\n",
    "import numpy as np\n",
    "import matplotlib.pyplot as plt\n",
    "import seaborn as sns\n",
    "%matplotlib inline"
   ]
  },
  {
   "cell_type": "code",
   "execution_count": 83,
   "id": "1f1bb3c6",
   "metadata": {},
   "outputs": [],
   "source": [
    "import mysql"
   ]
  },
  {
   "cell_type": "code",
   "execution_count": 84,
   "id": "5344cb23",
   "metadata": {},
   "outputs": [],
   "source": [
    "def CreateConn():\n",
    "    return mysql.connector.connect(host='localhost',database='learnvern'\n",
    "                         ,user='root',password=''\n",
    "                         ,port='3306')"
   ]
  },
  {
   "cell_type": "code",
   "execution_count": 85,
   "id": "5597efd0",
   "metadata": {},
   "outputs": [
    {
     "name": "stdout",
     "output_type": "stream",
     "text": [
      "(1, 'Anil', 'anilkumarsah927@gmail.com', 'Ktm')\n",
      "(2, 'Akash', 'akash@gmail.com', 'Jnk')\n"
     ]
    }
   ],
   "source": [
    "def ShowAllData():\n",
    "    conn = CreateConn()\n",
    "    cursor = conn.cursor()\n",
    "    query = 'select * from student3'\n",
    "    cursor.execute(query)\n",
    "    result = cursor.fetchall()\n",
    "    for i in result:\n",
    "        print(i)\n",
    "        \n",
    "ShowAllData()        "
   ]
  },
  {
   "cell_type": "markdown",
   "id": "dc0a1be7",
   "metadata": {},
   "source": [
    "# fetch data by id from database"
   ]
  },
  {
   "cell_type": "code",
   "execution_count": 86,
   "id": "1d202a71",
   "metadata": {},
   "outputs": [],
   "source": [
    "import os\n",
    "import mysql.connector\n",
    "import pandas as pd\n",
    "import numpy as np\n",
    "import matplotlib.pyplot as plt\n",
    "import seaborn as sns\n",
    "%matplotlib inline"
   ]
  },
  {
   "cell_type": "code",
   "execution_count": 87,
   "id": "e2ba4770",
   "metadata": {},
   "outputs": [],
   "source": [
    "def CreateConn():\n",
    "    return mysql.connector.connect(host='localhost',database='learnvern'\n",
    "                         ,user='root',password=''\n",
    "                         ,port='3306')"
   ]
  },
  {
   "cell_type": "code",
   "execution_count": 88,
   "id": "a7aadbcd",
   "metadata": {},
   "outputs": [],
   "source": [
    "import mysql"
   ]
  },
  {
   "cell_type": "code",
   "execution_count": 94,
   "id": "8c08db3b",
   "metadata": {},
   "outputs": [
    {
     "name": "stdout",
     "output_type": "stream",
     "text": [
      "(1, 'Anil', 'anilkumarsah927@gmail.com', 'Ktm')\n",
      "(2, 'Akash', 'akash@gmail.com', 'Jnk')\n",
      "Enter your Id : 1\n"
     ]
    },
    {
     "ename": "ProgrammingError",
     "evalue": "1064 (42000): You have an error in your SQL syntax; check the manual that corresponds to your MariaDB server version for the right syntax to use near '%s' at line 1",
     "output_type": "error",
     "traceback": [
      "\u001b[1;31m---------------------------------------------------------------------------\u001b[0m",
      "\u001b[1;31mProgrammingError\u001b[0m                          Traceback (most recent call last)",
      "\u001b[1;32m~\\AppData\\Local\\Temp/ipykernel_17968/2028834339.py\u001b[0m in \u001b[0;36m<module>\u001b[1;34m\u001b[0m\n\u001b[0;32m     18\u001b[0m \u001b[0msid\u001b[0m \u001b[1;33m=\u001b[0m \u001b[0mint\u001b[0m\u001b[1;33m(\u001b[0m\u001b[0minput\u001b[0m\u001b[1;33m(\u001b[0m\u001b[1;34m'Enter your Id : '\u001b[0m\u001b[1;33m)\u001b[0m\u001b[1;33m)\u001b[0m\u001b[1;33m\u001b[0m\u001b[1;33m\u001b[0m\u001b[0m\n\u001b[0;32m     19\u001b[0m \u001b[1;33m\u001b[0m\u001b[0m\n\u001b[1;32m---> 20\u001b[1;33m \u001b[0mShowAllDataById\u001b[0m\u001b[1;33m(\u001b[0m\u001b[0msid\u001b[0m\u001b[1;33m)\u001b[0m\u001b[1;33m\u001b[0m\u001b[1;33m\u001b[0m\u001b[0m\n\u001b[0m",
      "\u001b[1;32m~\\AppData\\Local\\Temp/ipykernel_17968/2028834339.py\u001b[0m in \u001b[0;36mShowAllDataById\u001b[1;34m(sid)\u001b[0m\n\u001b[0;32m      9\u001b[0m     \u001b[0margs\u001b[0m \u001b[1;33m=\u001b[0m \u001b[1;33m(\u001b[0m\u001b[0msid\u001b[0m\u001b[1;33m)\u001b[0m\u001b[1;33m\u001b[0m\u001b[1;33m\u001b[0m\u001b[0m\n\u001b[0;32m     10\u001b[0m     \u001b[0mquery\u001b[0m \u001b[1;33m=\u001b[0m \u001b[1;34m'select * from student3 where sid= %s'\u001b[0m\u001b[1;33m\u001b[0m\u001b[1;33m\u001b[0m\u001b[0m\n\u001b[1;32m---> 11\u001b[1;33m     \u001b[0mcursor\u001b[0m\u001b[1;33m.\u001b[0m\u001b[0mexecute\u001b[0m\u001b[1;33m(\u001b[0m\u001b[0mquery\u001b[0m\u001b[1;33m,\u001b[0m\u001b[0margs\u001b[0m\u001b[1;33m)\u001b[0m\u001b[1;33m\u001b[0m\u001b[1;33m\u001b[0m\u001b[0m\n\u001b[0m\u001b[0;32m     12\u001b[0m     \u001b[0mresult\u001b[0m \u001b[1;33m=\u001b[0m \u001b[0mcursor\u001b[0m\u001b[1;33m.\u001b[0m\u001b[0mfetchall\u001b[0m\u001b[1;33m(\u001b[0m\u001b[1;33m)\u001b[0m\u001b[1;33m\u001b[0m\u001b[1;33m\u001b[0m\u001b[0m\n\u001b[0;32m     13\u001b[0m     \u001b[1;32mfor\u001b[0m \u001b[0mi\u001b[0m \u001b[1;32min\u001b[0m \u001b[0mresult\u001b[0m\u001b[1;33m:\u001b[0m\u001b[1;33m\u001b[0m\u001b[1;33m\u001b[0m\u001b[0m\n",
      "\u001b[1;32mC:\\ProgramData\\Anaconda3\\lib\\site-packages\\mysql\\connector\\cursor.py\u001b[0m in \u001b[0;36mexecute\u001b[1;34m(self, operation, params, multi)\u001b[0m\n\u001b[0;32m    549\u001b[0m         \u001b[1;32melse\u001b[0m\u001b[1;33m:\u001b[0m\u001b[1;33m\u001b[0m\u001b[1;33m\u001b[0m\u001b[0m\n\u001b[0;32m    550\u001b[0m             \u001b[1;32mtry\u001b[0m\u001b[1;33m:\u001b[0m\u001b[1;33m\u001b[0m\u001b[1;33m\u001b[0m\u001b[0m\n\u001b[1;32m--> 551\u001b[1;33m                 \u001b[0mself\u001b[0m\u001b[1;33m.\u001b[0m\u001b[0m_handle_result\u001b[0m\u001b[1;33m(\u001b[0m\u001b[0mself\u001b[0m\u001b[1;33m.\u001b[0m\u001b[0m_connection\u001b[0m\u001b[1;33m.\u001b[0m\u001b[0mcmd_query\u001b[0m\u001b[1;33m(\u001b[0m\u001b[0mstmt\u001b[0m\u001b[1;33m)\u001b[0m\u001b[1;33m)\u001b[0m\u001b[1;33m\u001b[0m\u001b[1;33m\u001b[0m\u001b[0m\n\u001b[0m\u001b[0;32m    552\u001b[0m             \u001b[1;32mexcept\u001b[0m \u001b[0merrors\u001b[0m\u001b[1;33m.\u001b[0m\u001b[0mInterfaceError\u001b[0m\u001b[1;33m:\u001b[0m\u001b[1;33m\u001b[0m\u001b[1;33m\u001b[0m\u001b[0m\n\u001b[0;32m    553\u001b[0m                 \u001b[1;32mif\u001b[0m \u001b[0mself\u001b[0m\u001b[1;33m.\u001b[0m\u001b[0m_connection\u001b[0m\u001b[1;33m.\u001b[0m\u001b[0m_have_next_result\u001b[0m\u001b[1;33m:\u001b[0m  \u001b[1;31m# pylint: disable=W0212\u001b[0m\u001b[1;33m\u001b[0m\u001b[1;33m\u001b[0m\u001b[0m\n",
      "\u001b[1;32mC:\\ProgramData\\Anaconda3\\lib\\site-packages\\mysql\\connector\\connection.py\u001b[0m in \u001b[0;36mcmd_query\u001b[1;34m(self, query, raw, buffered, raw_as_string)\u001b[0m\n\u001b[0;32m    488\u001b[0m         \u001b[1;32mif\u001b[0m \u001b[1;32mnot\u001b[0m \u001b[0misinstance\u001b[0m\u001b[1;33m(\u001b[0m\u001b[0mquery\u001b[0m\u001b[1;33m,\u001b[0m \u001b[0mbytes\u001b[0m\u001b[1;33m)\u001b[0m\u001b[1;33m:\u001b[0m\u001b[1;33m\u001b[0m\u001b[1;33m\u001b[0m\u001b[0m\n\u001b[0;32m    489\u001b[0m             \u001b[0mquery\u001b[0m \u001b[1;33m=\u001b[0m \u001b[0mquery\u001b[0m\u001b[1;33m.\u001b[0m\u001b[0mencode\u001b[0m\u001b[1;33m(\u001b[0m\u001b[1;34m'utf-8'\u001b[0m\u001b[1;33m)\u001b[0m\u001b[1;33m\u001b[0m\u001b[1;33m\u001b[0m\u001b[0m\n\u001b[1;32m--> 490\u001b[1;33m         \u001b[0mresult\u001b[0m \u001b[1;33m=\u001b[0m \u001b[0mself\u001b[0m\u001b[1;33m.\u001b[0m\u001b[0m_handle_result\u001b[0m\u001b[1;33m(\u001b[0m\u001b[0mself\u001b[0m\u001b[1;33m.\u001b[0m\u001b[0m_send_cmd\u001b[0m\u001b[1;33m(\u001b[0m\u001b[0mServerCmd\u001b[0m\u001b[1;33m.\u001b[0m\u001b[0mQUERY\u001b[0m\u001b[1;33m,\u001b[0m \u001b[0mquery\u001b[0m\u001b[1;33m)\u001b[0m\u001b[1;33m)\u001b[0m\u001b[1;33m\u001b[0m\u001b[1;33m\u001b[0m\u001b[0m\n\u001b[0m\u001b[0;32m    491\u001b[0m \u001b[1;33m\u001b[0m\u001b[0m\n\u001b[0;32m    492\u001b[0m         \u001b[1;32mif\u001b[0m \u001b[0mself\u001b[0m\u001b[1;33m.\u001b[0m\u001b[0m_have_next_result\u001b[0m\u001b[1;33m:\u001b[0m\u001b[1;33m\u001b[0m\u001b[1;33m\u001b[0m\u001b[0m\n",
      "\u001b[1;32mC:\\ProgramData\\Anaconda3\\lib\\site-packages\\mysql\\connector\\connection.py\u001b[0m in \u001b[0;36m_handle_result\u001b[1;34m(self, packet)\u001b[0m\n\u001b[0;32m    393\u001b[0m             \u001b[1;32mreturn\u001b[0m \u001b[0mself\u001b[0m\u001b[1;33m.\u001b[0m\u001b[0m_handle_eof\u001b[0m\u001b[1;33m(\u001b[0m\u001b[0mpacket\u001b[0m\u001b[1;33m)\u001b[0m\u001b[1;33m\u001b[0m\u001b[1;33m\u001b[0m\u001b[0m\n\u001b[0;32m    394\u001b[0m         \u001b[1;32melif\u001b[0m \u001b[0mpacket\u001b[0m\u001b[1;33m[\u001b[0m\u001b[1;36m4\u001b[0m\u001b[1;33m]\u001b[0m \u001b[1;33m==\u001b[0m \u001b[1;36m255\u001b[0m\u001b[1;33m:\u001b[0m\u001b[1;33m\u001b[0m\u001b[1;33m\u001b[0m\u001b[0m\n\u001b[1;32m--> 395\u001b[1;33m             \u001b[1;32mraise\u001b[0m \u001b[0merrors\u001b[0m\u001b[1;33m.\u001b[0m\u001b[0mget_exception\u001b[0m\u001b[1;33m(\u001b[0m\u001b[0mpacket\u001b[0m\u001b[1;33m)\u001b[0m\u001b[1;33m\u001b[0m\u001b[1;33m\u001b[0m\u001b[0m\n\u001b[0m\u001b[0;32m    396\u001b[0m \u001b[1;33m\u001b[0m\u001b[0m\n\u001b[0;32m    397\u001b[0m         \u001b[1;31m# We have a text result set\u001b[0m\u001b[1;33m\u001b[0m\u001b[1;33m\u001b[0m\u001b[0m\n",
      "\u001b[1;31mProgrammingError\u001b[0m: 1064 (42000): You have an error in your SQL syntax; check the manual that corresponds to your MariaDB server version for the right syntax to use near '%s' at line 1"
     ]
    }
   ],
   "source": [
    "def CreateConn():\n",
    "    return mysql.connector.connect(host='localhost',database='learnvern'\n",
    "                         ,user='root',password=''\n",
    "                         ,port='3306')\n",
    "\n",
    "def ShowAllDataById(sid):\n",
    "    connect = CreateConn()\n",
    "    cursor = connect.cursor()\n",
    "    args = (sid)\n",
    "    query = 'select * from student3 where sid= %s'\n",
    "    cursor.execute(query,args)\n",
    "    result = cursor.fetchall()\n",
    "    for i in result:\n",
    "        print(i)\n",
    "        \n",
    "ShowAllData()\n",
    "\n",
    "sid = int(input('Enter your Id : '))\n",
    "\n",
    "ShowAllDataById(sid)\n"
   ]
  },
  {
   "cell_type": "markdown",
   "id": "073d9793",
   "metadata": {},
   "source": [
    "# Update data  Delete data"
   ]
  },
  {
   "cell_type": "code",
   "execution_count": 78,
   "id": "61fcff96",
   "metadata": {},
   "outputs": [
    {
     "name": "stdout",
     "output_type": "stream",
     "text": [
      "(1, 'Anil', 'anilkumarsah927@gmail.com', 'Ktm')\n",
      "(2, 'Akash', 'akash@gmail.com', 'Jnk')\n"
     ]
    }
   ],
   "source": [
    "def ShowAllData():\n",
    "    conn = CreateConn()\n",
    "    cursor = conn.cursor()\n",
    "    query = 'select * from student3'\n",
    "    cursor.execute(query)\n",
    "    result = cursor.fetchall()\n",
    "    for i in result:\n",
    "        print(i)\n",
    "        \n",
    "ShowAllData()        "
   ]
  },
  {
   "cell_type": "markdown",
   "id": "fed76003",
   "metadata": {},
   "source": [
    "# update data into database"
   ]
  },
  {
   "cell_type": "code",
   "execution_count": 81,
   "id": "0af24170",
   "metadata": {},
   "outputs": [
    {
     "name": "stdout",
     "output_type": "stream",
     "text": [
      "(1, 'Anil', 'anilkumarsah927@gmail.com', 'Ktm')\n",
      "(2, 'Akash', 'akash@gmail.com', 'Jnk')\n",
      "Enter your Id : 2\n",
      "Enter your Name : Aakash\n",
      "Enter Email : aakash1@gmail.com\n",
      "Enter your City : Ktm\n"
     ]
    },
    {
     "ename": "DatabaseError",
     "evalue": "1205 (HY000): Lock wait timeout exceeded; try restarting transaction",
     "output_type": "error",
     "traceback": [
      "\u001b[1;31m---------------------------------------------------------------------------\u001b[0m",
      "\u001b[1;31mDatabaseError\u001b[0m                             Traceback (most recent call last)",
      "\u001b[1;32m~\\AppData\\Local\\Temp/ipykernel_17968/413335033.py\u001b[0m in \u001b[0;36m<module>\u001b[1;34m\u001b[0m\n\u001b[0;32m     16\u001b[0m \u001b[0mc\u001b[0m \u001b[1;33m=\u001b[0m \u001b[0minput\u001b[0m\u001b[1;33m(\u001b[0m\u001b[1;34m'Enter your City : '\u001b[0m\u001b[1;33m)\u001b[0m\u001b[1;33m\u001b[0m\u001b[1;33m\u001b[0m\u001b[0m\n\u001b[0;32m     17\u001b[0m \u001b[1;33m\u001b[0m\u001b[0m\n\u001b[1;32m---> 18\u001b[1;33m \u001b[0mUpdateData\u001b[0m\u001b[1;33m(\u001b[0m\u001b[0mn\u001b[0m\u001b[1;33m,\u001b[0m\u001b[0me\u001b[0m\u001b[1;33m,\u001b[0m\u001b[0mc\u001b[0m\u001b[1;33m,\u001b[0m\u001b[0msid\u001b[0m\u001b[1;33m)\u001b[0m\u001b[1;33m\u001b[0m\u001b[1;33m\u001b[0m\u001b[0m\n\u001b[0m\u001b[0;32m     19\u001b[0m \u001b[1;33m\u001b[0m\u001b[0m\n\u001b[0;32m     20\u001b[0m \u001b[0mShowAllData\u001b[0m\u001b[1;33m(\u001b[0m\u001b[1;33m)\u001b[0m\u001b[1;33m\u001b[0m\u001b[1;33m\u001b[0m\u001b[0m\n",
      "\u001b[1;32m~\\AppData\\Local\\Temp/ipykernel_17968/413335033.py\u001b[0m in \u001b[0;36mUpdateData\u001b[1;34m(name, email, city, sid)\u001b[0m\n\u001b[0;32m      4\u001b[0m     \u001b[0margs\u001b[0m \u001b[1;33m=\u001b[0m \u001b[1;33m(\u001b[0m\u001b[0mname\u001b[0m\u001b[1;33m,\u001b[0m\u001b[0memail\u001b[0m\u001b[1;33m,\u001b[0m\u001b[0mcity\u001b[0m\u001b[1;33m,\u001b[0m\u001b[0msid\u001b[0m\u001b[1;33m)\u001b[0m\u001b[1;33m\u001b[0m\u001b[1;33m\u001b[0m\u001b[0m\n\u001b[0;32m      5\u001b[0m     \u001b[0mquery\u001b[0m \u001b[1;33m=\u001b[0m \u001b[1;34m'update student3 set name=%s,email=%s,city=%s,sid=%s'\u001b[0m\u001b[1;33m\u001b[0m\u001b[1;33m\u001b[0m\u001b[0m\n\u001b[1;32m----> 6\u001b[1;33m     \u001b[0mcursor\u001b[0m\u001b[1;33m.\u001b[0m\u001b[0mexecute\u001b[0m\u001b[1;33m(\u001b[0m\u001b[0mquery\u001b[0m\u001b[1;33m,\u001b[0m\u001b[0margs\u001b[0m\u001b[1;33m)\u001b[0m\u001b[1;33m\u001b[0m\u001b[1;33m\u001b[0m\u001b[0m\n\u001b[0m\u001b[0;32m      7\u001b[0m     \u001b[0mconn\u001b[0m\u001b[1;33m.\u001b[0m\u001b[0mcommit\u001b[0m\u001b[1;33m(\u001b[0m\u001b[1;33m)\u001b[0m\u001b[1;33m\u001b[0m\u001b[1;33m\u001b[0m\u001b[0m\n\u001b[0;32m      8\u001b[0m     \u001b[0mprint\u001b[0m\u001b[1;33m(\u001b[0m\u001b[1;34m'Data Updated'\u001b[0m\u001b[1;33m)\u001b[0m\u001b[1;33m\u001b[0m\u001b[1;33m\u001b[0m\u001b[0m\n",
      "\u001b[1;32mC:\\ProgramData\\Anaconda3\\lib\\site-packages\\mysql\\connector\\cursor.py\u001b[0m in \u001b[0;36mexecute\u001b[1;34m(self, operation, params, multi)\u001b[0m\n\u001b[0;32m    549\u001b[0m         \u001b[1;32melse\u001b[0m\u001b[1;33m:\u001b[0m\u001b[1;33m\u001b[0m\u001b[1;33m\u001b[0m\u001b[0m\n\u001b[0;32m    550\u001b[0m             \u001b[1;32mtry\u001b[0m\u001b[1;33m:\u001b[0m\u001b[1;33m\u001b[0m\u001b[1;33m\u001b[0m\u001b[0m\n\u001b[1;32m--> 551\u001b[1;33m                 \u001b[0mself\u001b[0m\u001b[1;33m.\u001b[0m\u001b[0m_handle_result\u001b[0m\u001b[1;33m(\u001b[0m\u001b[0mself\u001b[0m\u001b[1;33m.\u001b[0m\u001b[0m_connection\u001b[0m\u001b[1;33m.\u001b[0m\u001b[0mcmd_query\u001b[0m\u001b[1;33m(\u001b[0m\u001b[0mstmt\u001b[0m\u001b[1;33m)\u001b[0m\u001b[1;33m)\u001b[0m\u001b[1;33m\u001b[0m\u001b[1;33m\u001b[0m\u001b[0m\n\u001b[0m\u001b[0;32m    552\u001b[0m             \u001b[1;32mexcept\u001b[0m \u001b[0merrors\u001b[0m\u001b[1;33m.\u001b[0m\u001b[0mInterfaceError\u001b[0m\u001b[1;33m:\u001b[0m\u001b[1;33m\u001b[0m\u001b[1;33m\u001b[0m\u001b[0m\n\u001b[0;32m    553\u001b[0m                 \u001b[1;32mif\u001b[0m \u001b[0mself\u001b[0m\u001b[1;33m.\u001b[0m\u001b[0m_connection\u001b[0m\u001b[1;33m.\u001b[0m\u001b[0m_have_next_result\u001b[0m\u001b[1;33m:\u001b[0m  \u001b[1;31m# pylint: disable=W0212\u001b[0m\u001b[1;33m\u001b[0m\u001b[1;33m\u001b[0m\u001b[0m\n",
      "\u001b[1;32mC:\\ProgramData\\Anaconda3\\lib\\site-packages\\mysql\\connector\\connection.py\u001b[0m in \u001b[0;36mcmd_query\u001b[1;34m(self, query, raw, buffered, raw_as_string)\u001b[0m\n\u001b[0;32m    488\u001b[0m         \u001b[1;32mif\u001b[0m \u001b[1;32mnot\u001b[0m \u001b[0misinstance\u001b[0m\u001b[1;33m(\u001b[0m\u001b[0mquery\u001b[0m\u001b[1;33m,\u001b[0m \u001b[0mbytes\u001b[0m\u001b[1;33m)\u001b[0m\u001b[1;33m:\u001b[0m\u001b[1;33m\u001b[0m\u001b[1;33m\u001b[0m\u001b[0m\n\u001b[0;32m    489\u001b[0m             \u001b[0mquery\u001b[0m \u001b[1;33m=\u001b[0m \u001b[0mquery\u001b[0m\u001b[1;33m.\u001b[0m\u001b[0mencode\u001b[0m\u001b[1;33m(\u001b[0m\u001b[1;34m'utf-8'\u001b[0m\u001b[1;33m)\u001b[0m\u001b[1;33m\u001b[0m\u001b[1;33m\u001b[0m\u001b[0m\n\u001b[1;32m--> 490\u001b[1;33m         \u001b[0mresult\u001b[0m \u001b[1;33m=\u001b[0m \u001b[0mself\u001b[0m\u001b[1;33m.\u001b[0m\u001b[0m_handle_result\u001b[0m\u001b[1;33m(\u001b[0m\u001b[0mself\u001b[0m\u001b[1;33m.\u001b[0m\u001b[0m_send_cmd\u001b[0m\u001b[1;33m(\u001b[0m\u001b[0mServerCmd\u001b[0m\u001b[1;33m.\u001b[0m\u001b[0mQUERY\u001b[0m\u001b[1;33m,\u001b[0m \u001b[0mquery\u001b[0m\u001b[1;33m)\u001b[0m\u001b[1;33m)\u001b[0m\u001b[1;33m\u001b[0m\u001b[1;33m\u001b[0m\u001b[0m\n\u001b[0m\u001b[0;32m    491\u001b[0m \u001b[1;33m\u001b[0m\u001b[0m\n\u001b[0;32m    492\u001b[0m         \u001b[1;32mif\u001b[0m \u001b[0mself\u001b[0m\u001b[1;33m.\u001b[0m\u001b[0m_have_next_result\u001b[0m\u001b[1;33m:\u001b[0m\u001b[1;33m\u001b[0m\u001b[1;33m\u001b[0m\u001b[0m\n",
      "\u001b[1;32mC:\\ProgramData\\Anaconda3\\lib\\site-packages\\mysql\\connector\\connection.py\u001b[0m in \u001b[0;36m_handle_result\u001b[1;34m(self, packet)\u001b[0m\n\u001b[0;32m    393\u001b[0m             \u001b[1;32mreturn\u001b[0m \u001b[0mself\u001b[0m\u001b[1;33m.\u001b[0m\u001b[0m_handle_eof\u001b[0m\u001b[1;33m(\u001b[0m\u001b[0mpacket\u001b[0m\u001b[1;33m)\u001b[0m\u001b[1;33m\u001b[0m\u001b[1;33m\u001b[0m\u001b[0m\n\u001b[0;32m    394\u001b[0m         \u001b[1;32melif\u001b[0m \u001b[0mpacket\u001b[0m\u001b[1;33m[\u001b[0m\u001b[1;36m4\u001b[0m\u001b[1;33m]\u001b[0m \u001b[1;33m==\u001b[0m \u001b[1;36m255\u001b[0m\u001b[1;33m:\u001b[0m\u001b[1;33m\u001b[0m\u001b[1;33m\u001b[0m\u001b[0m\n\u001b[1;32m--> 395\u001b[1;33m             \u001b[1;32mraise\u001b[0m \u001b[0merrors\u001b[0m\u001b[1;33m.\u001b[0m\u001b[0mget_exception\u001b[0m\u001b[1;33m(\u001b[0m\u001b[0mpacket\u001b[0m\u001b[1;33m)\u001b[0m\u001b[1;33m\u001b[0m\u001b[1;33m\u001b[0m\u001b[0m\n\u001b[0m\u001b[0;32m    396\u001b[0m \u001b[1;33m\u001b[0m\u001b[0m\n\u001b[0;32m    397\u001b[0m         \u001b[1;31m# We have a text result set\u001b[0m\u001b[1;33m\u001b[0m\u001b[1;33m\u001b[0m\u001b[0m\n",
      "\u001b[1;31mDatabaseError\u001b[0m: 1205 (HY000): Lock wait timeout exceeded; try restarting transaction"
     ]
    }
   ],
   "source": [
    "def UpdateData(name,email,city,sid):\n",
    "    conn = CreateConn()\n",
    "    cursor = conn.cursor()\n",
    "    args = (name,email,city,sid)\n",
    "    query = 'update student3 set name=%s,email=%s,city=%s,sid=%s'\n",
    "    cursor.execute(query,args)\n",
    "    conn.commit()\n",
    "    print('Data Updated')\n",
    "    conn.close()\n",
    "    \n",
    "ShowAllData()\n",
    "\n",
    "ssid = int(input('Enter your Id : '))\n",
    "n = input('Enter your Name : ')\n",
    "e = input('Enter Email : ')\n",
    "c = input('Enter your City : ')\n",
    "\n",
    "UpdateData(n,e,c,sid)\n",
    "\n",
    "ShowAllData()"
   ]
  },
  {
   "cell_type": "code",
   "execution_count": 11,
   "id": "68293342",
   "metadata": {},
   "outputs": [],
   "source": [
    "import mysql.connector  #importing database\n",
    "\n",
    "database = mysql.connector.connect(\n",
    "  host=\"localhost\",\n",
    "  user='root',\n",
    "  password=\"\",\n",
    "  database='anilkumarsah'                                 \n",
    ")\n",
    "db = database.cursor()\n",
    "\n",
    "\n",
    "\n",
    "# import mysql.connector  #importing database​\n",
    "# ​\n",
    "# database = mysql.connector.connect(​\n",
    "#   host=\"localhost\",​\n",
    "#   user=“root\",​\n",
    "#   password=“”,​\n",
    "\n",
    "#   database = “”​\n",
    "# )​\n",
    "# db = database.cursor()​\n",
    "# ​\n",
    "# db.execute(“CREATE  TABLE  subject(id INT, name VARCHAR(255))”)\n",
    "# ​"
   ]
  },
  {
   "cell_type": "code",
   "execution_count": null,
   "id": "34906fdd",
   "metadata": {},
   "outputs": [],
   "source": [
    "# CRUD\n",
    "# C-Create\n",
    "# R-Read\n",
    "# u-update\n",
    "# d-delete"
   ]
  },
  {
   "cell_type": "code",
   "execution_count": 23,
   "id": "687ba5c7",
   "metadata": {},
   "outputs": [
    {
     "name": "stdout",
     "output_type": "stream",
     "text": [
      "(2, 'Akash', 23, 45, 78, 90, 67, 89, 670, 80.0, 'A+')\n",
      "(4, 'Akash', 23, 45, 78, 90, 67, 89, 670, 80.0, 'A+')\n"
     ]
    }
   ],
   "source": [
    "#read\n",
    "db.execute('SELECT * FROM student')\n",
    "result = db.fetchall()\n",
    "for x in result:\n",
    "    print(x)"
   ]
  },
  {
   "cell_type": "code",
   "execution_count": 24,
   "id": "9ec86f9c",
   "metadata": {},
   "outputs": [
    {
     "name": "stdout",
     "output_type": "stream",
     "text": [
      "('Sn', 'Name', 'Class')\n",
      "('Sn', 'Name', 'Class')\n"
     ]
    }
   ],
   "source": [
    "#Read\n",
    "db.execute(\"SELECT 'Sn', 'Name', 'Class' FROM student\")\n",
    "result = db.fetchall()\n",
    "for x in result:\n",
    "    print(x)"
   ]
  },
  {
   "cell_type": "code",
   "execution_count": null,
   "id": "c74d2170",
   "metadata": {},
   "outputs": [],
   "source": [
    "# def CreateConn():\n",
    "#     return mysql.connector.connect(host='localhost',database='learnvern'\n",
    "#                          ,user='root',password=''\n",
    "#                          ,port='3306')\n",
    "\n",
    "# def CreateTable():\n",
    "#     conn = CreateConn()\n",
    "#     cursor = conn.cursor()\n",
    "#     query = 'create table student3(sid int primary key auto_increment,name VARCHAR(50),email VARCHAR(50),city VARCHAR(50))'\n",
    "#     cursor.execute(query)\n",
    "#     conn.commit()\n",
    "#     print('Table Created')\n",
    "#     conn.close()\n",
    "# CreateTable()   \n"
   ]
  },
  {
   "cell_type": "code",
   "execution_count": 43,
   "id": "fb457f27",
   "metadata": {},
   "outputs": [],
   "source": [
    "sql = \"INSERT INTO student(Name, Class, Chemistry, Nepali, Math, English, Physics, Total, Percentage, Grade)VALUES ('Akash',23,45,78,90,67,89,670,80.0,'A+')\"\n",
    "db.execute(sql)\n",
    "\n",
    "database.commit()"
   ]
  },
  {
   "cell_type": "code",
   "execution_count": null,
   "id": "3ba3c488",
   "metadata": {},
   "outputs": [],
   "source": [
    "# wap to take input multiple data from users and add it on database "
   ]
  },
  {
   "cell_type": "code",
   "execution_count": 15,
   "id": "12459ec1",
   "metadata": {},
   "outputs": [],
   "source": [
    "sql = \"INSERT INTO student(Name, Class, Chemistry, Nepali, Math, English, Physics, Total, Percentage, Grade)VALUES ('Pooran',50,69,62,60,60,69,590,64.0,'A')\"\n",
    "db.execute(sql)\n",
    "\n",
    "database.commit()"
   ]
  },
  {
   "cell_type": "code",
   "execution_count": 34,
   "id": "0ee21412",
   "metadata": {},
   "outputs": [
    {
     "name": "stdout",
     "output_type": "stream",
     "text": [
      "Enter n = 1\n",
      "Enter Name = Anill\n",
      "Enter Clas = 12\n",
      "Enter Physics Marks = 70\n",
      "Enter Chemistry Marks = 67\n",
      "Enter Math Marks = 68\n",
      "Enter Nepali Marks = 57\n",
      "Enter English Marks = 68\n"
     ]
    }
   ],
   "source": [
    "n = int(input('Enter n = '))\n",
    "for i in range(n):\n",
    "    name = input('Enter Name = ')\n",
    "    clas = int(input('Enter Clas = '))\n",
    "    physics = int(input('Enter Physics Marks = '))\n",
    "    chemistry = int(input('Enter Chemistry Marks = '))\n",
    "    math = int(input('Enter Math Marks = '))\n",
    "    nepali = int(input('Enter Nepali Marks = '))\n",
    "    english = int(input('Enter English Marks = '))\n",
    "    total = sum([physics,chemistry,math,nepali,english])\n",
    "    per = total/5\n",
    "    if per>80:\n",
    "        grade = 'A'\n",
    "        \n",
    "    elif per>70:\n",
    "        grade = 'B'\n",
    "    elif per>60:\n",
    "        grade = 'C'\n",
    "    else:\n",
    "        grade = 'F'\n",
    "    \n",
    "    sql = f\"INSERT INTO student (Name, Class, Physics, Chemistry, Math, English, Nepali, Total, Percentage, Grade)VALUES ('{name}',{clas},{physics},{chemistry},{math},{english},{nepali},{total},{per},'{grade}')\"\n",
    "    db.execute(sql)\n",
    "    \n",
    "database.commit()    "
   ]
  },
  {
   "cell_type": "code",
   "execution_count": 19,
   "id": "4535588f",
   "metadata": {},
   "outputs": [],
   "source": [
    "sql = 'DELETE FROM student WHERE Sn = 3'\n",
    "db.execute(sql)\n",
    "database.commit()"
   ]
  },
  {
   "cell_type": "code",
   "execution_count": 22,
   "id": "5a7adffb",
   "metadata": {},
   "outputs": [],
   "source": [
    "sql = \"DELETE FROM student WHERE Grade = 'A'\"\n",
    "db.execute(sql)\n",
    "database.commit()"
   ]
  },
  {
   "cell_type": "code",
   "execution_count": 33,
   "id": "e9391390",
   "metadata": {},
   "outputs": [],
   "source": [
    "sql = \"UPDATE student SET Name = 'Anil' WHERE Name = 'Akash' \"\n",
    "db.execute(sql)\n",
    "database.commit()"
   ]
  },
  {
   "cell_type": "code",
   "execution_count": null,
   "id": "2f2ffbbe",
   "metadata": {},
   "outputs": [],
   "source": []
  }
 ],
 "metadata": {
  "kernelspec": {
   "display_name": "Python 3 (ipykernel)",
   "language": "python",
   "name": "python3"
  },
  "language_info": {
   "codemirror_mode": {
    "name": "ipython",
    "version": 3
   },
   "file_extension": ".py",
   "mimetype": "text/x-python",
   "name": "python",
   "nbconvert_exporter": "python",
   "pygments_lexer": "ipython3",
   "version": "3.9.7"
  }
 },
 "nbformat": 4,
 "nbformat_minor": 5
}
